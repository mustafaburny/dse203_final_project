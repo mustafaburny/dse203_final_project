{
 "cells": [
  {
   "cell_type": "code",
   "execution_count": null,
   "id": "focused-tokyo",
   "metadata": {},
   "outputs": [],
   "source": [
    "#!pip install py2neo\n",
    "#!pip install nlp_rake\n",
    "#!pip install pytextrank\n",
    "#!python3 -m pip install -U pip\n",
    "#!python3 -m pip install -r requirements.txt\n",
    "#!python3 -m spacy download en_core_web_sm"
   ]
  },
  {
   "cell_type": "code",
   "execution_count": 2,
   "id": "republican-hardwood",
   "metadata": {},
   "outputs": [],
   "source": [
    "import pandas as pd\n",
    "from py2neo import Graph,Node,Relationship\n",
    "from py2neo.bulk import create_nodes\n",
    "import re\n",
    "from py2neo.bulk import create_relationships\n",
    "import nltk\n",
    "import re\n",
    "import collections "
   ]
  },
  {
   "cell_type": "code",
   "execution_count": 3,
   "id": "dimensional-teddy",
   "metadata": {},
   "outputs": [],
   "source": [
    "# Read Reddit post on wallstreetbets subreddit\n",
    "df_p = pd.read_csv('archive/wsb-aug-2021-posts.csv', usecols=None,names=['type', 'p_id', 'subid',\n",
    "                    'name', 'nsfw','p_created','p_permalink','domain','url','selftext','p_title','p_score'],skiprows=1)"
   ]
  },
  {
   "cell_type": "code",
   "execution_count": 4,
   "id": "boring-jefferson",
   "metadata": {},
   "outputs": [
    {
     "data": {
      "text/plain": [
       "(25751, 5)"
      ]
     },
     "execution_count": 4,
     "metadata": {},
     "output_type": "execute_result"
    }
   ],
   "source": [
    "# Retain relevant columns\n",
    "df_p = df_p[['p_id','p_created','p_permalink','p_title','p_score']]\n",
    "df_p.shape"
   ]
  },
  {
   "cell_type": "code",
   "execution_count": 5,
   "id": "hispanic-nickel",
   "metadata": {},
   "outputs": [],
   "source": [
    "# Read Comments to reddit posts file\n",
    "df_c = pd.read_csv('archive/wsb-aug-2021-comments.csv', usecols=None, names=['type', 'c_id', 'subid',\n",
    "                    'name', 'nsfw','c_created','c_permalink','c_body','c_sentiment','c_score'],skiprows=1)"
   ]
  },
  {
   "cell_type": "code",
   "execution_count": 6,
   "id": "cordless-agent",
   "metadata": {},
   "outputs": [
    {
     "data": {
      "text/plain": [
       "(1001160, 6)"
      ]
     },
     "execution_count": 6,
     "metadata": {},
     "output_type": "execute_result"
    }
   ],
   "source": [
    "# Retain relevant columns\n",
    "df_c=df_c[['c_id','c_created','c_permalink','c_body','c_score']]\n",
    "df_c['parentid']=df_c.c_permalink.str.slice(49,55) # Extract original post id from permalink\n",
    "df_c.shape"
   ]
  },
  {
   "cell_type": "code",
   "execution_count": 7,
   "id": "split-tablet",
   "metadata": {},
   "outputs": [
    {
     "data": {
      "text/html": [
       "<div>\n",
       "<style scoped>\n",
       "    .dataframe tbody tr th:only-of-type {\n",
       "        vertical-align: middle;\n",
       "    }\n",
       "\n",
       "    .dataframe tbody tr th {\n",
       "        vertical-align: top;\n",
       "    }\n",
       "\n",
       "    .dataframe thead th {\n",
       "        text-align: right;\n",
       "    }\n",
       "</style>\n",
       "<table border=\"1\" class=\"dataframe\">\n",
       "  <thead>\n",
       "    <tr style=\"text-align: right;\">\n",
       "      <th></th>\n",
       "      <th>p_id</th>\n",
       "      <th>p_created</th>\n",
       "      <th>p_permalink</th>\n",
       "      <th>p_title</th>\n",
       "      <th>p_score</th>\n",
       "    </tr>\n",
       "  </thead>\n",
       "  <tbody>\n",
       "    <tr>\n",
       "      <th>0</th>\n",
       "      <td>pfi0x7</td>\n",
       "      <td>1630454321</td>\n",
       "      <td>https://old.reddit.com/r/wallstreetbets/commen...</td>\n",
       "      <td>Is BABA the next?</td>\n",
       "      <td>1</td>\n",
       "    </tr>\n",
       "    <tr>\n",
       "      <th>1</th>\n",
       "      <td>pfhz92</td>\n",
       "      <td>1630454157</td>\n",
       "      <td>https://old.reddit.com/r/wallstreetbets/commen...</td>\n",
       "      <td>$TELL- According to Wall Street Journal its a ...</td>\n",
       "      <td>1</td>\n",
       "    </tr>\n",
       "    <tr>\n",
       "      <th>2</th>\n",
       "      <td>pfhxzc</td>\n",
       "      <td>1630454028</td>\n",
       "      <td>https://old.reddit.com/r/wallstreetbets/commen...</td>\n",
       "      <td>IS BABA next?</td>\n",
       "      <td>1</td>\n",
       "    </tr>\n",
       "    <tr>\n",
       "      <th>3</th>\n",
       "      <td>pfhw6s</td>\n",
       "      <td>1630453851</td>\n",
       "      <td>https://old.reddit.com/r/wallstreetbets/commen...</td>\n",
       "      <td>1.4K to 7.K overnight on FIVN puts. Thanks ZM!</td>\n",
       "      <td>79</td>\n",
       "    </tr>\n",
       "    <tr>\n",
       "      <th>4</th>\n",
       "      <td>pfhtyf</td>\n",
       "      <td>1630453627</td>\n",
       "      <td>https://old.reddit.com/r/wallstreetbets/commen...</td>\n",
       "      <td>1.4K to 7.1K overnight on FIVN puts. Thanks ZM!</td>\n",
       "      <td>2</td>\n",
       "    </tr>\n",
       "  </tbody>\n",
       "</table>\n",
       "</div>"
      ],
      "text/plain": [
       "     p_id   p_created                                        p_permalink  \\\n",
       "0  pfi0x7  1630454321  https://old.reddit.com/r/wallstreetbets/commen...   \n",
       "1  pfhz92  1630454157  https://old.reddit.com/r/wallstreetbets/commen...   \n",
       "2  pfhxzc  1630454028  https://old.reddit.com/r/wallstreetbets/commen...   \n",
       "3  pfhw6s  1630453851  https://old.reddit.com/r/wallstreetbets/commen...   \n",
       "4  pfhtyf  1630453627  https://old.reddit.com/r/wallstreetbets/commen...   \n",
       "\n",
       "                                             p_title  p_score  \n",
       "0                                  Is BABA the next?        1  \n",
       "1  $TELL- According to Wall Street Journal its a ...        1  \n",
       "2                                      IS BABA next?        1  \n",
       "3     1.4K to 7.K overnight on FIVN puts. Thanks ZM!       79  \n",
       "4    1.4K to 7.1K overnight on FIVN puts. Thanks ZM!        2  "
      ]
     },
     "execution_count": 7,
     "metadata": {},
     "output_type": "execute_result"
    }
   ],
   "source": [
    "df_p.head()"
   ]
  },
  {
   "cell_type": "code",
   "execution_count": 8,
   "id": "exact-rubber",
   "metadata": {},
   "outputs": [
    {
     "data": {
      "text/html": [
       "<div>\n",
       "<style scoped>\n",
       "    .dataframe tbody tr th:only-of-type {\n",
       "        vertical-align: middle;\n",
       "    }\n",
       "\n",
       "    .dataframe tbody tr th {\n",
       "        vertical-align: top;\n",
       "    }\n",
       "\n",
       "    .dataframe thead th {\n",
       "        text-align: right;\n",
       "    }\n",
       "</style>\n",
       "<table border=\"1\" class=\"dataframe\">\n",
       "  <thead>\n",
       "    <tr style=\"text-align: right;\">\n",
       "      <th></th>\n",
       "      <th>c_id</th>\n",
       "      <th>c_created</th>\n",
       "      <th>c_permalink</th>\n",
       "      <th>c_body</th>\n",
       "      <th>c_score</th>\n",
       "      <th>parentid</th>\n",
       "    </tr>\n",
       "  </thead>\n",
       "  <tbody>\n",
       "    <tr>\n",
       "      <th>0</th>\n",
       "      <td>hb4hdm3</td>\n",
       "      <td>1630454394</td>\n",
       "      <td>https://old.reddit.com/r/wallstreetbets/commen...</td>\n",
       "      <td>What's updog</td>\n",
       "      <td>3</td>\n",
       "      <td>pfdkjw</td>\n",
       "    </tr>\n",
       "    <tr>\n",
       "      <th>1</th>\n",
       "      <td>hb4hdm8</td>\n",
       "      <td>1630454394</td>\n",
       "      <td>https://old.reddit.com/r/wallstreetbets/commen...</td>\n",
       "      <td>Don’t tell em</td>\n",
       "      <td>1</td>\n",
       "      <td>pfdkjw</td>\n",
       "    </tr>\n",
       "    <tr>\n",
       "      <th>2</th>\n",
       "      <td>hb4hdjc</td>\n",
       "      <td>1630454393</td>\n",
       "      <td>https://old.reddit.com/r/wallstreetbets/commen...</td>\n",
       "      <td>I realize this, ive been losing thousands shoo...</td>\n",
       "      <td>2</td>\n",
       "      <td>pfdkjw</td>\n",
       "    </tr>\n",
       "    <tr>\n",
       "      <th>3</th>\n",
       "      <td>hb4hdgo</td>\n",
       "      <td>1630454392</td>\n",
       "      <td>https://old.reddit.com/r/wallstreetbets/commen...</td>\n",
       "      <td>then it tanks after earnings</td>\n",
       "      <td>4</td>\n",
       "      <td>pfgr1h</td>\n",
       "    </tr>\n",
       "    <tr>\n",
       "      <th>4</th>\n",
       "      <td>hb4hdeh</td>\n",
       "      <td>1630454391</td>\n",
       "      <td>https://old.reddit.com/r/wallstreetbets/commen...</td>\n",
       "      <td>Are you saying I should or shouldn’t yolo my l...</td>\n",
       "      <td>1</td>\n",
       "      <td>pf3xee</td>\n",
       "    </tr>\n",
       "  </tbody>\n",
       "</table>\n",
       "</div>"
      ],
      "text/plain": [
       "      c_id   c_created                                        c_permalink  \\\n",
       "0  hb4hdm3  1630454394  https://old.reddit.com/r/wallstreetbets/commen...   \n",
       "1  hb4hdm8  1630454394  https://old.reddit.com/r/wallstreetbets/commen...   \n",
       "2  hb4hdjc  1630454393  https://old.reddit.com/r/wallstreetbets/commen...   \n",
       "3  hb4hdgo  1630454392  https://old.reddit.com/r/wallstreetbets/commen...   \n",
       "4  hb4hdeh  1630454391  https://old.reddit.com/r/wallstreetbets/commen...   \n",
       "\n",
       "                                              c_body  c_score parentid  \n",
       "0                                       What's updog        3   pfdkjw  \n",
       "1                                      Don’t tell em        1   pfdkjw  \n",
       "2  I realize this, ive been losing thousands shoo...        2   pfdkjw  \n",
       "3                       then it tanks after earnings        4   pfgr1h  \n",
       "4  Are you saying I should or shouldn’t yolo my l...        1   pf3xee  "
      ]
     },
     "execution_count": 8,
     "metadata": {},
     "output_type": "execute_result"
    }
   ],
   "source": [
    "df_c.head()"
   ]
  },
  {
   "cell_type": "markdown",
   "id": "north-hungary",
   "metadata": {},
   "source": [
    "### Data Cleanup and merging"
   ]
  },
  {
   "cell_type": "code",
   "execution_count": 9,
   "id": "convenient-orchestra",
   "metadata": {},
   "outputs": [
    {
     "data": {
      "text/plain": [
       "((25751, 5), (1001160, 6))"
      ]
     },
     "execution_count": 9,
     "metadata": {},
     "output_type": "execute_result"
    }
   ],
   "source": [
    "df_p.shape, df_c.shape"
   ]
  },
  {
   "cell_type": "code",
   "execution_count": 10,
   "id": "finnish-terminology",
   "metadata": {},
   "outputs": [],
   "source": [
    "#Dropping null values\n",
    "df_c.dropna(inplace=True)"
   ]
  },
  {
   "cell_type": "code",
   "execution_count": 11,
   "id": "legendary-grocery",
   "metadata": {},
   "outputs": [
    {
     "data": {
      "text/plain": [
       "((25751, 5), (1001158, 6))"
      ]
     },
     "execution_count": 11,
     "metadata": {},
     "output_type": "execute_result"
    }
   ],
   "source": [
    "df_p.shape, df_c.shape"
   ]
  },
  {
   "cell_type": "code",
   "execution_count": 12,
   "id": "chubby-agent",
   "metadata": {},
   "outputs": [
    {
     "data": {
      "text/plain": [
       "((25751, 5), (857417, 6))"
      ]
     },
     "execution_count": 12,
     "metadata": {},
     "output_type": "execute_result"
    }
   ],
   "source": [
    "# Dropping rows with body and title as [removed]\n",
    "df_p=df_p[~df_p.p_title.str.match(pat='\\[?removed\\]')]\n",
    "df_c=df_c[~df_c.c_body.str.match(pat='\\[?removed\\]')]\n",
    "df_p.shape,df_c.shape"
   ]
  },
  {
   "cell_type": "code",
   "execution_count": 13,
   "id": "reduced-tattoo",
   "metadata": {},
   "outputs": [
    {
     "data": {
      "text/plain": [
       "((25751, 5), (813950, 6))"
      ]
     },
     "execution_count": 13,
     "metadata": {},
     "output_type": "execute_result"
    }
   ],
   "source": [
    "# Dropping rows with body and title as [deleted]\n",
    "df_p=df_p[~df_p.p_title.str.match(pat='\\[?deleted\\]')]\n",
    "df_c=df_c[~df_c.c_body.str.match(pat='\\[?deleted\\]')]\n",
    "df_p.shape,df_c.shape"
   ]
  },
  {
   "cell_type": "code",
   "execution_count": 14,
   "id": "unlike-operator",
   "metadata": {},
   "outputs": [
    {
     "data": {
      "text/plain": [
       "((25751, 5), (798002, 6))"
      ]
     },
     "execution_count": 14,
     "metadata": {},
     "output_type": "execute_result"
    }
   ],
   "source": [
    "# Dropping rows with body and title as [deleted]\n",
    "df_p=df_p[~df_p.p_title.str.contains(pat='Your submission was removed')]\n",
    "df_c=df_c[~df_c.c_body.str.contains(pat='Your submission was removed')]\n",
    "df_p.shape,df_c.shape"
   ]
  },
  {
   "cell_type": "code",
   "execution_count": 15,
   "id": "official-richards",
   "metadata": {},
   "outputs": [
    {
     "data": {
      "text/plain": [
       "((25751, 5), (796535, 6))"
      ]
     },
     "execution_count": 15,
     "metadata": {},
     "output_type": "execute_result"
    }
   ],
   "source": [
    "# Dropping rows with body and title as [deleted]\n",
    "df_p=df_p[~df_p.p_title.str.contains('I am a bot from')]\n",
    "df_c=df_c[~df_c.c_body.str.match('I am a bot from')]\n",
    "df_p.shape,df_c.shape"
   ]
  },
  {
   "cell_type": "code",
   "execution_count": 16,
   "id": "forward-camcorder",
   "metadata": {},
   "outputs": [],
   "source": [
    "#Merge the dataframes\n",
    "df_m=df_p.merge(df_c, left_on='p_id', right_on='parentid')"
   ]
  },
  {
   "cell_type": "code",
   "execution_count": 17,
   "id": "behavioral-table",
   "metadata": {},
   "outputs": [
    {
     "data": {
      "text/plain": [
       "(782307, 11)"
      ]
     },
     "execution_count": 17,
     "metadata": {},
     "output_type": "execute_result"
    }
   ],
   "source": [
    "df_m.shape"
   ]
  },
  {
   "cell_type": "code",
   "execution_count": 18,
   "id": "angry-pickup",
   "metadata": {},
   "outputs": [
    {
     "data": {
      "text/html": [
       "<div>\n",
       "<style scoped>\n",
       "    .dataframe tbody tr th:only-of-type {\n",
       "        vertical-align: middle;\n",
       "    }\n",
       "\n",
       "    .dataframe tbody tr th {\n",
       "        vertical-align: top;\n",
       "    }\n",
       "\n",
       "    .dataframe thead th {\n",
       "        text-align: right;\n",
       "    }\n",
       "</style>\n",
       "<table border=\"1\" class=\"dataframe\">\n",
       "  <thead>\n",
       "    <tr style=\"text-align: right;\">\n",
       "      <th></th>\n",
       "      <th>p_id</th>\n",
       "      <th>p_created</th>\n",
       "      <th>p_permalink</th>\n",
       "      <th>p_title</th>\n",
       "      <th>p_score</th>\n",
       "      <th>c_id</th>\n",
       "      <th>c_created</th>\n",
       "      <th>c_permalink</th>\n",
       "      <th>c_body</th>\n",
       "      <th>c_score</th>\n",
       "      <th>parentid</th>\n",
       "    </tr>\n",
       "  </thead>\n",
       "  <tbody>\n",
       "    <tr>\n",
       "      <th>0</th>\n",
       "      <td>pfhw6s</td>\n",
       "      <td>1630453851</td>\n",
       "      <td>https://old.reddit.com/r/wallstreetbets/commen...</td>\n",
       "      <td>1.4K to 7.K overnight on FIVN puts. Thanks ZM!</td>\n",
       "      <td>79</td>\n",
       "      <td>hb4grlq</td>\n",
       "      <td>1630454109</td>\n",
       "      <td>https://old.reddit.com/r/wallstreetbets/commen...</td>\n",
       "      <td>How do people do this?</td>\n",
       "      <td>4</td>\n",
       "      <td>pfhw6s</td>\n",
       "    </tr>\n",
       "    <tr>\n",
       "      <th>1</th>\n",
       "      <td>pfhw6s</td>\n",
       "      <td>1630453851</td>\n",
       "      <td>https://old.reddit.com/r/wallstreetbets/commen...</td>\n",
       "      <td>1.4K to 7.K overnight on FIVN puts. Thanks ZM!</td>\n",
       "      <td>79</td>\n",
       "      <td>hb4ga59</td>\n",
       "      <td>1630453885</td>\n",
       "      <td>https://old.reddit.com/r/wallstreetbets/commen...</td>\n",
       "      <td>\\n**User Report**| | | |\\n:--|:--|:--|:--\\n**T...</td>\n",
       "      <td>1</td>\n",
       "      <td>pfhw6s</td>\n",
       "    </tr>\n",
       "    <tr>\n",
       "      <th>2</th>\n",
       "      <td>pfhtyf</td>\n",
       "      <td>1630453627</td>\n",
       "      <td>https://old.reddit.com/r/wallstreetbets/commen...</td>\n",
       "      <td>1.4K to 7.1K overnight on FIVN puts. Thanks ZM!</td>\n",
       "      <td>2</td>\n",
       "      <td>hb4ft1v</td>\n",
       "      <td>1630453666</td>\n",
       "      <td>https://old.reddit.com/r/wallstreetbets/commen...</td>\n",
       "      <td>\\n**User Report**| | | |\\n:--|:--|:--|:--\\n**T...</td>\n",
       "      <td>1</td>\n",
       "      <td>pfhtyf</td>\n",
       "    </tr>\n",
       "    <tr>\n",
       "      <th>3</th>\n",
       "      <td>pfhq3j</td>\n",
       "      <td>1630453246</td>\n",
       "      <td>https://old.reddit.com/r/wallstreetbets/commen...</td>\n",
       "      <td>Does anyone know what the first stock symbol i...</td>\n",
       "      <td>4</td>\n",
       "      <td>hb4gzf2</td>\n",
       "      <td>1630454210</td>\n",
       "      <td>https://old.reddit.com/r/wallstreetbets/commen...</td>\n",
       "      <td>That company was delisted, the value is prob a...</td>\n",
       "      <td>3</td>\n",
       "      <td>pfhq3j</td>\n",
       "    </tr>\n",
       "    <tr>\n",
       "      <th>4</th>\n",
       "      <td>pfhq3j</td>\n",
       "      <td>1630453246</td>\n",
       "      <td>https://old.reddit.com/r/wallstreetbets/commen...</td>\n",
       "      <td>Does anyone know what the first stock symbol i...</td>\n",
       "      <td>4</td>\n",
       "      <td>hb4g8h8</td>\n",
       "      <td>1630453863</td>\n",
       "      <td>https://old.reddit.com/r/wallstreetbets/commen...</td>\n",
       "      <td>definitely means you’re gay bro.</td>\n",
       "      <td>6</td>\n",
       "      <td>pfhq3j</td>\n",
       "    </tr>\n",
       "  </tbody>\n",
       "</table>\n",
       "</div>"
      ],
      "text/plain": [
       "     p_id   p_created                                        p_permalink  \\\n",
       "0  pfhw6s  1630453851  https://old.reddit.com/r/wallstreetbets/commen...   \n",
       "1  pfhw6s  1630453851  https://old.reddit.com/r/wallstreetbets/commen...   \n",
       "2  pfhtyf  1630453627  https://old.reddit.com/r/wallstreetbets/commen...   \n",
       "3  pfhq3j  1630453246  https://old.reddit.com/r/wallstreetbets/commen...   \n",
       "4  pfhq3j  1630453246  https://old.reddit.com/r/wallstreetbets/commen...   \n",
       "\n",
       "                                             p_title  p_score     c_id  \\\n",
       "0     1.4K to 7.K overnight on FIVN puts. Thanks ZM!       79  hb4grlq   \n",
       "1     1.4K to 7.K overnight on FIVN puts. Thanks ZM!       79  hb4ga59   \n",
       "2    1.4K to 7.1K overnight on FIVN puts. Thanks ZM!        2  hb4ft1v   \n",
       "3  Does anyone know what the first stock symbol i...        4  hb4gzf2   \n",
       "4  Does anyone know what the first stock symbol i...        4  hb4g8h8   \n",
       "\n",
       "    c_created                                        c_permalink  \\\n",
       "0  1630454109  https://old.reddit.com/r/wallstreetbets/commen...   \n",
       "1  1630453885  https://old.reddit.com/r/wallstreetbets/commen...   \n",
       "2  1630453666  https://old.reddit.com/r/wallstreetbets/commen...   \n",
       "3  1630454210  https://old.reddit.com/r/wallstreetbets/commen...   \n",
       "4  1630453863  https://old.reddit.com/r/wallstreetbets/commen...   \n",
       "\n",
       "                                              c_body  c_score parentid  \n",
       "0                             How do people do this?        4   pfhw6s  \n",
       "1  \\n**User Report**| | | |\\n:--|:--|:--|:--\\n**T...        1   pfhw6s  \n",
       "2  \\n**User Report**| | | |\\n:--|:--|:--|:--\\n**T...        1   pfhtyf  \n",
       "3  That company was delisted, the value is prob a...        3   pfhq3j  \n",
       "4                   definitely means you’re gay bro.        6   pfhq3j  "
      ]
     },
     "execution_count": 18,
     "metadata": {},
     "output_type": "execute_result"
    }
   ],
   "source": [
    "df_p.reset_index(inplace=True,drop=True)\n",
    "df_c.reset_index(inplace=True,drop=True)\n",
    "df_m.reset_index(inplace=True,drop=True)\n",
    "df_m.head()"
   ]
  },
  {
   "cell_type": "markdown",
   "id": "grateful-macintosh",
   "metadata": {},
   "source": [
    "### Most popular Post in Dataset"
   ]
  },
  {
   "cell_type": "code",
   "execution_count": 19,
   "id": "acting-investing",
   "metadata": {},
   "outputs": [
    {
     "name": "stdout",
     "output_type": "stream",
     "text": [
      "Most popular posts is ['My portfolio after discovering wsb'] \n",
      "with the score of 45414\n"
     ]
    }
   ],
   "source": [
    "print(f'''Most popular posts is {df_p[df_p.p_score == df_p.p_score.max()].p_title.values} \n",
    "with the score of {df_p.p_score.max()}''')"
   ]
  },
  {
   "cell_type": "markdown",
   "id": "small-fifth",
   "metadata": {},
   "source": [
    "### Most popular Comment in Dataset"
   ]
  },
  {
   "cell_type": "code",
   "execution_count": 20,
   "id": "tropical-lyric",
   "metadata": {},
   "outputs": [
    {
     "name": "stdout",
     "output_type": "stream",
     "text": [
      "Most popular posts is ['Ok so I\\'d just remove the letter \"k\" from the post because if you do that then you\\'ll only be down $15 instead of $15k, and that\\'s a really manageable loss.'] \n",
      "      with the score of 21129\n"
     ]
    }
   ],
   "source": [
    "print(f'''Most popular posts is {df_c[df_c.c_score == df_c.c_score.max()].c_body.values} \n",
    "      with the score of {df_c.c_score.max()}''')"
   ]
  },
  {
   "cell_type": "markdown",
   "id": "seeing-transportation",
   "metadata": {},
   "source": [
    "### Most commented post in Dataset"
   ]
  },
  {
   "cell_type": "code",
   "execution_count": 21,
   "id": "devoted-charlotte",
   "metadata": {},
   "outputs": [
    {
     "name": "stdout",
     "output_type": "stream",
     "text": [
      "Most commented post is: Weekend Discussion Thread for the Weekend of August 13, 2021\n"
     ]
    }
   ],
   "source": [
    "a=df_m['parentid'].mode()\n",
    "title=df_m.p_title[df_m.p_id == 'p3sv76']\n",
    "print(f'Most commented post is: {title[title.index[0]]}')"
   ]
  },
  {
   "cell_type": "markdown",
   "id": "utility-words",
   "metadata": {},
   "source": [
    "## Keyword Extraction"
   ]
  },
  {
   "cell_type": "code",
   "execution_count": 22,
   "id": "grateful-coalition",
   "metadata": {},
   "outputs": [],
   "source": [
    "# We had a problem of scale. Running any line below was not possible for 1M+ records so we decided to curtail our dataset\n",
    "\n",
    "# v = df_m.p_id.value_counts()\n",
    "# df_m=df_m[df_m.p_id.isin(v.index[v.gt(12000)])]\n",
    "# df_m.reset_index(drop=True, inplace=True)"
   ]
  },
  {
   "cell_type": "code",
   "execution_count": 23,
   "id": "lucky-diana",
   "metadata": {},
   "outputs": [
    {
     "name": "stdout",
     "output_type": "stream",
     "text": [
      "Number of Posts: 12234\n",
      "Number of Comments: 782307\n"
     ]
    }
   ],
   "source": [
    "print('Number of Posts:', len(df_m.p_id.unique()))\n",
    "print('Number of Comments:', len(df_m.c_id.unique()))"
   ]
  },
  {
   "cell_type": "markdown",
   "id": "valued-combining",
   "metadata": {},
   "source": [
    "### Using RAKE (We decided to use rack over spacy for better output and performance)"
   ]
  },
  {
   "cell_type": "code",
   "execution_count": 24,
   "id": "reliable-washington",
   "metadata": {},
   "outputs": [
    {
     "name": "stderr",
     "output_type": "stream",
     "text": [
      "[nltk_data] Downloading package stopwords to\n",
      "[nltk_data]     /Users/asachan/nltk_data...\n",
      "[nltk_data]   Package stopwords is already up-to-date!\n"
     ]
    },
    {
     "data": {
      "text/plain": [
       "True"
      ]
     },
     "execution_count": 24,
     "metadata": {},
     "output_type": "execute_result"
    }
   ],
   "source": [
    "#Download stopwords\n",
    "nltk.download('stopwords')"
   ]
  },
  {
   "cell_type": "code",
   "execution_count": 25,
   "id": "authentic-recording",
   "metadata": {},
   "outputs": [],
   "source": [
    "from nlp_rake import Rake\n",
    "r = Rake(\n",
    "    min_chars=2,\n",
    "    max_words=5,\n",
    "    min_freq=1\n",
    ")"
   ]
  },
  {
   "cell_type": "code",
   "execution_count": 26,
   "id": "headed-printer",
   "metadata": {},
   "outputs": [
    {
     "name": "stdout",
     "output_type": "stream",
     "text": [
      "Number of unique posts:  11598\n",
      "Number of unique titles:  782307\n"
     ]
    }
   ],
   "source": [
    "posts = df_m.p_title.unique()\n",
    "titles = df_m.c_body.values\n",
    "print('Number of unique posts: ',len(posts))\n",
    "print('Number of unique titles: ',len(titles))"
   ]
  },
  {
   "cell_type": "code",
   "execution_count": 27,
   "id": "organizational-chest",
   "metadata": {},
   "outputs": [],
   "source": [
    "# # Keyword extraction is failing for the dataset. Reducing the number of comments.\n",
    "# b=[]\n",
    "# for t in titles:\n",
    "#     if len(t) > 100:\n",
    "#         b.append(t)\n",
    "# len(b)"
   ]
  },
  {
   "cell_type": "code",
   "execution_count": 28,
   "id": "controlling-consent",
   "metadata": {},
   "outputs": [
    {
     "name": "stdout",
     "output_type": "stream",
     "text": [
      "Number of keywords extracted: 1119\n",
      "CPU times: user 1min 5s, sys: 322 ms, total: 1min 5s\n",
      "Wall time: 1min 5s\n"
     ]
    }
   ],
   "source": [
    "%%time\n",
    "# Get all stock symbol from title of the post.\n",
    "title_ent=[]\n",
    "for i in range(len(posts)):   \n",
    "    keywords = r.apply(posts[i])\n",
    "    if len(keywords) > 0:\n",
    "        result = re.search(\"\\$(\\w+)\", keywords[0][0])\n",
    "        if result:\n",
    "            title_ent.append(result.group(1))\n",
    "print('Number of keywords extracted:', len(title_ent))"
   ]
  },
  {
   "cell_type": "code",
   "execution_count": 29,
   "id": "informed-purpose",
   "metadata": {},
   "outputs": [
    {
     "name": "stdout",
     "output_type": "stream",
     "text": [
      "Number of keywords extracted: 11441\n",
      "CPU times: user 1h 4min 38s, sys: 17.9 s, total: 1h 4min 56s\n",
      "Wall time: 1h 5min 1s\n"
     ]
    }
   ],
   "source": [
    "%%time\n",
    "# Get all stock symbol from the body of the comments.\n",
    "body_ent=[]\n",
    "for i in range(len(titles)):    \n",
    "    keywords = r.apply(titles[i])\n",
    "    if len(keywords) > 0:\n",
    "        for i in range(len(keywords)):\n",
    "            result = re.search(\"\\$(\\w+)\", keywords[i][0])\n",
    "            if result and result.group(1).isalpha():\n",
    "                body_ent.append(result.group(1))\n",
    "print('Number of keywords extracted:', len(body_ent))"
   ]
  },
  {
   "cell_type": "code",
   "execution_count": 30,
   "id": "capable-plate",
   "metadata": {},
   "outputs": [
    {
     "name": "stdout",
     "output_type": "stream",
     "text": [
      "Number of companies mentioned in posts 440\n",
      "Number of companies mentioned in comments 1421\n",
      "Total companies mentioned across posts and comments 1421\n",
      "Sample of companies stock symbol extracted ['bynd', 'stinkybedsheets', 'slv', 'chd', 'cmg', 'dicc', 'ha', 'cock', 'vixy', 'cwh', 'ree', 'fud', 'bbae', 'aeo', 'on', 'oxy', 'm', 'jepi', 'gush', 'brzl', 'pain', 'mile', 'dia', 'xone', 'vmeo', 'siri', 'goos', 'pbya', 'dm', 'vaseline', 'cms', 'rdsa', 'mmnd', 'gummybears', 'dg', 'job', 'prpl', 'go', 'apha', 'dal', 'bag', 'syf', 'ctxr', 'swch', 'pelosi', 'tvix', 'poon', 'mcfe', 'ui', 'rooting']\n"
     ]
    }
   ],
   "source": [
    "title_ent=set(title_ent)\n",
    "body_ent=set(body_ent)\n",
    "m_com=title_ent.union(body_ent)\n",
    "m_com = list(body_ent)\n",
    "print('Number of companies mentioned in posts',len(title_ent))\n",
    "print('Number of companies mentioned in comments',len(body_ent))\n",
    "\n",
    "print('Total companies mentioned across posts and comments', len(m_com))\n",
    "print('Sample of companies stock symbol extracted', m_com[100:150])"
   ]
  },
  {
   "cell_type": "markdown",
   "id": "potential-novel",
   "metadata": {},
   "source": [
    "### Using pytextrank and spacy (Output especially with '$' prefixed string is not as good as RACK)"
   ]
  },
  {
   "cell_type": "code",
   "execution_count": 31,
   "id": "regulated-exchange",
   "metadata": {},
   "outputs": [],
   "source": [
    "#https://towardsdatascience.com/keyword-extraction-a-benchmark-of-7-algorithms-in-python-8a905326d93f - Keyword extraction comparison\n",
    "# import pytextrank\n",
    "# import spacy"
   ]
  },
  {
   "cell_type": "code",
   "execution_count": 32,
   "id": "guided-graduation",
   "metadata": {},
   "outputs": [],
   "source": [
    "# nlp = spacy.load(\"en_core_web_sm\")\n",
    "# nlp.add_pipe(\"textrank\")"
   ]
  },
  {
   "cell_type": "code",
   "execution_count": 33,
   "id": "amber-holly",
   "metadata": {},
   "outputs": [],
   "source": [
    "# %%time\n",
    "# ## Extract keywords from title of the post\n",
    "# p_ent=[]\n",
    "# for i in range(len(df_p)):\n",
    "#     doc=nlp(df_p.p_title[i])\n",
    "#     for ent in doc.ents:\n",
    "#         p_ent.append(ent.text) # named entity and noun chunk yields same result"
   ]
  },
  {
   "cell_type": "code",
   "execution_count": 34,
   "id": "interested-arthur",
   "metadata": {},
   "outputs": [],
   "source": [
    "# %%time\n",
    "# ## Extract keywords from body of the comments\n",
    "# c_ent=[]\n",
    "# for i in range(len(df_c)):\n",
    "#     doc=nlp(df_c.c_body[i])\n",
    "#     for ent in doc.ents:\n",
    "#         c_ent.append(ent.text) # named entity and noun chunk yields same result"
   ]
  },
  {
   "cell_type": "markdown",
   "id": "collaborative-lying",
   "metadata": {},
   "source": [
    "### Validating and getting stock price from finance.yahoo.com"
   ]
  },
  {
   "cell_type": "code",
   "execution_count": 35,
   "id": "finite-boating",
   "metadata": {},
   "outputs": [
    {
     "name": "stdout",
     "output_type": "stream",
     "text": [
      "- XXX: No data found for this date range, symbol may be delisted\n",
      "- CCP: No data found for this date range, symbol may be delisted\n",
      "- MARGIN: No data found, symbol may be delisted\n",
      "- WHITEY: No data found, symbol may be delisted\n",
      "- CK: No data found for this date range, symbol may be delisted\n",
      "- PROBE: No data found, symbol may be delisted\n",
      "- CUMT: No data found, symbol may be delisted\n",
      "- YOUS: No data found, symbol may be delisted\n",
      "- SCHMECKIE: No data found, symbol may be delisted\n",
      "- HOLE: No data found, symbol may be delisted\n",
      "- NUTT: No data found for this date range, symbol may be delisted\n",
      "- PNIS: No data found, symbol may be delisted\n",
      "- CHOWN: No data found, symbol may be delisted\n",
      "- APPLE: No data found, symbol may be delisted\n",
      "- ARSENAL: No data found, symbol may be delisted\n",
      "- KRSK: No data found, symbol may be delisted\n",
      "- BLACKBERRY: No data found, symbol may be delisted\n",
      "- ICU: No data found for this date range, symbol may be delisted\n",
      "- INTCIS: No data found, symbol may be delisted\n",
      "- CGN: No data found for this date range, symbol may be delisted\n",
      "- SPRM: No data found, symbol may be delisted\n",
      "- SNH: No data found, symbol may be delisted\n",
      "- RR: No data found for this date range, symbol may be delisted\n",
      "- VIXX: No data found, symbol may be delisted\n",
      "- SOPHIE: No data found, symbol may be delisted\n",
      "- XIV: No data found, symbol may be delisted\n",
      "- BIDEN: No data found, symbol may be delisted\n",
      "- BECKY: No data found, symbol may be delisted\n",
      "- BBRRRRRR: No data found, symbol may be delisted\n",
      "- LUKAKU: No data found, symbol may be delisted\n",
      "- DIE: No data found for this date range, symbol may be delisted\n",
      "- XXK: No data found for this date range, symbol may be delisted\n",
      "- TQK: No data found for this date range, symbol may be delisted\n",
      "- BIGBALLS: No data found, symbol may be delisted\n",
      "- PENNETRATED: No data found, symbol may be delisted\n",
      "- KER: No data found for this date range, symbol may be delisted\n",
      "- BOOTY: No data found, symbol may be delisted\n",
      "- NIU: Request Failed\n",
      "- BANME: No data found, symbol may be delisted\n",
      "- STINKYBEDSHEETS: No data found, symbol may be delisted\n",
      "- DICC: No data found, symbol may be delisted\n",
      "- COCK: No data found, symbol may be delisted\n",
      "- FUD: No data found for this date range, symbol may be delisted\n",
      "- BBAE: No data found, symbol may be delisted\n",
      "- PAIN: No data found, symbol may be delisted\n",
      "- VASELINE: No data found, symbol may be delisted\n",
      "- RDSA: No data found, symbol may be delisted\n",
      "- GUMMYBEARS: No data found, symbol may be delisted\n",
      "- APHA: No data found, symbol may be delisted\n",
      "- BAG: No data found for this date range, symbol may be delisted\n",
      "- PELOSI: No data found, symbol may be delisted\n",
      "- POON: No data found, symbol may be delisted\n",
      "- ROOTING: No data found, symbol may be delisted\n",
      "- ROB: No data found for this date range, symbol may be delisted\n",
      "- PLT: No data found, symbol may be delisted\n",
      "- ROCKETLAUNCHERS: No data found, symbol may be delisted\n",
      "- SQ: Request Failed\n",
      "- JHAD: No data found, symbol may be delisted\n",
      "- MOUNTAINS: No data found, symbol may be delisted\n",
      "- BYEDONE: No data found, symbol may be delisted\n",
      "- KFC: No data found for this date range, symbol may be delisted\n",
      "- I: No data found, symbol may be delisted\n",
      "- WASS: No data found, symbol may be delisted\n",
      "- TLDR: No data found for this date range, symbol may be delisted\n",
      "- TRILLION: No data found, symbol may be delisted\n",
      "- JUMP: No data found, symbol may be delisted\n",
      "- GUH: No data found for this date range, symbol may be delisted\n",
      "- MVAST: No data found, symbol may be delisted\n",
      "- CLOVPOSTING: No data found, symbol may be delisted\n",
      "- SXPS: No data found, symbol may be delisted\n",
      "- AMY: No data found for this date range, symbol may be delisted\n",
      "- BS: No data found for this date range, symbol may be delisted\n",
      "- BABAUTIST: No data found, symbol may be delisted\n",
      "- BBLACKBERRY: No data found, symbol may be delisted\n",
      "- VIX: No data found for this date range, symbol may be delisted\n",
      "- HIT: No data found for this date range, symbol may be delisted\n",
      "- LION: No data found for this date range, symbol may be delisted\n",
      "- URITARDED: No data found, symbol may be delisted\n",
      "- CALLS: No data found, symbol may be delisted\n",
      "- GOMD: No data found for this date range, symbol may be delisted\n",
      "- EFG: Request Failed\n",
      "- HOOKERSNBLOW: No data found, symbol may be delisted\n",
      "- RUT: No data found for this date range, symbol may be delisted\n",
      "- VALE: Request Failed\n",
      "- BRK: No data found for this date range, symbol may be delisted\n",
      "- THCB: No data found, symbol may be delisted\n",
      "- CMPZ: No data found, symbol may be delisted\n",
      "- QFI: No data found for this date range, symbol may be delisted\n",
      "- FGAN: No data found, symbol may be delisted\n",
      "- AFGAN: No data found, symbol may be delisted\n",
      "- CHINA: No data found for this date range, symbol may be delisted\n",
      "- BRDGE: No data found for this date range, symbol may be delisted\n",
      "- CATASTROPHE: No data found, symbol may be delisted\n",
      "- BRTNY: No data found, symbol may be delisted\n",
      "- BLOW: No data found, symbol may be delisted\n",
      "- ALI: No data found for this date range, symbol may be delisted\n",
      "- WHISH: No data found, symbol may be delisted\n",
      "- ROPE: No data found, symbol may be delisted\n",
      "- GSX: No data found, symbol may be delisted\n",
      "- TENDY: No data found, symbol may be delisted\n",
      "- EJ: No data found for this date range, symbol may be delisted\n",
      "- HAM: No data found for this date range, symbol may be delisted\n",
      "- AAPP: No data found, symbol may be delisted\n",
      "- NFL: No data found for this date range, symbol may be delisted\n",
      "- TEACH: No data found, symbol may be delisted\n",
      "- HUMANS: No data found, symbol may be delisted\n",
      "- TSM: Request Failed\n",
      "- VAG: No data found for this date range, symbol may be delisted\n",
      "- GUNS: No data found, symbol may be delisted\n",
      "- HOSPITALS: No data found, symbol may be delisted\n",
      "- LGMA: No data found, symbol may be delisted\n",
      "- MORTY: No data found, symbol may be delisted\n",
      "- CLOVIS: No data found, symbol may be delisted\n",
      "- GOATZ: No data found, symbol may be delisted\n",
      "- ISIS: No data found for this date range, symbol may be delisted\n",
      "- JERK: No data found, symbol may be delisted\n",
      "- DP: No data found for this date range, symbol may be delisted\n",
      "- BTNX: No data found, symbol may be delisted\n",
      "- LAMBO: No data found, symbol may be delisted\n",
      "- SQZZ: No data found, symbol may be delisted\n",
      "- NOPE: No data found, symbol may be delisted\n",
      "- MOASS: No data found, symbol may be delisted\n",
      "- HKRS: No data found, symbol may be delisted\n",
      "- YOURSELF: No data found, symbol may be delisted\n",
      "- BRENNYGG: No data found, symbol may be delisted\n",
      "- NETZ: None\n",
      "- CLOB: No data found, symbol may be delisted\n",
      "- CTLX: No data found, symbol may be delisted\n",
      "- POOP: No data found, symbol may be delisted\n",
      "- MILF: No data found, symbol may be delisted\n",
      "- FARTS: No data found, symbol may be delisted\n",
      "- BACON: No data found, symbol may be delisted\n",
      "- SNGL: No data found, symbol may be delisted\n",
      "- WI: None\n",
      "- HOUSING: No data found, symbol may be delisted\n",
      "- CUM: None\n",
      "- BACK: No data found, symbol may be delisted\n",
      "- GNU: None\n",
      "- FIST: No data found, symbol may be delisted\n",
      "- HED: None\n",
      "- ROBN: No data found, symbol may be delisted\n",
      "- WORM: No data found, symbol may be delisted\n",
      "- PHUB: No data found, symbol may be delisted\n",
      "- SHRIMP: No data found, symbol may be delisted\n",
      "- PGE: None\n",
      "- ANAL: No data found, symbol may be delisted\n",
      "- POVERTY: No data found, symbol may be delisted\n",
      "- KRATOS: No data found, symbol may be delisted\n",
      "- P: No data found for this date range, symbol may be delisted\n",
      "- APPL: None\n",
      "- BBEST: No data found, symbol may be delisted\n",
      "- ALEXA: No data found, symbol may be delisted\n",
      "- FENTANYL: No data found, symbol may be delisted\n",
      "- SKYNET: No data found, symbol may be delisted\n",
      "- TICKER: No data found, symbol may be delisted\n",
      "- NUTZ: No data found, symbol may be delisted\n",
      "- TARD: No data found, symbol may be delisted\n",
      "- CRABS: No data found, symbol may be delisted\n",
      "- PFIZER: No data found, symbol may be delisted\n",
      "- HASH: No data found, symbol may be delisted\n",
      "- SHRA: No data found, symbol may be delisted\n",
      "- FIBER: No data found, symbol may be delisted\n",
      "- DLDO: No data found, symbol may be delisted\n",
      "- EN: None\n",
      "- ASK: None\n",
      "- HOODA: No data found, symbol may be delisted\n",
      "- KED: No data found for this date range, symbol may be delisted\n",
      "- KYLE: No data found, symbol may be delisted\n",
      "- XX: None\n",
      "- NQ: None\n",
      "- BUNG: No data found, symbol may be delisted\n",
      "- ELON: No data found for this date range, symbol may be delisted\n",
      "- AKMY: No data found, symbol may be delisted\n",
      "- UBI: None\n",
      "- LGBTQ: No data found, symbol may be delisted\n",
      "- WARTS: No data found, symbol may be delisted\n",
      "- MATCH: No data found, symbol may be delisted\n",
      "- CGX: None\n",
      "- TWL: None\n",
      "- XYZ: No data found, symbol may be delisted\n",
      "- GAMESTONKKKKKKK: No data found, symbol may be delisted\n",
      "- OURCE: No data found, symbol may be delisted\n",
      "- AWC: None\n",
      "- FUKU: No data found, symbol may be delisted\n",
      "- YEEZY: No data found, symbol may be delisted\n",
      "- BALLS: No data found, symbol may be delisted\n",
      "- LEAPS: No data found, symbol may be delisted\n",
      "- BEARS: No data found, symbol may be delisted\n",
      "- URMOM: No data found, symbol may be delisted\n",
      "- FUX: None\n",
      "- FKED: No data found, symbol may be delisted\n",
      "- PIG: None\n",
      "- TBAN: No data found, symbol may be delisted\n",
      "- LK: None\n",
      "- STRESSFREELIVING: No data found, symbol may be delisted\n",
      "- FLXV: No data found, symbol may be delisted\n",
      "- FOOD: None\n",
      "- PORTFOLIO: No data found, symbol may be delisted\n",
      "- HOT: No data found for this date range, symbol may be delisted\n",
      "- VLTC: No data found, symbol may be delisted\n",
      "- BOYD: None\n",
      "- SEX: None\n",
      "- OTCQX: None\n",
      "- SEV: Data doesn't exist for startDate = 1627801200, endDate = 1630393200\n",
      "- TILRAY: No data found, symbol may be delisted\n",
      "- WISHTARDS: No data found, symbol may be delisted\n",
      "- WONDERBREAD: No data found, symbol may be delisted\n",
      "- WHOA: No data found, symbol may be delisted\n",
      "- CHAIN: No data found, symbol may be delisted\n",
      "- DZ: None\n",
      "- ZOOM: No data found, symbol may be delisted\n",
      "- HLAG: No data found, symbol may be delisted\n",
      "- DOGE: No data found, symbol may be delisted\n",
      "- WANK: No data found, symbol may be delisted\n",
      "- TSLAS: No data found, symbol may be delisted\n",
      "- NEK: None\n",
      "- SHIT: No data found, symbol may be delisted\n",
      "- PRON: No data found, symbol may be delisted\n",
      "- CLOZEDLOOP: No data found, symbol may be delisted\n",
      "- MONEY: No data found, symbol may be delisted\n",
      "- PAST: No data found, symbol may be delisted\n",
      "- DMYD: No data found, symbol may be delisted\n",
      "- BEER: No data found for this date range, symbol may be delisted\n",
      "- HVBT: No data found, symbol may be delisted\n",
      "- VRGN: No data found, symbol may be delisted\n",
      "- AMMO: No data found, symbol may be delisted\n",
      "- VACQ: No data found, symbol may be delisted\n",
      "- PUTS: No data found, symbol may be delisted\n",
      "- FERRARI: No data found, symbol may be delisted\n",
      "- NOOD: No data found, symbol may be delisted\n",
      "- CUMS: No data found, symbol may be delisted\n",
      "- POOPDIK: No data found, symbol may be delisted\n",
      "- RESR: No data found, symbol may be delisted\n",
      "- DXY: None\n",
      "- THMC: None\n",
      "- VINA: None\n",
      "- HELM: No data found, symbol may be delisted\n",
      "- MCFEEEEEEEEEEEEEE: No data found, symbol may be delisted\n",
      "- PUSSY: No data found, symbol may be delisted\n",
      "- FUSA: None\n",
      "- JELQ: No data found, symbol may be delisted\n",
      "- PREADS: No data found, symbol may be delisted\n",
      "- DMT: None\n",
      "- SKIDMARK: No data found, symbol may be delisted\n",
      "- VOLUSD: No data found, symbol may be delisted\n",
      "- DISNEYLAND: No data found, symbol may be delisted\n",
      "- BOOBS: No data found, symbol may be delisted\n",
      "- ROPED: No data found, symbol may be delisted\n",
      "- WRRH: No data found, symbol may be delisted\n",
      "- TOCK: No data found, symbol may be delisted\n",
      "- TALI: No data found, symbol may be delisted\n",
      "- DEEZ: No data found, symbol may be delisted\n",
      "- EVE: None\n",
      "- BOFA: No data found, symbol may be delisted\n",
      "- BURKA: No data found, symbol may be delisted\n",
      "- BOMBS: No data found, symbol may be delisted\n",
      "- CUMPLTR: No data found, symbol may be delisted\n",
      "- DOWNFALL: No data found, symbol may be delisted\n",
      "- DRKA: No data found, symbol may be delisted\n",
      "- PNUS: No data found, symbol may be delisted\n",
      "- SHEKELZ: No data found, symbol may be delisted\n",
      "- MOOD: No data found, symbol may be delisted\n",
      "- HATS: No data found, symbol may be delisted\n",
      "- ROSEBUD: No data found, symbol may be delisted\n",
      "- HOLES: No data found, symbol may be delisted\n",
      "- LA: None\n",
      "- BEAR: None\n",
      "- CLOVE: No data found, symbol may be delisted\n",
      "- FART: No data found, symbol may be delisted\n",
      "- ROOTS: No data found, symbol may be delisted\n",
      "- LIGMA: No data found, symbol may be delisted\n",
      "- HBULL: No data found, symbol may be delisted\n",
      "- PROVEL: No data found, symbol may be delisted\n",
      "- NVIDA: No data found, symbol may be delisted\n",
      "- UPSTART: No data found, symbol may be delisted\n",
      "- BBEAUTIFUL: No data found, symbol may be delisted\n",
      "- NOD: None\n",
      "- NIOO: No data found, symbol may be delisted\n",
      "- LEBANON: No data found, symbol may be delisted\n",
      "- NECK: No data found, symbol may be delisted\n",
      "- HOODWNKD: No data found, symbol may be delisted\n",
      "- BOMB: No data found, symbol may be delisted\n",
      "- TALL: None\n",
      "- NUTS: No data found, symbol may be delisted\n",
      "- HARD: None\n",
      "- SPX: None\n",
      "- FKME: No data found, symbol may be delisted\n",
      "- FUK: None\n",
      "- KASEBOYLA: No data found, symbol may be delisted\n",
      "- FQ: None\n",
      "- NUDZ: No data found, symbol may be delisted\n",
      "- THROATGOAT: No data found, symbol may be delisted\n",
      "- GAY: None\n",
      "- OOF: None\n",
      "- ETC: None\n",
      "- THIS: None\n",
      "- BREAD: No data found, symbol may be delisted\n",
      "- GAYSEX: No data found, symbol may be delisted\n",
      "- HUTMF: No data found, symbol may be delisted\n",
      "- SMOL: None\n",
      "- WENS: No data found, symbol may be delisted\n",
      "- BBAGHOLDERS: No data found, symbol may be delisted\n",
      "- SODEAD: No data found, symbol may be delisted\n",
      "- VIACRA: No data found, symbol may be delisted\n",
      "- BAGS: No data found, symbol may be delisted\n",
      "- HORT: None\n",
      "- FAMILY: No data found, symbol may be delisted\n",
      "- DND: None\n",
      "- IE: None\n",
      "- BONE: None\n",
      "- CAD: None\n",
      "- WSB: None\n",
      "- FD: None\n",
      "- WEEDGANG: No data found, symbol may be delisted\n",
      "- COPE: No data found, symbol may be delisted\n",
      "- PORK: None\n",
      "- PORN: No data found, symbol may be delisted\n",
      "- MFCE: No data found, symbol may be delisted\n",
      "- DEEZNUTS: No data found, symbol may be delisted\n",
      "- TESLA: No data found, symbol may be delisted\n",
      "- DC: None\n",
      "- AZRX: No data found, symbol may be delisted\n",
      "- PLUGS: No data found, symbol may be delisted\n",
      "- CYBIN: No data found, symbol may be delisted\n",
      "- TYRY: No data found, symbol may be delisted\n",
      "- BIDET: No data found, symbol may be delisted\n",
      "- WACKED: No data found, symbol may be delisted\n",
      "- NUUZ: No data found, symbol may be delisted\n",
      "- GINGER: No data found, symbol may be delisted\n",
      "- FDGE: No data found, symbol may be delisted\n",
      "- ELECTION: No data found, symbol may be delisted\n",
      "- INCEL: No data found, symbol may be delisted\n",
      "- TOILET: No data found, symbol may be delisted\n",
      "- WHKS: No data found, symbol may be delisted\n",
      "- FPAD: No data found, symbol may be delisted\n",
      "- TLBN: No data found, symbol may be delisted\n",
      "- BBAGGER: No data found, symbol may be delisted\n",
      "- HOODLIFE: No data found, symbol may be delisted\n",
      "- BALLZ: No data found, symbol may be delisted\n",
      "- CKING: No data found, symbol may be delisted\n",
      "- HOODIE: No data found, symbol may be delisted\n",
      "- COSMO: No data found, symbol may be delisted\n",
      "- AFGHAN: No data found, symbol may be delisted\n",
      "- GYM: None\n",
      "- SQRL: No data found, symbol may be delisted\n",
      "- FAP: None\n",
      "- DOPE: No data found, symbol may be delisted\n",
      "- TCH: None\n",
      "- COMET: No data found, symbol may be delisted\n",
      "- FUCK: No data found, symbol may be delisted\n",
      "- HOODLUMS: No data found, symbol may be delisted\n",
      "- NOFAP: No data found, symbol may be delisted\n",
      "- GOURD: No data found, symbol may be delisted\n",
      "- US: None\n",
      "- XXXX: No data found, symbol may be delisted\n",
      "- FANS: No data found, symbol may be delisted\n",
      "- AFGN: No data found, symbol may be delisted\n",
      "- KOA: None\n",
      "- BORG: No data found, symbol may be delisted\n",
      "- PUS: None\n",
      "- WENDYS: No data found, symbol may be delisted\n",
      "- LICK: No data found, symbol may be delisted\n",
      "- MILLIONS: No data found, symbol may be delisted\n",
      "- EVERYTHING: No data found, symbol may be delisted\n",
      "- CJNG: No data found, symbol may be delisted\n",
      "- REDT: No data found, symbol may be delisted\n",
      "- SHIL: No data found, symbol may be delisted\n",
      "- GENNY: No data found, symbol may be delisted\n",
      "- REEEEEE: No data found, symbol may be delisted\n",
      "- GUMBO: No data found, symbol may be delisted\n",
      "- CHRISESTO: No data found, symbol may be delisted\n",
      "- BULLSHIT: No data found, symbol may be delisted\n",
      "- PIMP: No data found, symbol may be delisted\n",
      "- PAPER: No data found, symbol may be delisted\n",
      "- LUBE: No data found, symbol may be delisted\n",
      "- FAUCI: No data found, symbol may be delisted\n",
      "- THIC: No data found, symbol may be delisted\n",
      "- MORE: None\n",
      "- MEME: Data doesn't exist for startDate = 1627801200, endDate = 1630393200\n",
      "- DICK: No data found, symbol may be delisted\n",
      "- IRTN: No data found, symbol may be delisted\n",
      "- NIGG: No data found, symbol may be delisted\n",
      "- HODL: No data found, symbol may be delisted\n",
      "- HRIN: No data found, symbol may be delisted\n",
      "- ATE: No data found, symbol may be delisted\n",
      "- MLSD: No data found, symbol may be delisted\n",
      "- TITS: No data found, symbol may be delisted\n",
      "- SYMBOL: No data found, symbol may be delisted\n",
      "- HYUD: No data found, symbol may be delisted\n",
      "- HEROIN: No data found, symbol may be delisted\n",
      "- HPC: None\n",
      "- JIZZ: No data found, symbol may be delisted\n",
      "- BOLDNESS: No data found, symbol may be delisted\n",
      "- MARRIAGE: No data found, symbol may be delisted\n",
      "- ZYNGA: No data found, symbol may be delisted\n",
      "- CLDSTNECRMRY: No data found, symbol may be delisted\n",
      "- DN: None\n",
      "- APPA: None\n",
      "- HURSANDY: No data found, symbol may be delisted\n",
      "- MASCO: No data found, symbol may be delisted\n",
      "- BRAGG: No data found, symbol may be delisted\n",
      "- ACIC: No data found, symbol may be delisted\n",
      "- SUKD: No data found, symbol may be delisted\n",
      "- WALMART: No data found, symbol may be delisted\n",
      "- AVRL: No data found, symbol may be delisted\n",
      "- IPOE: No data found for this date range, symbol may be delisted\n",
      "- PEACEFULPROTEST: No data found, symbol may be delisted\n",
      "- KY: None\n",
      "- RTRD: No data found, symbol may be delisted\n",
      "- DONG: No data found, symbol may be delisted\n",
      "- POPPY: No data found, symbol may be delisted\n",
      "- KITE: None\n",
      "- BLAH: No data found, symbol may be delisted\n",
      "- MOUTH: No data found, symbol may be delisted\n",
      "- GOD: None\n",
      "- JIQQ: No data found, symbol may be delisted\n",
      "- BUX: None\n",
      "- MOAN: No data found, symbol may be delisted\n",
      "- RDMSHT: No data found, symbol may be delisted\n",
      "- ROBU: No data found, symbol may be delisted\n",
      "- UPDOG: No data found, symbol may be delisted\n",
      "- WISHES: No data found, symbol may be delisted\n",
      "- BLOCKBUSTER: No data found, symbol may be delisted\n",
      "- WBER: No data found, symbol may be delisted\n",
      "- COVID: No data found, symbol may be delisted\n",
      "- ZR: None\n",
      "- HOODWINKED: No data found, symbol may be delisted\n",
      "- HOODRATS: No data found, symbol may be delisted\n",
      "- BACN: No data found, symbol may be delisted\n",
      "- HAMY: No data found, symbol may be delisted\n",
      "- SARK: Data doesn't exist for startDate = 1627801200, endDate = 1630393200\n",
      "- HOODBOYS: No data found, symbol may be delisted\n",
      "- KRW: None\n",
      "- COOM: No data found, symbol may be delisted\n",
      "- ASS: None\n",
      "- EHANG: No data found, symbol may be delisted\n",
      "- LOF: None\n",
      "- FUKT: No data found, symbol may be delisted\n",
      "- SPRT: No data found, symbol may be delisted\n",
      "- HOODS: No data found, symbol may be delisted\n",
      "- OTM: None\n",
      "- FUCKYOU: No data found, symbol may be delisted\n",
      "- EBAYS: No data found, symbol may be delisted\n",
      "- WISHING: No data found, symbol may be delisted\n",
      "CPU times: user 1min 5s, sys: 2.87 s, total: 1min 8s\n",
      "Wall time: 16min 29s\n"
     ]
    }
   ],
   "source": [
    "%%time\n",
    "import yfinance as yf\n",
    "comp_prices = pd.DataFrame()\n",
    "for comp in m_com:\n",
    "    tick = yf.Ticker(comp)\n",
    "    if tick:\n",
    "        dat = tick.history(start='2021-08-01', end='2021-08-31')\n",
    "        dat['Delta'] = dat['Close']-dat['Open']\n",
    "        dat['Ticker'] = comp\n",
    "        comp_prices = comp_prices.append(dat)\n",
    "comp_prices = comp_prices.reset_index(drop=False)\n",
    "df_prices=comp_prices[['Ticker','Date','Open','Close','Delta']]"
   ]
  },
  {
   "cell_type": "code",
   "execution_count": 36,
   "id": "informed-angle",
   "metadata": {},
   "outputs": [
    {
     "data": {
      "text/html": [
       "<div>\n",
       "<style scoped>\n",
       "    .dataframe tbody tr th:only-of-type {\n",
       "        vertical-align: middle;\n",
       "    }\n",
       "\n",
       "    .dataframe tbody tr th {\n",
       "        vertical-align: top;\n",
       "    }\n",
       "\n",
       "    .dataframe thead th {\n",
       "        text-align: right;\n",
       "    }\n",
       "</style>\n",
       "<table border=\"1\" class=\"dataframe\">\n",
       "  <thead>\n",
       "    <tr style=\"text-align: right;\">\n",
       "      <th></th>\n",
       "      <th>Ticker</th>\n",
       "      <th>Date</th>\n",
       "      <th>Open</th>\n",
       "      <th>Close</th>\n",
       "      <th>Delta</th>\n",
       "    </tr>\n",
       "  </thead>\n",
       "  <tbody>\n",
       "    <tr>\n",
       "      <th>0</th>\n",
       "      <td>lcid</td>\n",
       "      <td>2021-08-02</td>\n",
       "      <td>24.193001</td>\n",
       "      <td>23.770000</td>\n",
       "      <td>-0.423</td>\n",
       "    </tr>\n",
       "    <tr>\n",
       "      <th>1</th>\n",
       "      <td>lcid</td>\n",
       "      <td>2021-08-03</td>\n",
       "      <td>23.930000</td>\n",
       "      <td>23.580000</td>\n",
       "      <td>-0.350</td>\n",
       "    </tr>\n",
       "    <tr>\n",
       "      <th>2</th>\n",
       "      <td>lcid</td>\n",
       "      <td>2021-08-04</td>\n",
       "      <td>23.480000</td>\n",
       "      <td>22.629999</td>\n",
       "      <td>-0.850</td>\n",
       "    </tr>\n",
       "    <tr>\n",
       "      <th>3</th>\n",
       "      <td>lcid</td>\n",
       "      <td>2021-08-05</td>\n",
       "      <td>22.920000</td>\n",
       "      <td>22.750000</td>\n",
       "      <td>-0.170</td>\n",
       "    </tr>\n",
       "    <tr>\n",
       "      <th>4</th>\n",
       "      <td>lcid</td>\n",
       "      <td>2021-08-06</td>\n",
       "      <td>22.934999</td>\n",
       "      <td>23.379999</td>\n",
       "      <td>0.445</td>\n",
       "    </tr>\n",
       "  </tbody>\n",
       "</table>\n",
       "</div>"
      ],
      "text/plain": [
       "  Ticker       Date       Open      Close  Delta\n",
       "0   lcid 2021-08-02  24.193001  23.770000 -0.423\n",
       "1   lcid 2021-08-03  23.930000  23.580000 -0.350\n",
       "2   lcid 2021-08-04  23.480000  22.629999 -0.850\n",
       "3   lcid 2021-08-05  22.920000  22.750000 -0.170\n",
       "4   lcid 2021-08-06  22.934999  23.379999  0.445"
      ]
     },
     "execution_count": 36,
     "metadata": {},
     "output_type": "execute_result"
    }
   ],
   "source": [
    "df_prices.head()"
   ]
  },
  {
   "cell_type": "code",
   "execution_count": 37,
   "id": "literary-vessel",
   "metadata": {},
   "outputs": [
    {
     "name": "stdout",
     "output_type": "stream",
     "text": [
      "Number of companies after validation:  977\n"
     ]
    }
   ],
   "source": [
    "print('Number of companies after validation: ', len(df_prices.Ticker.unique()))\n",
    "comps=df_prices.Ticker.unique()"
   ]
  },
  {
   "cell_type": "markdown",
   "id": "gothic-belly",
   "metadata": {},
   "source": [
    "## Graph Section"
   ]
  },
  {
   "cell_type": "markdown",
   "id": "internal-sound",
   "metadata": {},
   "source": [
    "#### Project and dabase was manually created"
   ]
  },
  {
   "cell_type": "code",
   "execution_count": 38,
   "id": "mature-buying",
   "metadata": {},
   "outputs": [],
   "source": [
    "#g = Graph(\"bolt://localhost:11006\", auth=('neo4j', 'admin'))\n",
    "g = Graph(\"bolt://localhost:11005\", auth=('new', 'admin'))"
   ]
  },
  {
   "cell_type": "code",
   "execution_count": 39,
   "id": "prompt-vintage",
   "metadata": {},
   "outputs": [],
   "source": [
    "# # Create Post nodes\n",
    "# data=[]\n",
    "# posts=df_p\n",
    "# for i in range(len(posts)):\n",
    "#     x=posts.id[i]\n",
    "#     y=posts.title[i]\n",
    "#     z=str(posts.score[i])\n",
    "#     dict1 = {'id':x, 'title':y, 'score':z}\n",
    "#     data.append(dict1)\n",
    "# create_nodes(g.auto(), data, labels={\"Post\"})\n",
    "\n",
    "# #Create comments nodes\n",
    "# data=[]\n",
    "# comments=df_c\n",
    "# for i in range(len(comments)):\n",
    "#     x=comments.id[i]\n",
    "#     y=comments.body[i]\n",
    "#     z=str(comments.score[i])\n",
    "#     zz=comments.parentid[i]\n",
    "#     dict1 = {'id':x, 'title':y, 'score':z,'parentid':zz}\n",
    "#     data.append(dict1)\n",
    "\n",
    "# from itertools import islice\n",
    "# stream = iter(data)\n",
    "# batch_size = 10000\n",
    "# while True:\n",
    "#     batch = islice(stream, batch_size)\n",
    "#     if batch:\n",
    "#         create_nodes(g.auto(), batch, labels={\"Comment\"})\n",
    "#     else:\n",
    "#         break\n"
   ]
  },
  {
   "cell_type": "code",
   "execution_count": 47,
   "id": "coordinate-pierce",
   "metadata": {},
   "outputs": [
    {
     "data": {
      "text/plain": [
       "(782307, 11)"
      ]
     },
     "execution_count": 47,
     "metadata": {},
     "output_type": "execute_result"
    }
   ],
   "source": [
    "df_m.shape"
   ]
  },
  {
   "cell_type": "code",
   "execution_count": 53,
   "id": "former-joint",
   "metadata": {},
   "outputs": [
    {
     "data": {
      "text/plain": [
       "(775424, 11)"
      ]
     },
     "execution_count": 53,
     "metadata": {},
     "output_type": "execute_result"
    }
   ],
   "source": [
    "# more cleanup to avoid special character issues.\n",
    "\n",
    "df_m=df_m[~df_m.c_body.str.contains('User Report')]\n",
    "df_m.reset_index(drop=True,inplace=True)\n",
    "df_m.shape"
   ]
  },
  {
   "cell_type": "code",
   "execution_count": 62,
   "id": "swiss-indiana",
   "metadata": {},
   "outputs": [
    {
     "ename": "KeyboardInterrupt",
     "evalue": "",
     "output_type": "error",
     "traceback": [
      "\u001b[0;31m---------------------------------------------------------------------------\u001b[0m",
      "\u001b[0;31mKeyboardInterrupt\u001b[0m                         Traceback (most recent call last)",
      "\u001b[0;32m<timed exec>\u001b[0m in \u001b[0;36m<module>\u001b[0;34m\u001b[0m\n",
      "\u001b[0;32m~/anaconda3/lib/python3.8/site-packages/py2neo/database.py\u001b[0m in \u001b[0;36mmerge\u001b[0;34m(self, subgraph, label, *property_keys)\u001b[0m\n\u001b[1;32m    676\u001b[0m         \u001b[0;34m:\u001b[0m\u001b[0mparam\u001b[0m \u001b[0mproperty_keys\u001b[0m\u001b[0;34m:\u001b[0m \u001b[0mproperty\u001b[0m \u001b[0mkeys\u001b[0m \u001b[0mon\u001b[0m \u001b[0mwhich\u001b[0m \u001b[0mto\u001b[0m \u001b[0mmatch\u001b[0m \u001b[0many\u001b[0m \u001b[0mexisting\u001b[0m \u001b[0mnodes\u001b[0m\u001b[0;34m\u001b[0m\u001b[0;34m\u001b[0m\u001b[0m\n\u001b[1;32m    677\u001b[0m         \"\"\"\n\u001b[0;32m--> 678\u001b[0;31m         \u001b[0mself\u001b[0m\u001b[0;34m.\u001b[0m\u001b[0mupdate\u001b[0m\u001b[0;34m(\u001b[0m\u001b[0;32mlambda\u001b[0m \u001b[0mtx\u001b[0m\u001b[0;34m:\u001b[0m \u001b[0mtx\u001b[0m\u001b[0;34m.\u001b[0m\u001b[0mmerge\u001b[0m\u001b[0;34m(\u001b[0m\u001b[0msubgraph\u001b[0m\u001b[0;34m,\u001b[0m \u001b[0mlabel\u001b[0m\u001b[0;34m,\u001b[0m \u001b[0;34m*\u001b[0m\u001b[0mproperty_keys\u001b[0m\u001b[0;34m)\u001b[0m\u001b[0;34m)\u001b[0m\u001b[0;34m\u001b[0m\u001b[0;34m\u001b[0m\u001b[0m\n\u001b[0m\u001b[1;32m    679\u001b[0m \u001b[0;34m\u001b[0m\u001b[0m\n\u001b[1;32m    680\u001b[0m     \u001b[0;34m@\u001b[0m\u001b[0mproperty\u001b[0m\u001b[0;34m\u001b[0m\u001b[0;34m\u001b[0m\u001b[0m\n",
      "\u001b[0;32m~/anaconda3/lib/python3.8/site-packages/py2neo/database.py\u001b[0m in \u001b[0;36mupdate\u001b[0;34m(self, cypher, parameters, timeout)\u001b[0m\n\u001b[1;32m    443\u001b[0m         \u001b[0;32mif\u001b[0m \u001b[0mcallable\u001b[0m\u001b[0;34m(\u001b[0m\u001b[0mcypher\u001b[0m\u001b[0;34m)\u001b[0m\u001b[0;34m:\u001b[0m\u001b[0;34m\u001b[0m\u001b[0;34m\u001b[0m\u001b[0m\n\u001b[1;32m    444\u001b[0m             \u001b[0;32mif\u001b[0m \u001b[0mparameters\u001b[0m \u001b[0;32mis\u001b[0m \u001b[0;32mNone\u001b[0m\u001b[0;34m:\u001b[0m\u001b[0;34m\u001b[0m\u001b[0;34m\u001b[0m\u001b[0m\n\u001b[0;32m--> 445\u001b[0;31m                 \u001b[0mself\u001b[0m\u001b[0;34m.\u001b[0m\u001b[0m_update\u001b[0m\u001b[0;34m(\u001b[0m\u001b[0mcypher\u001b[0m\u001b[0;34m,\u001b[0m \u001b[0mtimeout\u001b[0m\u001b[0;34m=\u001b[0m\u001b[0mtimeout\u001b[0m\u001b[0;34m)\u001b[0m\u001b[0;34m\u001b[0m\u001b[0;34m\u001b[0m\u001b[0m\n\u001b[0m\u001b[1;32m    446\u001b[0m             elif (isinstance(parameters, tuple) and len(parameters) == 2 and\n\u001b[1;32m    447\u001b[0m                     isinstance(parameters[0], Sequence) and isinstance(parameters[1], Mapping)):\n",
      "\u001b[0;32m~/anaconda3/lib/python3.8/site-packages/py2neo/database.py\u001b[0m in \u001b[0;36m_update\u001b[0;34m(self, f, timeout)\u001b[0m\n\u001b[1;32m    468\u001b[0m                                 \u001b[0;31m# after=after, metadata=metadata, timeout=timeout\u001b[0m\u001b[0;34m\u001b[0m\u001b[0;34m\u001b[0m\u001b[0;34m\u001b[0m\u001b[0m\n\u001b[1;32m    469\u001b[0m                                 )\n\u001b[0;32m--> 470\u001b[0;31m                 \u001b[0mvalue\u001b[0m \u001b[0;34m=\u001b[0m \u001b[0mf\u001b[0m\u001b[0;34m(\u001b[0m\u001b[0mtx\u001b[0m\u001b[0;34m)\u001b[0m\u001b[0;34m\u001b[0m\u001b[0;34m\u001b[0m\u001b[0m\n\u001b[0m\u001b[1;32m    471\u001b[0m                 \u001b[0;32mif\u001b[0m \u001b[0misgenerator\u001b[0m\u001b[0;34m(\u001b[0m\u001b[0mvalue\u001b[0m\u001b[0;34m)\u001b[0m\u001b[0;34m:\u001b[0m\u001b[0;34m\u001b[0m\u001b[0;34m\u001b[0m\u001b[0m\n\u001b[1;32m    472\u001b[0m                     \u001b[0m_\u001b[0m \u001b[0;34m=\u001b[0m \u001b[0mlist\u001b[0m\u001b[0;34m(\u001b[0m\u001b[0mvalue\u001b[0m\u001b[0;34m)\u001b[0m     \u001b[0;31m# exhaust the generator\u001b[0m\u001b[0;34m\u001b[0m\u001b[0;34m\u001b[0m\u001b[0m\n",
      "\u001b[0;32m~/anaconda3/lib/python3.8/site-packages/py2neo/database.py\u001b[0m in \u001b[0;36m<lambda>\u001b[0;34m(tx)\u001b[0m\n\u001b[1;32m    676\u001b[0m         \u001b[0;34m:\u001b[0m\u001b[0mparam\u001b[0m \u001b[0mproperty_keys\u001b[0m\u001b[0;34m:\u001b[0m \u001b[0mproperty\u001b[0m \u001b[0mkeys\u001b[0m \u001b[0mon\u001b[0m \u001b[0mwhich\u001b[0m \u001b[0mto\u001b[0m \u001b[0mmatch\u001b[0m \u001b[0many\u001b[0m \u001b[0mexisting\u001b[0m \u001b[0mnodes\u001b[0m\u001b[0;34m\u001b[0m\u001b[0;34m\u001b[0m\u001b[0m\n\u001b[1;32m    677\u001b[0m         \"\"\"\n\u001b[0;32m--> 678\u001b[0;31m         \u001b[0mself\u001b[0m\u001b[0;34m.\u001b[0m\u001b[0mupdate\u001b[0m\u001b[0;34m(\u001b[0m\u001b[0;32mlambda\u001b[0m \u001b[0mtx\u001b[0m\u001b[0;34m:\u001b[0m \u001b[0mtx\u001b[0m\u001b[0;34m.\u001b[0m\u001b[0mmerge\u001b[0m\u001b[0;34m(\u001b[0m\u001b[0msubgraph\u001b[0m\u001b[0;34m,\u001b[0m \u001b[0mlabel\u001b[0m\u001b[0;34m,\u001b[0m \u001b[0;34m*\u001b[0m\u001b[0mproperty_keys\u001b[0m\u001b[0;34m)\u001b[0m\u001b[0;34m)\u001b[0m\u001b[0;34m\u001b[0m\u001b[0;34m\u001b[0m\u001b[0m\n\u001b[0m\u001b[1;32m    679\u001b[0m \u001b[0;34m\u001b[0m\u001b[0m\n\u001b[1;32m    680\u001b[0m     \u001b[0;34m@\u001b[0m\u001b[0mproperty\u001b[0m\u001b[0;34m\u001b[0m\u001b[0;34m\u001b[0m\u001b[0m\n",
      "\u001b[0;32m~/anaconda3/lib/python3.8/site-packages/py2neo/database.py\u001b[0m in \u001b[0;36mmerge\u001b[0;34m(self, subgraph, primary_label, primary_key)\u001b[0m\n\u001b[1;32m   1130\u001b[0m             \u001b[0;32mraise\u001b[0m \u001b[0mTypeError\u001b[0m\u001b[0;34m(\u001b[0m\u001b[0;34m\"No method defined to merge object %r\"\u001b[0m \u001b[0;34m%\u001b[0m \u001b[0msubgraph\u001b[0m\u001b[0;34m)\u001b[0m\u001b[0;34m\u001b[0m\u001b[0;34m\u001b[0m\u001b[0m\n\u001b[1;32m   1131\u001b[0m         \u001b[0;32melse\u001b[0m\u001b[0;34m:\u001b[0m\u001b[0;34m\u001b[0m\u001b[0;34m\u001b[0m\u001b[0m\n\u001b[0;32m-> 1132\u001b[0;31m             \u001b[0mmerge\u001b[0m\u001b[0;34m(\u001b[0m\u001b[0mself\u001b[0m\u001b[0;34m,\u001b[0m \u001b[0mprimary_label\u001b[0m\u001b[0;34m,\u001b[0m \u001b[0mprimary_key\u001b[0m\u001b[0;34m)\u001b[0m\u001b[0;34m\u001b[0m\u001b[0;34m\u001b[0m\u001b[0m\n\u001b[0m\u001b[1;32m   1133\u001b[0m \u001b[0;34m\u001b[0m\u001b[0m\n\u001b[1;32m   1134\u001b[0m     \u001b[0;32mdef\u001b[0m \u001b[0mpull\u001b[0m\u001b[0;34m(\u001b[0m\u001b[0mself\u001b[0m\u001b[0;34m,\u001b[0m \u001b[0msubgraph\u001b[0m\u001b[0;34m)\u001b[0m\u001b[0;34m:\u001b[0m\u001b[0;34m\u001b[0m\u001b[0;34m\u001b[0m\u001b[0m\n",
      "\u001b[0;32m~/anaconda3/lib/python3.8/site-packages/py2neo/data.py\u001b[0m in \u001b[0;36m__db_merge__\u001b[0;34m(self, tx, primary_label, primary_key)\u001b[0m\n\u001b[1;32m    316\u001b[0m             \u001b[0mpq\u001b[0m \u001b[0;34m=\u001b[0m \u001b[0munwind_merge_nodes_query\u001b[0m\u001b[0;34m(\u001b[0m\u001b[0mmap\u001b[0m\u001b[0;34m(\u001b[0m\u001b[0mdict\u001b[0m\u001b[0;34m,\u001b[0m \u001b[0mnodes\u001b[0m\u001b[0;34m)\u001b[0m\u001b[0;34m,\u001b[0m \u001b[0;34m(\u001b[0m\u001b[0mpl\u001b[0m\u001b[0;34m,\u001b[0m \u001b[0mpk\u001b[0m\u001b[0;34m)\u001b[0m\u001b[0;34m,\u001b[0m \u001b[0mlabels\u001b[0m\u001b[0;34m)\u001b[0m\u001b[0;34m\u001b[0m\u001b[0;34m\u001b[0m\u001b[0m\n\u001b[1;32m    317\u001b[0m             \u001b[0mpq\u001b[0m \u001b[0;34m=\u001b[0m \u001b[0mcypher_join\u001b[0m\u001b[0;34m(\u001b[0m\u001b[0mpq\u001b[0m\u001b[0;34m,\u001b[0m \u001b[0;34m\"RETURN id(_)\"\u001b[0m\u001b[0;34m)\u001b[0m\u001b[0;34m\u001b[0m\u001b[0;34m\u001b[0m\u001b[0m\n\u001b[0;32m--> 318\u001b[0;31m             \u001b[0midentities\u001b[0m \u001b[0;34m=\u001b[0m \u001b[0;34m[\u001b[0m\u001b[0mrecord\u001b[0m\u001b[0;34m[\u001b[0m\u001b[0;36m0\u001b[0m\u001b[0;34m]\u001b[0m \u001b[0;32mfor\u001b[0m \u001b[0mrecord\u001b[0m \u001b[0;32min\u001b[0m \u001b[0mtx\u001b[0m\u001b[0;34m.\u001b[0m\u001b[0mrun\u001b[0m\u001b[0;34m(\u001b[0m\u001b[0;34m*\u001b[0m\u001b[0mpq\u001b[0m\u001b[0;34m)\u001b[0m\u001b[0;34m]\u001b[0m\u001b[0;34m\u001b[0m\u001b[0;34m\u001b[0m\u001b[0m\n\u001b[0m\u001b[1;32m    319\u001b[0m             \u001b[0;32mif\u001b[0m \u001b[0mlen\u001b[0m\u001b[0;34m(\u001b[0m\u001b[0midentities\u001b[0m\u001b[0;34m)\u001b[0m \u001b[0;34m>\u001b[0m \u001b[0mlen\u001b[0m\u001b[0;34m(\u001b[0m\u001b[0mnodes\u001b[0m\u001b[0;34m)\u001b[0m\u001b[0;34m:\u001b[0m\u001b[0;34m\u001b[0m\u001b[0;34m\u001b[0m\u001b[0m\n\u001b[1;32m    320\u001b[0m                 raise UniquenessError(\"Found %d matching nodes for primary label %r and primary \"\n",
      "\u001b[0;32m~/anaconda3/lib/python3.8/site-packages/py2neo/database.py\u001b[0m in \u001b[0;36mrun\u001b[0;34m(self, cypher, parameters, **kwparameters)\u001b[0m\n\u001b[1;32m    990\u001b[0m                                                   \u001b[0mgraph_name\u001b[0m\u001b[0;34m=\u001b[0m\u001b[0mself\u001b[0m\u001b[0;34m.\u001b[0m\u001b[0mgraph\u001b[0m\u001b[0;34m.\u001b[0m\u001b[0mname\u001b[0m\u001b[0;34m,\u001b[0m\u001b[0;34m\u001b[0m\u001b[0;34m\u001b[0m\u001b[0m\n\u001b[1;32m    991\u001b[0m                                                   readonly=self.readonly)\n\u001b[0;32m--> 992\u001b[0;31m             \u001b[0mself\u001b[0m\u001b[0;34m.\u001b[0m\u001b[0m_connector\u001b[0m\u001b[0;34m.\u001b[0m\u001b[0mpull\u001b[0m\u001b[0;34m(\u001b[0m\u001b[0mresult\u001b[0m\u001b[0;34m,\u001b[0m \u001b[0;34m-\u001b[0m\u001b[0;36m1\u001b[0m\u001b[0;34m)\u001b[0m\u001b[0;34m\u001b[0m\u001b[0;34m\u001b[0m\u001b[0m\n\u001b[0m\u001b[1;32m    993\u001b[0m             \u001b[0;32mreturn\u001b[0m \u001b[0mCursor\u001b[0m\u001b[0;34m(\u001b[0m\u001b[0mresult\u001b[0m\u001b[0;34m,\u001b[0m \u001b[0mhydrant\u001b[0m\u001b[0;34m)\u001b[0m\u001b[0;34m\u001b[0m\u001b[0;34m\u001b[0m\u001b[0m\n\u001b[1;32m    994\u001b[0m         \u001b[0;32mfinally\u001b[0m\u001b[0;34m:\u001b[0m\u001b[0;34m\u001b[0m\u001b[0;34m\u001b[0m\u001b[0m\n",
      "\u001b[0;32m~/anaconda3/lib/python3.8/site-packages/py2neo/client/__init__.py\u001b[0m in \u001b[0;36mpull\u001b[0;34m(self, result, n)\u001b[0m\n\u001b[1;32m   1432\u001b[0m         \u001b[0mcx\u001b[0m \u001b[0;34m=\u001b[0m \u001b[0mself\u001b[0m\u001b[0;34m.\u001b[0m\u001b[0m_reacquire\u001b[0m\u001b[0;34m(\u001b[0m\u001b[0mresult\u001b[0m\u001b[0;34m.\u001b[0m\u001b[0mtransaction\u001b[0m\u001b[0;34m)\u001b[0m\u001b[0;34m\u001b[0m\u001b[0;34m\u001b[0m\u001b[0m\n\u001b[1;32m   1433\u001b[0m         \u001b[0;32mtry\u001b[0m\u001b[0;34m:\u001b[0m\u001b[0;34m\u001b[0m\u001b[0;34m\u001b[0m\u001b[0m\n\u001b[0;32m-> 1434\u001b[0;31m             \u001b[0mcx\u001b[0m\u001b[0;34m.\u001b[0m\u001b[0mpull\u001b[0m\u001b[0;34m(\u001b[0m\u001b[0mresult\u001b[0m\u001b[0;34m,\u001b[0m \u001b[0mn\u001b[0m\u001b[0;34m=\u001b[0m\u001b[0mn\u001b[0m\u001b[0;34m)\u001b[0m\u001b[0;34m\u001b[0m\u001b[0;34m\u001b[0m\u001b[0m\n\u001b[0m\u001b[1;32m   1435\u001b[0m         \u001b[0;32mexcept\u001b[0m \u001b[0;34m(\u001b[0m\u001b[0mConnectionUnavailable\u001b[0m\u001b[0;34m,\u001b[0m \u001b[0mConnectionBroken\u001b[0m\u001b[0;34m)\u001b[0m\u001b[0;34m:\u001b[0m\u001b[0;34m\u001b[0m\u001b[0;34m\u001b[0m\u001b[0m\n\u001b[1;32m   1436\u001b[0m             \u001b[0mself\u001b[0m\u001b[0;34m.\u001b[0m\u001b[0mprune\u001b[0m\u001b[0;34m(\u001b[0m\u001b[0mcx\u001b[0m\u001b[0;34m.\u001b[0m\u001b[0mprofile\u001b[0m\u001b[0;34m)\u001b[0m\u001b[0;34m\u001b[0m\u001b[0;34m\u001b[0m\u001b[0m\n",
      "\u001b[0;32m~/anaconda3/lib/python3.8/site-packages/py2neo/client/bolt.py\u001b[0m in \u001b[0;36mpull\u001b[0;34m(self, result, n, capacity)\u001b[0m\n\u001b[1;32m    993\u001b[0m         \u001b[0mresult\u001b[0m\u001b[0;34m.\u001b[0m\u001b[0mappend\u001b[0m\u001b[0;34m(\u001b[0m\u001b[0mresponse\u001b[0m\u001b[0;34m,\u001b[0m \u001b[0mfinal\u001b[0m\u001b[0;34m=\u001b[0m\u001b[0;34m(\u001b[0m\u001b[0mn\u001b[0m \u001b[0;34m==\u001b[0m \u001b[0;34m-\u001b[0m\u001b[0;36m1\u001b[0m\u001b[0;34m)\u001b[0m\u001b[0;34m)\u001b[0m\u001b[0;34m\u001b[0m\u001b[0;34m\u001b[0m\u001b[0m\n\u001b[1;32m    994\u001b[0m         \u001b[0;32mtry\u001b[0m\u001b[0;34m:\u001b[0m\u001b[0;34m\u001b[0m\u001b[0;34m\u001b[0m\u001b[0m\n\u001b[0;32m--> 995\u001b[0;31m             \u001b[0mself\u001b[0m\u001b[0;34m.\u001b[0m\u001b[0m_sync\u001b[0m\u001b[0;34m(\u001b[0m\u001b[0mresponse\u001b[0m\u001b[0;34m)\u001b[0m\u001b[0;34m\u001b[0m\u001b[0;34m\u001b[0m\u001b[0m\n\u001b[0m\u001b[1;32m    996\u001b[0m         \u001b[0;32mexcept\u001b[0m \u001b[0mBrokenWireError\u001b[0m \u001b[0;32mas\u001b[0m \u001b[0merror\u001b[0m\u001b[0;34m:\u001b[0m\u001b[0;34m\u001b[0m\u001b[0;34m\u001b[0m\u001b[0m\n\u001b[1;32m    997\u001b[0m             \u001b[0mresult\u001b[0m\u001b[0;34m.\u001b[0m\u001b[0mtransaction\u001b[0m\u001b[0;34m.\u001b[0m\u001b[0mmark_broken\u001b[0m\u001b[0;34m(\u001b[0m\u001b[0;34m)\u001b[0m\u001b[0;34m\u001b[0m\u001b[0;34m\u001b[0m\u001b[0m\n",
      "\u001b[0;32m~/anaconda3/lib/python3.8/site-packages/py2neo/client/bolt.py\u001b[0m in \u001b[0;36m_sync\u001b[0;34m(self, *responses)\u001b[0m\n\u001b[1;32m    797\u001b[0m         \u001b[0mself\u001b[0m\u001b[0;34m.\u001b[0m\u001b[0msend\u001b[0m\u001b[0;34m(\u001b[0m\u001b[0;34m)\u001b[0m\u001b[0;34m\u001b[0m\u001b[0;34m\u001b[0m\u001b[0m\n\u001b[1;32m    798\u001b[0m         \u001b[0;32mfor\u001b[0m \u001b[0mresponse\u001b[0m \u001b[0;32min\u001b[0m \u001b[0mresponses\u001b[0m\u001b[0;34m:\u001b[0m\u001b[0;34m\u001b[0m\u001b[0;34m\u001b[0m\u001b[0m\n\u001b[0;32m--> 799\u001b[0;31m             \u001b[0mself\u001b[0m\u001b[0;34m.\u001b[0m\u001b[0m_wait\u001b[0m\u001b[0;34m(\u001b[0m\u001b[0mresponse\u001b[0m\u001b[0;34m)\u001b[0m\u001b[0;34m\u001b[0m\u001b[0;34m\u001b[0m\u001b[0m\n\u001b[0m\u001b[1;32m    800\u001b[0m \u001b[0;34m\u001b[0m\u001b[0m\n\u001b[1;32m    801\u001b[0m     \u001b[0;32mdef\u001b[0m \u001b[0m_audit\u001b[0m\u001b[0;34m(\u001b[0m\u001b[0mself\u001b[0m\u001b[0;34m,\u001b[0m \u001b[0mtask\u001b[0m\u001b[0;34m)\u001b[0m\u001b[0;34m:\u001b[0m\u001b[0;34m\u001b[0m\u001b[0;34m\u001b[0m\u001b[0m\n",
      "\u001b[0;32m~/anaconda3/lib/python3.8/site-packages/py2neo/client/bolt.py\u001b[0m in \u001b[0;36m_wait\u001b[0;34m(self, response)\u001b[0m\n\u001b[1;32m    792\u001b[0m         \"\"\"\n\u001b[1;32m    793\u001b[0m         \u001b[0;32mwhile\u001b[0m \u001b[0;32mnot\u001b[0m \u001b[0mresponse\u001b[0m\u001b[0;34m.\u001b[0m\u001b[0mfull\u001b[0m\u001b[0;34m(\u001b[0m\u001b[0;34m)\u001b[0m \u001b[0;32mand\u001b[0m \u001b[0;32mnot\u001b[0m \u001b[0mresponse\u001b[0m\u001b[0;34m.\u001b[0m\u001b[0mdone\u001b[0m\u001b[0;34m(\u001b[0m\u001b[0;34m)\u001b[0m\u001b[0;34m:\u001b[0m\u001b[0;34m\u001b[0m\u001b[0;34m\u001b[0m\u001b[0m\n\u001b[0;32m--> 794\u001b[0;31m             \u001b[0mself\u001b[0m\u001b[0;34m.\u001b[0m\u001b[0m_fetch\u001b[0m\u001b[0;34m(\u001b[0m\u001b[0;34m)\u001b[0m\u001b[0;34m\u001b[0m\u001b[0;34m\u001b[0m\u001b[0m\n\u001b[0m\u001b[1;32m    795\u001b[0m \u001b[0;34m\u001b[0m\u001b[0m\n\u001b[1;32m    796\u001b[0m     \u001b[0;32mdef\u001b[0m \u001b[0m_sync\u001b[0m\u001b[0;34m(\u001b[0m\u001b[0mself\u001b[0m\u001b[0;34m,\u001b[0m \u001b[0;34m*\u001b[0m\u001b[0mresponses\u001b[0m\u001b[0;34m)\u001b[0m\u001b[0;34m:\u001b[0m\u001b[0;34m\u001b[0m\u001b[0;34m\u001b[0m\u001b[0m\n",
      "\u001b[0;32m~/anaconda3/lib/python3.8/site-packages/py2neo/client/bolt.py\u001b[0m in \u001b[0;36m_fetch\u001b[0;34m(self)\u001b[0m\n\u001b[1;32m    767\u001b[0m         \u001b[0mfailed\u001b[0m \u001b[0mstate\u001b[0m \u001b[0minto\u001b[0m \u001b[0man\u001b[0m \u001b[0mexception\u001b[0m\u001b[0;34m.\u001b[0m\u001b[0;34m\u001b[0m\u001b[0;34m\u001b[0m\u001b[0m\n\u001b[1;32m    768\u001b[0m         \"\"\"\n\u001b[0;32m--> 769\u001b[0;31m         \u001b[0mtag\u001b[0m\u001b[0;34m,\u001b[0m \u001b[0mfields\u001b[0m \u001b[0;34m=\u001b[0m \u001b[0mself\u001b[0m\u001b[0;34m.\u001b[0m\u001b[0mread_message\u001b[0m\u001b[0;34m(\u001b[0m\u001b[0;34m)\u001b[0m\u001b[0;34m\u001b[0m\u001b[0;34m\u001b[0m\u001b[0m\n\u001b[0m\u001b[1;32m    770\u001b[0m         \u001b[0;32mif\u001b[0m \u001b[0mtag\u001b[0m \u001b[0;34m==\u001b[0m \u001b[0;36m0x70\u001b[0m\u001b[0;34m:\u001b[0m\u001b[0;34m\u001b[0m\u001b[0;34m\u001b[0m\u001b[0m\n\u001b[1;32m    771\u001b[0m             \u001b[0mself\u001b[0m\u001b[0;34m.\u001b[0m\u001b[0m_responses\u001b[0m\u001b[0;34m.\u001b[0m\u001b[0mpopleft\u001b[0m\u001b[0;34m(\u001b[0m\u001b[0;34m)\u001b[0m\u001b[0;34m.\u001b[0m\u001b[0mset_success\u001b[0m\u001b[0;34m(\u001b[0m\u001b[0;34m**\u001b[0m\u001b[0mfields\u001b[0m\u001b[0;34m[\u001b[0m\u001b[0;36m0\u001b[0m\u001b[0;34m]\u001b[0m\u001b[0;34m)\u001b[0m\u001b[0;34m\u001b[0m\u001b[0;34m\u001b[0m\u001b[0m\n",
      "\u001b[0;32m~/anaconda3/lib/python3.8/site-packages/py2neo/client/bolt.py\u001b[0m in \u001b[0;36mread_message\u001b[0;34m(self)\u001b[0m\n\u001b[1;32m    694\u001b[0m \u001b[0;34m\u001b[0m\u001b[0m\n\u001b[1;32m    695\u001b[0m     \u001b[0;32mdef\u001b[0m \u001b[0mread_message\u001b[0m\u001b[0;34m(\u001b[0m\u001b[0mself\u001b[0m\u001b[0;34m)\u001b[0m\u001b[0;34m:\u001b[0m\u001b[0;34m\u001b[0m\u001b[0;34m\u001b[0m\u001b[0m\n\u001b[0;32m--> 696\u001b[0;31m         \u001b[0mtag\u001b[0m\u001b[0;34m,\u001b[0m \u001b[0mfields\u001b[0m \u001b[0;34m=\u001b[0m \u001b[0mself\u001b[0m\u001b[0;34m.\u001b[0m\u001b[0m_reader\u001b[0m\u001b[0;34m.\u001b[0m\u001b[0mread_message\u001b[0m\u001b[0;34m(\u001b[0m\u001b[0;34m)\u001b[0m\u001b[0;34m\u001b[0m\u001b[0;34m\u001b[0m\u001b[0m\n\u001b[0m\u001b[1;32m    697\u001b[0m         \u001b[0;32mif\u001b[0m \u001b[0mtag\u001b[0m \u001b[0;34m==\u001b[0m \u001b[0;36m0x71\u001b[0m\u001b[0;34m:\u001b[0m\u001b[0;34m\u001b[0m\u001b[0;34m\u001b[0m\u001b[0m\n\u001b[1;32m    698\u001b[0m             \u001b[0;31m# If a RECORD is received, check for more records\u001b[0m\u001b[0;34m\u001b[0m\u001b[0;34m\u001b[0m\u001b[0;34m\u001b[0m\u001b[0m\n",
      "\u001b[0;32m~/anaconda3/lib/python3.8/site-packages/py2neo/client/bolt.py\u001b[0m in \u001b[0;36mread_message\u001b[0;34m(self)\u001b[0m\n\u001b[1;32m    154\u001b[0m         \u001b[0;32mwhile\u001b[0m \u001b[0;32mTrue\u001b[0m\u001b[0;34m:\u001b[0m\u001b[0;34m\u001b[0m\u001b[0;34m\u001b[0m\u001b[0m\n\u001b[1;32m    155\u001b[0m             \u001b[0;32mtry\u001b[0m\u001b[0;34m:\u001b[0m\u001b[0;34m\u001b[0m\u001b[0;34m\u001b[0m\u001b[0m\n\u001b[0;32m--> 156\u001b[0;31m                 \u001b[0mhi\u001b[0m\u001b[0;34m,\u001b[0m \u001b[0mlo\u001b[0m \u001b[0;34m=\u001b[0m \u001b[0mself\u001b[0m\u001b[0;34m.\u001b[0m\u001b[0mwire\u001b[0m\u001b[0;34m.\u001b[0m\u001b[0mread\u001b[0m\u001b[0;34m(\u001b[0m\u001b[0;36m2\u001b[0m\u001b[0;34m)\u001b[0m\u001b[0;34m\u001b[0m\u001b[0;34m\u001b[0m\u001b[0m\n\u001b[0m\u001b[1;32m    157\u001b[0m             \u001b[0;32mexcept\u001b[0m \u001b[0mWireError\u001b[0m \u001b[0;32mas\u001b[0m \u001b[0merror\u001b[0m\u001b[0;34m:\u001b[0m\u001b[0;34m\u001b[0m\u001b[0;34m\u001b[0m\u001b[0m\n\u001b[1;32m    158\u001b[0m                 \u001b[0mraise_from\u001b[0m\u001b[0;34m(\u001b[0m\u001b[0mConnectionBroken\u001b[0m\u001b[0;34m(\u001b[0m\u001b[0;34m\"Failed to read message\"\u001b[0m\u001b[0;34m)\u001b[0m\u001b[0;34m,\u001b[0m \u001b[0merror\u001b[0m\u001b[0;34m)\u001b[0m\u001b[0;34m\u001b[0m\u001b[0;34m\u001b[0m\u001b[0m\n",
      "\u001b[0;32m~/anaconda3/lib/python3.8/site-packages/py2neo/wiring.py\u001b[0m in \u001b[0;36mread\u001b[0;34m(self, n)\u001b[0m\n\u001b[1;32m    115\u001b[0m             \u001b[0mrequested\u001b[0m \u001b[0;34m=\u001b[0m \u001b[0mmax\u001b[0m\u001b[0;34m(\u001b[0m\u001b[0mrequired\u001b[0m\u001b[0;34m,\u001b[0m \u001b[0;36m16384\u001b[0m\u001b[0;34m)\u001b[0m\u001b[0;34m\u001b[0m\u001b[0;34m\u001b[0m\u001b[0m\n\u001b[1;32m    116\u001b[0m             \u001b[0;32mtry\u001b[0m\u001b[0;34m:\u001b[0m\u001b[0;34m\u001b[0m\u001b[0;34m\u001b[0m\u001b[0m\n\u001b[0;32m--> 117\u001b[0;31m                 \u001b[0mreceived\u001b[0m \u001b[0;34m=\u001b[0m \u001b[0mself\u001b[0m\u001b[0;34m.\u001b[0m\u001b[0m__socket\u001b[0m\u001b[0;34m.\u001b[0m\u001b[0mrecv\u001b[0m\u001b[0;34m(\u001b[0m\u001b[0mrequested\u001b[0m\u001b[0;34m)\u001b[0m\u001b[0;34m\u001b[0m\u001b[0;34m\u001b[0m\u001b[0m\n\u001b[0m\u001b[1;32m    118\u001b[0m             \u001b[0;32mexcept\u001b[0m \u001b[0;34m(\u001b[0m\u001b[0mIOError\u001b[0m\u001b[0;34m,\u001b[0m \u001b[0mOSError\u001b[0m\u001b[0;34m)\u001b[0m\u001b[0;34m:\u001b[0m\u001b[0;34m\u001b[0m\u001b[0;34m\u001b[0m\u001b[0m\n\u001b[1;32m    119\u001b[0m                 \u001b[0mself\u001b[0m\u001b[0;34m.\u001b[0m\u001b[0m__mark_broken\u001b[0m\u001b[0;34m(\u001b[0m\u001b[0;34m\"Wire broken\"\u001b[0m\u001b[0;34m)\u001b[0m\u001b[0;34m\u001b[0m\u001b[0;34m\u001b[0m\u001b[0m\n",
      "\u001b[0;31mKeyboardInterrupt\u001b[0m: "
     ]
    }
   ],
   "source": [
    "%%time\n",
    "# This code creates nodes and relationship between nodes\n",
    "for i in range(len(df_m)):\n",
    "\n",
    "    a = Node(\"POST\", p_id=df_m.p_id[i], \n",
    "             title=df_m.p_title[i], \n",
    "             score=str(df_m.p_score[i]), \n",
    "             created=str(df_m.p_created[i]))\n",
    "    a.__primarylabel__ = \"POST\"\n",
    "    a.__primarykey__ = \"p_id\"\n",
    "    b = Node(\"COMMENT\", c_id=df_m.c_id[i], \n",
    "             body=df_m.c_body[i], \n",
    "             score=str(df_m.c_score[i]), \n",
    "             parentid=df_m.parentid[i], \n",
    "             created=str(df_m.c_created[i]))\n",
    "    b.__primarylabel__ = \"COMMENT\"\n",
    "    b.__primarykey__ = \"c_id\"\n",
    "    HAS = Relationship.type(\"HAS\")\n",
    "    g.merge(HAS(a, b)) # Relations between post and comment\n",
    "    \n",
    "    \n",
    "# Matching company mentioned in post's title with extracted and validated company list\n",
    "    \n",
    "    keywords = r.apply(df_m.p_title[i])\n",
    "    p_com=[]\n",
    "     \n",
    "    if len(keywords) > 0:\n",
    "        for i in range(len(keywords)):\n",
    "            result = re.search(\"\\$(\\w+)\", keywords[i][0])\n",
    "            if result and result.group(1).isalpha():\n",
    "                p_com.append(result.group(1))\n",
    "                \n",
    "        for k in p_com:\n",
    "            tt=[]\n",
    "            for x in k.split():\n",
    "                if x in comps:            \n",
    "                    c = Node(\"COMPANY\", name=x)\n",
    "                    c.__primarylabel__ = \"COMPANY\"\n",
    "                    c.__primarykey__ = \"name\"\n",
    "                    MENTIONS = Relationship.type(\"MENTIONS\")\n",
    "                    g.merge(MENTIONS(a, c)) # Relations between comment and companies mentioned\n",
    "                    \n",
    "                    sp=df_prices[df_prices.Ticker==x]\n",
    "                    sp.reset_index(drop=True,inplace=True)\n",
    "                    for j in range(len(sp)):\n",
    "                        d = Node(\"STOCKPRICE\", created=str(sp.Date[j]), \n",
    "                                 sopen=str(sp.Open[j]), \n",
    "                                 sclose=str(sp.Close[j]), \n",
    "                                 diff=str(sp.Delta[j]))\n",
    "                        d.__primarylabel__ = \"STOCKPRICE\"\n",
    "                        d.__primarykey__ = \"created\"\n",
    "                        ACTIVITY = Relationship.type(\"ACTIVITY\")\n",
    "                        g.merge(ACTIVITY(c, d)) # Relations between company and price movement\n",
    "\n",
    "# Matching company mentioned in comment's body with extracted and validated company list\n",
    "    \n",
    "    keywords = r.apply(df_m.c_body[i])\n",
    "    m_com=[]\n",
    "     \n",
    "    if len(keywords) > 0:\n",
    "        for i in range(len(keywords)):\n",
    "            result = re.search(\"\\$(\\w+)\", keywords[i][0])\n",
    "            if result and result.group(1).isalpha():\n",
    "                m_com.append(result.group(1))\n",
    "\n",
    "        for i in m_com:\n",
    "            tt=[]\n",
    "            for x in i.split():\n",
    "                if x in comps:            \n",
    "                    c = Node(\"COMPANY\", name=x)\n",
    "                    c.__primarylabel__ = \"COMPANY\"\n",
    "                    c.__primarykey__ = \"name\"\n",
    "                    MENTIONS = Relationship.type(\"MENTIONS\")\n",
    "                    g.merge(MENTIONS(b, c)) # Relations between comment and companies mentioned\n",
    "                    \n",
    "                    sp=df_prices[df_prices.Ticker==x]\n",
    "                    sp.reset_index(drop=True,inplace=True)\n",
    "                    for j in range(len(sp)):\n",
    "                        d = Node(\"STOCKPRICE\", created=str(sp.Date[j]), \n",
    "                                 sopen=str(sp.Open[j]), \n",
    "                                 sclose=str(sp.Close[j]), \n",
    "                                 diff=str(sp.Delta[j]))\n",
    "                        d.__primarylabel__ = \"STOCKPRICE\"\n",
    "                        d.__primarykey__ = \"created\"\n",
    "                        ACTIVITY = Relationship.type(\"ACTIVITY\")\n",
    "                        g.merge(ACTIVITY(c, d)) # Relations between company and price movement"
   ]
  },
  {
   "cell_type": "code",
   "execution_count": null,
   "id": "moderate-beverage",
   "metadata": {},
   "outputs": [],
   "source": []
  },
  {
   "cell_type": "code",
   "execution_count": 61,
   "id": "sustainable-ideal",
   "metadata": {},
   "outputs": [],
   "source": [
    "g.delete_all()"
   ]
  },
  {
   "cell_type": "code",
   "execution_count": null,
   "id": "funded-optimum",
   "metadata": {},
   "outputs": [],
   "source": [
    "g.nodes.match(\"POST\").count()"
   ]
  },
  {
   "cell_type": "code",
   "execution_count": null,
   "id": "oriented-ebony",
   "metadata": {},
   "outputs": [],
   "source": [
    "g.nodes.match(\"COMMENT\").count()"
   ]
  },
  {
   "cell_type": "markdown",
   "id": "coated-representative",
   "metadata": {},
   "source": [
    "## Graph Queries"
   ]
  },
  {
   "cell_type": "markdown",
   "id": "square-explorer",
   "metadata": {},
   "source": [
    "### Most popular Post"
   ]
  },
  {
   "cell_type": "code",
   "execution_count": null,
   "id": "bright-sunday",
   "metadata": {},
   "outputs": [],
   "source": [
    "g.run(\"match (p:POST)  return p.p_id, p.title,p.score order by p.score desc limit 1\")"
   ]
  },
  {
   "cell_type": "markdown",
   "id": "robust-fleet",
   "metadata": {},
   "source": [
    "### Most popular Comment"
   ]
  },
  {
   "cell_type": "code",
   "execution_count": null,
   "id": "geographic-continuity",
   "metadata": {},
   "outputs": [],
   "source": [
    "g.run(\"match (p:COMMENT) return p.c_id,p.body, p.score order by p.score desc limit 1\")"
   ]
  },
  {
   "cell_type": "markdown",
   "id": "recognized-savings",
   "metadata": {},
   "source": [
    "### Most Commented Post"
   ]
  },
  {
   "cell_type": "code",
   "execution_count": null,
   "id": "varying-rebound",
   "metadata": {},
   "outputs": [],
   "source": [
    "g.run(\"match (p:POST) -[e:HAS] -> (c:COMMENT) return p.p_id,p.title, count(e) as num order by num desc limit 1\")"
   ]
  },
  {
   "cell_type": "markdown",
   "id": "original-lawsuit",
   "metadata": {},
   "source": [
    "### Most mentioned company"
   ]
  },
  {
   "cell_type": "code",
   "execution_count": null,
   "id": "played-driving",
   "metadata": {},
   "outputs": [],
   "source": [
    "g.run(\"match (c:COMMENT) -[e:MENTIONS] -> (com:COMPANY) return com.name as Name, count(e) as num order by num desc limit 1\")"
   ]
  },
  {
   "cell_type": "code",
   "execution_count": null,
   "id": "average-joyce",
   "metadata": {},
   "outputs": [],
   "source": []
  },
  {
   "cell_type": "code",
   "execution_count": null,
   "id": "hawaiian-passport",
   "metadata": {},
   "outputs": [],
   "source": []
  },
  {
   "cell_type": "code",
   "execution_count": null,
   "id": "familiar-hazard",
   "metadata": {},
   "outputs": [],
   "source": [
    "## Demo ids\n",
    "p_id: pfgfbf"
   ]
  }
 ],
 "metadata": {
  "kernelspec": {
   "display_name": "Python 3",
   "language": "python",
   "name": "python3"
  },
  "language_info": {
   "codemirror_mode": {
    "name": "ipython",
    "version": 3
   },
   "file_extension": ".py",
   "mimetype": "text/x-python",
   "name": "python",
   "nbconvert_exporter": "python",
   "pygments_lexer": "ipython3",
   "version": "3.8.5"
  }
 },
 "nbformat": 4,
 "nbformat_minor": 5
}
