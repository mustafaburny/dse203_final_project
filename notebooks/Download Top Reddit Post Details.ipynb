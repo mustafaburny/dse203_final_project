{
 "cells": [
  {
   "cell_type": "code",
   "execution_count": 44,
   "id": "d9a6cae1-090c-465a-a2b6-a8b1d6bcd3b1",
   "metadata": {},
   "outputs": [],
   "source": [
    "import praw\n",
    "from psaw import PushshiftAPI\n",
    "import datetime as dt\n",
    "import pandas as pd\n",
    "import shutil\n",
    "import os\n",
    "from tqdm.notebook import tqdm_notebook\n",
    "import json\n",
    "import time"
   ]
  },
  {
   "cell_type": "code",
   "execution_count": 5,
   "id": "b21e26ca-b864-401d-8abf-2ff8ff68b4d9",
   "metadata": {},
   "outputs": [],
   "source": [
    "REDDIT_CLIENT_ID = '4FEO91ch16g-P_n8AxU2_A'\n",
    "REDDIT_CLIENT_SECRET = 'Q2cyR53G5a6IpsSAzLbevNtBiITYhw'\n",
    "REDDIT_USER_AGENT = 'desktop:DSE203 (by u/Life_is_Life)'\n",
    "\n",
    "SUBREDDITS_TO_EXTRACT = (\n",
    "    # Sources:\n",
    "    #  - https://thehiveindex.com/topics/investing/platform/reddit/\n",
    "    #  - https://www.investopedia.com/reddit-top-investing-and-trading-communities-5189322\n",
    "    'stocks',\n",
    "    'wallstreetbets',\n",
    "    'pennystocks',\n",
    "    'investing',\n",
    "    'Wallstreetbetsnew',\n",
    "    'StockMarket',\n",
    "    'options',\n",
    "    'RobinHood',\n",
    "    'RobinHoodPennyStocks',\n",
    "    'weedstocks',\n",
    "    'smallstreetbets',\n",
    "    'SecurityAnalysis',\n",
    "    'CanadianInvestor',\n",
    "    'SPACs',\n",
    "    'InvestmentClub',\n",
    "    'ValueInvesting',\n",
    "    'investing_discussion',\n",
    "    'stonks',\n",
    "    'shroomstocks',\n",
    ")\n",
    "\n",
    "ROOT_SAVE_DIR = 'top_reddit_posts_and_comments'\n",
    "JOB_DIR = '1638719861'"
   ]
  },
  {
   "cell_type": "code",
   "execution_count": 64,
   "id": "44bb634e-d168-49ac-b556-603936bdb694",
   "metadata": {},
   "outputs": [],
   "source": [
    "reddit = praw.Reddit(\n",
    "    client_id = REDDIT_CLIENT_ID,\n",
    "    client_secret = REDDIT_CLIENT_SECRET,\n",
    "    user_agent = REDDIT_USER_AGENT\n",
    ")\n",
    "\n",
    "api = PushshiftAPI()"
   ]
  },
  {
   "cell_type": "code",
   "execution_count": 11,
   "id": "fe2e3215-4cce-4c82-9254-ca42566191c4",
   "metadata": {},
   "outputs": [],
   "source": [
    "if not os.path.exists(os.path.join(ROOT_SAVE_DIR, JOB_DIR)):\n",
    "    raise FileNotFoundError()\n",
    "    \n",
    "os.makedirs(os.path.join(ROOT_SAVE_DIR, 'details'), exist_ok=False)"
   ]
  },
  {
   "cell_type": "code",
   "execution_count": 32,
   "id": "c1f0e8d3-640c-445b-83c6-8066aca7bcaf",
   "metadata": {},
   "outputs": [
    {
     "data": {
      "text/plain": [
       "1"
      ]
     },
     "execution_count": 32,
     "metadata": {},
     "output_type": "execute_result"
    }
   ],
   "source": [
    "reddit.config.ratelimit_seconds = 1\n",
    "\n",
    "reddit.config.ratelimit_seconds"
   ]
  },
  {
   "cell_type": "code",
   "execution_count": 45,
   "id": "87f1e2b0-60b3-4fe7-abb7-63009ea4f882",
   "metadata": {},
   "outputs": [
    {
     "data": {
      "application/vnd.jupyter.widget-view+json": {
       "model_id": "030a475e063a40fe99640c61a7b598bb",
       "version_major": 2,
       "version_minor": 0
      },
      "text/plain": [
       "  0%|          | 0/297 [00:00<?, ?it/s]"
      ]
     },
     "metadata": {},
     "output_type": "display_data"
    },
    {
     "ename": "AttributeError",
     "evalue": "'MoreComments' object has no attribute 'author'",
     "output_type": "error",
     "traceback": [
      "\u001b[1;31m---------------------------------------------------------------------------\u001b[0m",
      "\u001b[1;31mAttributeError\u001b[0m                            Traceback (most recent call last)",
      "\u001b[1;32m~\\AppData\\Local\\Temp/ipykernel_26020/3283697423.py\u001b[0m in \u001b[0;36m<module>\u001b[1;34m\u001b[0m\n\u001b[0;32m     13\u001b[0m     \u001b[1;32mfor\u001b[0m \u001b[0msubmission_comment\u001b[0m \u001b[1;32min\u001b[0m \u001b[0mreddit_submission\u001b[0m\u001b[1;33m.\u001b[0m\u001b[0mcomments\u001b[0m\u001b[1;33m.\u001b[0m\u001b[0mlist\u001b[0m\u001b[1;33m(\u001b[0m\u001b[1;33m)\u001b[0m\u001b[1;33m:\u001b[0m\u001b[1;33m\u001b[0m\u001b[1;33m\u001b[0m\u001b[0m\n\u001b[0;32m     14\u001b[0m         submission_comments.append({\n\u001b[1;32m---> 15\u001b[1;33m             \u001b[1;34m'author'\u001b[0m\u001b[1;33m:\u001b[0m \u001b[0msubmission_comment\u001b[0m\u001b[1;33m.\u001b[0m\u001b[0mauthor\u001b[0m\u001b[1;33m.\u001b[0m\u001b[0mname\u001b[0m \u001b[1;32mif\u001b[0m \u001b[0msubmission_comment\u001b[0m\u001b[1;33m.\u001b[0m\u001b[0mauthor\u001b[0m \u001b[1;32mis\u001b[0m \u001b[1;32mnot\u001b[0m \u001b[1;32mNone\u001b[0m \u001b[1;32melse\u001b[0m \u001b[1;32mNone\u001b[0m\u001b[1;33m,\u001b[0m\u001b[1;33m\u001b[0m\u001b[1;33m\u001b[0m\u001b[0m\n\u001b[0m\u001b[0;32m     16\u001b[0m             \u001b[1;34m'created'\u001b[0m\u001b[1;33m:\u001b[0m \u001b[0mdt\u001b[0m\u001b[1;33m.\u001b[0m\u001b[0mdatetime\u001b[0m\u001b[1;33m.\u001b[0m\u001b[0mfromtimestamp\u001b[0m\u001b[1;33m(\u001b[0m\u001b[0msubmission_comment\u001b[0m\u001b[1;33m.\u001b[0m\u001b[0mcreated\u001b[0m\u001b[1;33m)\u001b[0m\u001b[1;33m.\u001b[0m\u001b[0misoformat\u001b[0m\u001b[1;33m(\u001b[0m\u001b[1;33m)\u001b[0m\u001b[1;33m,\u001b[0m\u001b[1;33m\u001b[0m\u001b[1;33m\u001b[0m\u001b[0m\n\u001b[0;32m     17\u001b[0m             \u001b[1;34m'body'\u001b[0m\u001b[1;33m:\u001b[0m \u001b[0msubmission_comment\u001b[0m\u001b[1;33m.\u001b[0m\u001b[0mbody\u001b[0m\u001b[1;33m,\u001b[0m\u001b[1;33m\u001b[0m\u001b[1;33m\u001b[0m\u001b[0m\n",
      "\u001b[1;31mAttributeError\u001b[0m: 'MoreComments' object has no attribute 'author'"
     ]
    }
   ],
   "source": [
    "post_id_file = '20211125.json'\n",
    "\n",
    "date_data_list = list()\n",
    "for d in tqdm_notebook(json.load(open(os.path.join(ROOT_SAVE_DIR, JOB_DIR, post_id_file)))):\n",
    "    reddit_submission = reddit.submission(id=d['id'])\n",
    "    \n",
    "    submission_url = reddit_submission.url\n",
    "    submission_title = reddit_submission.title\n",
    "    submission_selftext = reddit_submission.selftext\n",
    "    submission_created = dt.datetime.fromtimestamp(reddit_submission.created).isoformat()\n",
    "\n",
    "    submission_comments = list()\n",
    "    for submission_comment in reddit_submission.comments:\n",
    "        if isinstance(submission_comment, praw.models.MoreComments):\n",
    "            continue\n",
    "\n",
    "        submission_comments.append({\n",
    "            'author': submission_comment.author.name if submission_comment.author is not None else None,\n",
    "            'created': dt.datetime.fromtimestamp(submission_comment.created).isoformat(),\n",
    "            'body': submission_comment.body,\n",
    "        })\n",
    "    \n",
    "    date_data_list.append({\n",
    "        'id': d['id'],\n",
    "        'url': submission_url,\n",
    "        'title': submission_title,\n",
    "        'selftext': submission_selftext,\n",
    "        'created': submission_created,\n",
    "        'comments': submission_comments,\n",
    "    })\n",
    "    \n",
    "    time.sleep(0.5)\n",
    "    \n",
    "with open(os.path.join(ROOT_SAVE_DIR, 'details', post_id_file), 'w') as f:\n",
    "    json.dump(date_data_list, f, indent=4)"
   ]
  },
  {
   "cell_type": "code",
   "execution_count": 74,
   "id": "6aaace0f-8e56-4407-8cdd-d46e99491c5a",
   "metadata": {},
   "outputs": [
    {
     "data": {
      "application/vnd.jupyter.widget-view+json": {
       "model_id": "ccf7a6b885414046b668202ed74dc06e",
       "version_major": 2,
       "version_minor": 0
      },
      "text/plain": [
       "  0%|          | 0/38 [00:00<?, ?it/s]"
      ]
     },
     "metadata": {},
     "output_type": "display_data"
    }
   ],
   "source": [
    "with tqdm_notebook(total=len(SUBREDDITS_TO_EXTRACT) * len(dates_to_extract)) as pbar:\n",
    "    for (start_epoch, end_epoch) in dates_to_extract[::-1]:\n",
    "        date_data_list = list()\n",
    "        \n",
    "        for subreddit_to_extract in SUBREDDITS_TO_EXTRACT:\n",
    "            submissions = list(api.search_submissions(\n",
    "                after = start_epoch,\n",
    "                before = end_epoch,\n",
    "                subreddit = subreddit_to_extract,\n",
    "                sort_type = 'num_comments',\n",
    "                filters = ['id', 'score', 'num_comments'],\n",
    "                sort = 'desc',\n",
    "                limit = 25\n",
    "            ))\n",
    "            \n",
    "            for submission in submissions:\n",
    "                submission_id = submission.id\n",
    "            \n",
    "                date_data_list.append({\n",
    "                    'subreddit': subreddit_to_extract,\n",
    "                    'id': submission_id,\n",
    "                    'score': submission.score,\n",
    "                    'num_comments': submission.num_comments,\n",
    "                })\n",
    "            \n",
    "            # Update progress bar\n",
    "            pbar.update()"
   ]
  },
  {
   "cell_type": "code",
   "execution_count": null,
   "id": "213694a9-6b94-491a-9145-e4b8cbea5e19",
   "metadata": {},
   "outputs": [],
   "source": []
  },
  {
   "cell_type": "code",
   "execution_count": null,
   "id": "ac2c4e47-cf3b-4cc2-9e29-ee4c443e3e6f",
   "metadata": {},
   "outputs": [],
   "source": []
  },
  {
   "cell_type": "code",
   "execution_count": null,
   "id": "b876e7e7-c419-4fb0-b1a8-fd3ba4a4f519",
   "metadata": {},
   "outputs": [],
   "source": []
  },
  {
   "cell_type": "code",
   "execution_count": 59,
   "id": "b528b210-50b9-4633-ad3a-9c03c3a786fd",
   "metadata": {},
   "outputs": [
    {
     "name": "stdout",
     "output_type": "stream",
     "text": [
      "2\n",
      "(1609488000, 1609574399)\n"
     ]
    }
   ],
   "source": [
    "START_DATE = '2021-01-01'\n",
    "END_DATE = '2021-01-02'\n",
    "\n",
    "# This object is a list. Each item in the list will have a 2-tuple (start_epoch, end_epoch)\n",
    "dates_to_extract = list()\n",
    "\n",
    "for date_to_extract in pd.date_range(START_DATE, END_DATE):\n",
    "    dates_to_extract.append(\n",
    "        tuple([\n",
    "            int(date_to_extract.to_pydatetime().timestamp()),\n",
    "            int((date_to_extract + pd.Timedelta(days=1) - pd.Timedelta(seconds=1)).to_pydatetime().timestamp())\n",
    "        ])\n",
    "    )\n",
    "\n",
    "print(len(dates_to_extract))\n",
    "print(dates_to_extract[0])"
   ]
  },
  {
   "cell_type": "code",
   "execution_count": null,
   "id": "586b17d8-ed20-4364-8c6b-f4b20641e28b",
   "metadata": {},
   "outputs": [],
   "source": []
  },
  {
   "cell_type": "code",
   "execution_count": null,
   "id": "a2e26fde-c489-49f3-909c-af5e15b7daaa",
   "metadata": {},
   "outputs": [
    {
     "data": {
      "text/plain": [
       "'r2fyun'"
      ]
     },
     "execution_count": 46,
     "metadata": {},
     "output_type": "execute_result"
    }
   ],
   "source": [
    "d['id']"
   ]
  },
  {
   "cell_type": "code",
   "execution_count": null,
   "id": "a0c5aaa9-9ea9-432b-8a68-84d3a55d3ebf",
   "metadata": {},
   "outputs": [
    {
     "data": {
      "text/plain": [
       "Submission(id='r2fyun')"
      ]
     },
     "execution_count": 50,
     "metadata": {},
     "output_type": "execute_result"
    }
   ],
   "source": [
    "mys = reddit.submission(id=d['id'])\n",
    "\n",
    "mys"
   ]
  }
 ],
 "metadata": {
  "kernelspec": {
   "display_name": "Python 3 (ipykernel)",
   "language": "python",
   "name": "python3"
  },
  "language_info": {
   "codemirror_mode": {
    "name": "ipython",
    "version": 3
   },
   "file_extension": ".py",
   "mimetype": "text/x-python",
   "name": "python",
   "nbconvert_exporter": "python",
   "pygments_lexer": "ipython3",
   "version": "3.10.0"
  }
 },
 "nbformat": 4,
 "nbformat_minor": 5
}
