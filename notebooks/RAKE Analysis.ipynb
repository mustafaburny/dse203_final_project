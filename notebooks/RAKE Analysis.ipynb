{
 "cells": [
  {
   "cell_type": "code",
   "execution_count": 8,
   "id": "af641278-bba8-471d-adf2-5093986c0aa5",
   "metadata": {},
   "outputs": [],
   "source": [
    "import RAKE\n",
    "import json\n",
    "import gzip\n",
    "from tqdm.notebook import tqdm_notebook"
   ]
  },
  {
   "cell_type": "code",
   "execution_count": 3,
   "id": "1b098e27-4fed-42f9-9dec-7b0371fdf587",
   "metadata": {},
   "outputs": [],
   "source": [
    "Rake = RAKE.Rake(RAKE.SmartStopList())"
   ]
  },
  {
   "cell_type": "code",
   "execution_count": 6,
   "id": "cb2b9935-410d-4a52-ace5-3a4231440074",
   "metadata": {},
   "outputs": [],
   "source": [
    "with gzip.open('all_data/reddit_submissions.json.gz', 'rb') as f:\n",
    "    reddit_submissions = json.load(f)"
   ]
  },
  {
   "cell_type": "code",
   "execution_count": 9,
   "id": "b5f05729-918d-4b96-a7a3-74ee56d6eae4",
   "metadata": {},
   "outputs": [
    {
     "data": {
      "text/plain": [
       "[('/wallstreetbets/comments/dwwugh/weekend_discussion_thread_november_1517_2019/f7m0i3g/',\n",
       "  25.0),\n",
       " ('weekend discussion thread', 9.0),\n",
       " ('heavy hitters reporting', 9.0),\n",
       " ('fourth trading week', 8.0),\n",
       " ('started forty-', 4.0),\n",
       " ('fridays ago', 4.0),\n",
       " ('notable earnings', 4.0),\n",
       " ('upcoming week]', 4.0),\n",
       " ('including apple', 4.0),\n",
       " ('verify dates', 4.0),\n",
       " ('brokerage platform', 4.0),\n",
       " ('___\\n\\nlink', 4.0),\n",
       " ('flair change', 3.333333333333333),\n",
       " ('week', 2.0),\n",
       " ('flair', 1.3333333333333333),\n",
       " ('back', 1.0),\n",
       " ('edition', 1.0),\n",
       " ('year', 1.0),\n",
       " ('finished', 1.0),\n",
       " ('tradition', 1.0),\n",
       " ('commenters', 1.0),\n",
       " ('don', 1.0),\n",
       " ('designate', 1.0),\n",
       " ('https', 1.0),\n",
       " ('imgur', 1.0),\n",
       " ('/iygzdso', 1.0),\n",
       " ('png', 1.0),\n",
       " ('microsoft', 1.0),\n",
       " ('tesla', 1.0),\n",
       " ('facebook', 1.0),\n",
       " ('boeing', 1.0),\n",
       " ('amd', 1.0),\n",
       " ('visa', 1.0),\n",
       " ('amazon', 1.0),\n",
       " ('case', 1.0),\n",
       " ('errors/', 1.0),\n",
       " ('[helplines', 1.0),\n",
       " ('found', 1.0),\n",
       " ('reddit', 1.0),\n",
       " ('[', 0),\n",
       " ('//', 0),\n",
       " (']', 0),\n",
       " ('/', 0)]"
      ]
     },
     "execution_count": 9,
     "metadata": {},
     "output_type": "execute_result"
    }
   ],
   "source": [
    "Rake.run(reddit_submissions[0]['selftext'])"
   ]
  },
  {
   "cell_type": "code",
   "execution_count": 7,
   "id": "dc1c0943-aab8-448f-8e60-64176eedb08d",
   "metadata": {},
   "outputs": [
    {
     "data": {
      "text/plain": [
       "{'stock_symbol': 'AAPL',\n",
       " 'author': 'stormwillpass',\n",
       " 'created_utc': '2020-01-24T12:30:00',\n",
       " 'id': 'etg465',\n",
       " 'num_comments': 11849,\n",
       " 'num_crossposts': 0,\n",
       " 'selftext': \"Welcome back to another edition of the Weekend Discussion Thread. Fourth trading week of the year has finished. \\n\\nAs a tradition that started forty-three Fridays ago, the first three commenters in each Weekend Discussion Thread will get a flair if they don't already have one, a flair change, or to designate a flair for someone else.\\n\\nNotable earnings for [the upcoming week](https://i.imgur.com/IygZDso.png).\\n\\nMany heavy hitters reporting next week, including Apple, Microsoft, Tesla, Facebook, Boeing, AMD, Visa, Amazon, etc.\\n\\nVerify dates on your brokerage platform in case of errors/changes.\\n\\n___\\n\\nLink to [helplines can be found here](https://old.reddit.com/r/wallstreetbets/comments/dwwugh/weekend_discussion_thread_november_1517_2019/f7m0i3g/)\",\n",
       " 'subreddit': 'wallstreetbets',\n",
       " 'title': 'Weekend Discussion Thread - January 24-26, 2020',\n",
       " 'url': 'https://www.reddit.com/r/wallstreetbets/comments/etg465/weekend_discussion_thread_january_2426_2020/',\n",
       " 'source': 'Custom Reddit API Query'}"
      ]
     },
     "execution_count": 7,
     "metadata": {},
     "output_type": "execute_result"
    }
   ],
   "source": []
  }
 ],
 "metadata": {
  "kernelspec": {
   "display_name": "Python 3 (ipykernel)",
   "language": "python",
   "name": "python3"
  },
  "language_info": {
   "codemirror_mode": {
    "name": "ipython",
    "version": 3
   },
   "file_extension": ".py",
   "mimetype": "text/x-python",
   "name": "python",
   "nbconvert_exporter": "python",
   "pygments_lexer": "ipython3",
   "version": "3.10.0"
  }
 },
 "nbformat": 4,
 "nbformat_minor": 5
}
