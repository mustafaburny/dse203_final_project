{
 "cells": [
  {
   "cell_type": "code",
   "execution_count": 1,
   "id": "instrumental-supervisor",
   "metadata": {},
   "outputs": [],
   "source": [
    "import pandas as pd"
   ]
  },
  {
   "cell_type": "code",
   "execution_count": 2,
   "id": "civil-cooper",
   "metadata": {},
   "outputs": [],
   "source": [
    "# Read Reddit post on wallstreetbets subreddit\n",
    "df_p = pd.read_csv('archive/wsb-aug-2021-posts.csv', usecols=None,names=['type', 'p_id', 'subid',\n",
    "                    'name', 'nsfw','created','p_permalink','domain','url','selftext','p_title','p_score'],skiprows=1)"
   ]
  },
  {
   "cell_type": "code",
   "execution_count": 3,
   "id": "southwest-washer",
   "metadata": {},
   "outputs": [
    {
     "data": {
      "text/plain": [
       "(25751, 4)"
      ]
     },
     "execution_count": 3,
     "metadata": {},
     "output_type": "execute_result"
    }
   ],
   "source": [
    "# Retain relevant columns\n",
    "df_p = df_p[['p_id','p_permalink','p_title','p_score']]\n",
    "df_p.shape"
   ]
  },
  {
   "cell_type": "code",
   "execution_count": 4,
   "id": "contemporary-actor",
   "metadata": {},
   "outputs": [],
   "source": [
    "# Read Comments to reddit posts file\n",
    "df_c = pd.read_csv('archive/wsb-aug-2021-comments.csv', usecols=None, names=['type', 'c_id', 'subid',\n",
    "                    'name', 'nsfw','created','c_permalink','c_body','c_sentiment','c_score'],skiprows=1)"
   ]
  },
  {
   "cell_type": "code",
   "execution_count": 5,
   "id": "boxed-explanation",
   "metadata": {},
   "outputs": [
    {
     "data": {
      "text/plain": [
       "(1001160, 6)"
      ]
     },
     "execution_count": 5,
     "metadata": {},
     "output_type": "execute_result"
    }
   ],
   "source": [
    "# Retain relevant columns\n",
    "df_c=df_c[['c_id','c_permalink','c_body','c_sentiment','c_score']]\n",
    "df_c['parentid']=df_c.c_permalink.str.slice(49,55) # Extract original post id from permalink\n",
    "df_c.shape"
   ]
  },
  {
   "cell_type": "code",
   "execution_count": 6,
   "id": "informal-marking",
   "metadata": {},
   "outputs": [
    {
     "data": {
      "text/html": [
       "<div>\n",
       "<style scoped>\n",
       "    .dataframe tbody tr th:only-of-type {\n",
       "        vertical-align: middle;\n",
       "    }\n",
       "\n",
       "    .dataframe tbody tr th {\n",
       "        vertical-align: top;\n",
       "    }\n",
       "\n",
       "    .dataframe thead th {\n",
       "        text-align: right;\n",
       "    }\n",
       "</style>\n",
       "<table border=\"1\" class=\"dataframe\">\n",
       "  <thead>\n",
       "    <tr style=\"text-align: right;\">\n",
       "      <th></th>\n",
       "      <th>p_id</th>\n",
       "      <th>p_permalink</th>\n",
       "      <th>p_title</th>\n",
       "      <th>p_score</th>\n",
       "    </tr>\n",
       "  </thead>\n",
       "  <tbody>\n",
       "    <tr>\n",
       "      <th>0</th>\n",
       "      <td>pfi0x7</td>\n",
       "      <td>https://old.reddit.com/r/wallstreetbets/commen...</td>\n",
       "      <td>Is BABA the next?</td>\n",
       "      <td>1</td>\n",
       "    </tr>\n",
       "    <tr>\n",
       "      <th>1</th>\n",
       "      <td>pfhz92</td>\n",
       "      <td>https://old.reddit.com/r/wallstreetbets/commen...</td>\n",
       "      <td>$TELL- According to Wall Street Journal its a ...</td>\n",
       "      <td>1</td>\n",
       "    </tr>\n",
       "    <tr>\n",
       "      <th>2</th>\n",
       "      <td>pfhxzc</td>\n",
       "      <td>https://old.reddit.com/r/wallstreetbets/commen...</td>\n",
       "      <td>IS BABA next?</td>\n",
       "      <td>1</td>\n",
       "    </tr>\n",
       "    <tr>\n",
       "      <th>3</th>\n",
       "      <td>pfhw6s</td>\n",
       "      <td>https://old.reddit.com/r/wallstreetbets/commen...</td>\n",
       "      <td>1.4K to 7.K overnight on FIVN puts. Thanks ZM!</td>\n",
       "      <td>79</td>\n",
       "    </tr>\n",
       "    <tr>\n",
       "      <th>4</th>\n",
       "      <td>pfhtyf</td>\n",
       "      <td>https://old.reddit.com/r/wallstreetbets/commen...</td>\n",
       "      <td>1.4K to 7.1K overnight on FIVN puts. Thanks ZM!</td>\n",
       "      <td>2</td>\n",
       "    </tr>\n",
       "  </tbody>\n",
       "</table>\n",
       "</div>"
      ],
      "text/plain": [
       "     p_id                                        p_permalink  \\\n",
       "0  pfi0x7  https://old.reddit.com/r/wallstreetbets/commen...   \n",
       "1  pfhz92  https://old.reddit.com/r/wallstreetbets/commen...   \n",
       "2  pfhxzc  https://old.reddit.com/r/wallstreetbets/commen...   \n",
       "3  pfhw6s  https://old.reddit.com/r/wallstreetbets/commen...   \n",
       "4  pfhtyf  https://old.reddit.com/r/wallstreetbets/commen...   \n",
       "\n",
       "                                             p_title  p_score  \n",
       "0                                  Is BABA the next?        1  \n",
       "1  $TELL- According to Wall Street Journal its a ...        1  \n",
       "2                                      IS BABA next?        1  \n",
       "3     1.4K to 7.K overnight on FIVN puts. Thanks ZM!       79  \n",
       "4    1.4K to 7.1K overnight on FIVN puts. Thanks ZM!        2  "
      ]
     },
     "execution_count": 6,
     "metadata": {},
     "output_type": "execute_result"
    }
   ],
   "source": [
    "df_p.head()"
   ]
  },
  {
   "cell_type": "code",
   "execution_count": 7,
   "id": "acquired-genealogy",
   "metadata": {},
   "outputs": [
    {
     "data": {
      "text/html": [
       "<div>\n",
       "<style scoped>\n",
       "    .dataframe tbody tr th:only-of-type {\n",
       "        vertical-align: middle;\n",
       "    }\n",
       "\n",
       "    .dataframe tbody tr th {\n",
       "        vertical-align: top;\n",
       "    }\n",
       "\n",
       "    .dataframe thead th {\n",
       "        text-align: right;\n",
       "    }\n",
       "</style>\n",
       "<table border=\"1\" class=\"dataframe\">\n",
       "  <thead>\n",
       "    <tr style=\"text-align: right;\">\n",
       "      <th></th>\n",
       "      <th>c_id</th>\n",
       "      <th>c_permalink</th>\n",
       "      <th>c_body</th>\n",
       "      <th>c_sentiment</th>\n",
       "      <th>c_score</th>\n",
       "      <th>parentid</th>\n",
       "    </tr>\n",
       "  </thead>\n",
       "  <tbody>\n",
       "    <tr>\n",
       "      <th>0</th>\n",
       "      <td>hb4hdm3</td>\n",
       "      <td>https://old.reddit.com/r/wallstreetbets/commen...</td>\n",
       "      <td>What's updog</td>\n",
       "      <td>NaN</td>\n",
       "      <td>3</td>\n",
       "      <td>pfdkjw</td>\n",
       "    </tr>\n",
       "    <tr>\n",
       "      <th>1</th>\n",
       "      <td>hb4hdm8</td>\n",
       "      <td>https://old.reddit.com/r/wallstreetbets/commen...</td>\n",
       "      <td>Don’t tell em</td>\n",
       "      <td>NaN</td>\n",
       "      <td>1</td>\n",
       "      <td>pfdkjw</td>\n",
       "    </tr>\n",
       "    <tr>\n",
       "      <th>2</th>\n",
       "      <td>hb4hdjc</td>\n",
       "      <td>https://old.reddit.com/r/wallstreetbets/commen...</td>\n",
       "      <td>I realize this, ive been losing thousands shoo...</td>\n",
       "      <td>0.6369</td>\n",
       "      <td>2</td>\n",
       "      <td>pfdkjw</td>\n",
       "    </tr>\n",
       "    <tr>\n",
       "      <th>3</th>\n",
       "      <td>hb4hdgo</td>\n",
       "      <td>https://old.reddit.com/r/wallstreetbets/commen...</td>\n",
       "      <td>then it tanks after earnings</td>\n",
       "      <td>0.0000</td>\n",
       "      <td>4</td>\n",
       "      <td>pfgr1h</td>\n",
       "    </tr>\n",
       "    <tr>\n",
       "      <th>4</th>\n",
       "      <td>hb4hdeh</td>\n",
       "      <td>https://old.reddit.com/r/wallstreetbets/commen...</td>\n",
       "      <td>Are you saying I should or shouldn’t yolo my l...</td>\n",
       "      <td>0.2732</td>\n",
       "      <td>1</td>\n",
       "      <td>pf3xee</td>\n",
       "    </tr>\n",
       "  </tbody>\n",
       "</table>\n",
       "</div>"
      ],
      "text/plain": [
       "      c_id                                        c_permalink  \\\n",
       "0  hb4hdm3  https://old.reddit.com/r/wallstreetbets/commen...   \n",
       "1  hb4hdm8  https://old.reddit.com/r/wallstreetbets/commen...   \n",
       "2  hb4hdjc  https://old.reddit.com/r/wallstreetbets/commen...   \n",
       "3  hb4hdgo  https://old.reddit.com/r/wallstreetbets/commen...   \n",
       "4  hb4hdeh  https://old.reddit.com/r/wallstreetbets/commen...   \n",
       "\n",
       "                                              c_body  c_sentiment  c_score  \\\n",
       "0                                       What's updog          NaN        3   \n",
       "1                                      Don’t tell em          NaN        1   \n",
       "2  I realize this, ive been losing thousands shoo...       0.6369        2   \n",
       "3                       then it tanks after earnings       0.0000        4   \n",
       "4  Are you saying I should or shouldn’t yolo my l...       0.2732        1   \n",
       "\n",
       "  parentid  \n",
       "0   pfdkjw  \n",
       "1   pfdkjw  \n",
       "2   pfdkjw  \n",
       "3   pfgr1h  \n",
       "4   pf3xee  "
      ]
     },
     "execution_count": 7,
     "metadata": {},
     "output_type": "execute_result"
    }
   ],
   "source": [
    "df_c.head()"
   ]
  },
  {
   "cell_type": "code",
   "execution_count": 8,
   "id": "resident-chess",
   "metadata": {},
   "outputs": [],
   "source": [
    "df_m=df_p.merge(df_c, left_on='p_id', right_on='parentid')"
   ]
  },
  {
   "cell_type": "code",
   "execution_count": 9,
   "id": "female-newfoundland",
   "metadata": {},
   "outputs": [
    {
     "data": {
      "text/plain": [
       "((983008, 10), (1001160, 6))"
      ]
     },
     "execution_count": 9,
     "metadata": {},
     "output_type": "execute_result"
    }
   ],
   "source": [
    "df_m.shape, df_c.shape"
   ]
  },
  {
   "cell_type": "code",
   "execution_count": 10,
   "id": "serious-healing",
   "metadata": {},
   "outputs": [
    {
     "data": {
      "text/html": [
       "<div>\n",
       "<style scoped>\n",
       "    .dataframe tbody tr th:only-of-type {\n",
       "        vertical-align: middle;\n",
       "    }\n",
       "\n",
       "    .dataframe tbody tr th {\n",
       "        vertical-align: top;\n",
       "    }\n",
       "\n",
       "    .dataframe thead th {\n",
       "        text-align: right;\n",
       "    }\n",
       "</style>\n",
       "<table border=\"1\" class=\"dataframe\">\n",
       "  <thead>\n",
       "    <tr style=\"text-align: right;\">\n",
       "      <th></th>\n",
       "      <th>p_id</th>\n",
       "      <th>p_permalink</th>\n",
       "      <th>p_title</th>\n",
       "      <th>p_score</th>\n",
       "      <th>c_id</th>\n",
       "      <th>c_permalink</th>\n",
       "      <th>c_body</th>\n",
       "      <th>c_sentiment</th>\n",
       "      <th>c_score</th>\n",
       "      <th>parentid</th>\n",
       "    </tr>\n",
       "  </thead>\n",
       "  <tbody>\n",
       "    <tr>\n",
       "      <th>0</th>\n",
       "      <td>pfi0x7</td>\n",
       "      <td>https://old.reddit.com/r/wallstreetbets/commen...</td>\n",
       "      <td>Is BABA the next?</td>\n",
       "      <td>1</td>\n",
       "      <td>hb4h9ng</td>\n",
       "      <td>https://old.reddit.com/r/wallstreetbets/commen...</td>\n",
       "      <td>I am a bot from /r/wallstreetbets. Your submis...</td>\n",
       "      <td>0.1615</td>\n",
       "      <td>1</td>\n",
       "      <td>pfi0x7</td>\n",
       "    </tr>\n",
       "    <tr>\n",
       "      <th>1</th>\n",
       "      <td>pfhz92</td>\n",
       "      <td>https://old.reddit.com/r/wallstreetbets/commen...</td>\n",
       "      <td>$TELL- According to Wall Street Journal its a ...</td>\n",
       "      <td>1</td>\n",
       "      <td>hb4gwxj</td>\n",
       "      <td>https://old.reddit.com/r/wallstreetbets/commen...</td>\n",
       "      <td>I am a bot from /r/wallstreetbets. Your submis...</td>\n",
       "      <td>0.1615</td>\n",
       "      <td>1</td>\n",
       "      <td>pfhz92</td>\n",
       "    </tr>\n",
       "    <tr>\n",
       "      <th>2</th>\n",
       "      <td>pfhxzc</td>\n",
       "      <td>https://old.reddit.com/r/wallstreetbets/commen...</td>\n",
       "      <td>IS BABA next?</td>\n",
       "      <td>1</td>\n",
       "      <td>hb4gnhf</td>\n",
       "      <td>https://old.reddit.com/r/wallstreetbets/commen...</td>\n",
       "      <td>I am a bot from /r/wallstreetbets. Your submis...</td>\n",
       "      <td>0.1615</td>\n",
       "      <td>1</td>\n",
       "      <td>pfhxzc</td>\n",
       "    </tr>\n",
       "    <tr>\n",
       "      <th>3</th>\n",
       "      <td>pfhxzc</td>\n",
       "      <td>https://old.reddit.com/r/wallstreetbets/commen...</td>\n",
       "      <td>IS BABA next?</td>\n",
       "      <td>1</td>\n",
       "      <td>hb4gle5</td>\n",
       "      <td>https://old.reddit.com/r/wallstreetbets/commen...</td>\n",
       "      <td>Your submission was removed from /r/wallstreet...</td>\n",
       "      <td>0.3182</td>\n",
       "      <td>1</td>\n",
       "      <td>pfhxzc</td>\n",
       "    </tr>\n",
       "    <tr>\n",
       "      <th>4</th>\n",
       "      <td>pfhw6s</td>\n",
       "      <td>https://old.reddit.com/r/wallstreetbets/commen...</td>\n",
       "      <td>1.4K to 7.K overnight on FIVN puts. Thanks ZM!</td>\n",
       "      <td>79</td>\n",
       "      <td>hb4h3o3</td>\n",
       "      <td>https://old.reddit.com/r/wallstreetbets/commen...</td>\n",
       "      <td>[deleted]</td>\n",
       "      <td>NaN</td>\n",
       "      <td>1</td>\n",
       "      <td>pfhw6s</td>\n",
       "    </tr>\n",
       "  </tbody>\n",
       "</table>\n",
       "</div>"
      ],
      "text/plain": [
       "     p_id                                        p_permalink  \\\n",
       "0  pfi0x7  https://old.reddit.com/r/wallstreetbets/commen...   \n",
       "1  pfhz92  https://old.reddit.com/r/wallstreetbets/commen...   \n",
       "2  pfhxzc  https://old.reddit.com/r/wallstreetbets/commen...   \n",
       "3  pfhxzc  https://old.reddit.com/r/wallstreetbets/commen...   \n",
       "4  pfhw6s  https://old.reddit.com/r/wallstreetbets/commen...   \n",
       "\n",
       "                                             p_title  p_score     c_id  \\\n",
       "0                                  Is BABA the next?        1  hb4h9ng   \n",
       "1  $TELL- According to Wall Street Journal its a ...        1  hb4gwxj   \n",
       "2                                      IS BABA next?        1  hb4gnhf   \n",
       "3                                      IS BABA next?        1  hb4gle5   \n",
       "4     1.4K to 7.K overnight on FIVN puts. Thanks ZM!       79  hb4h3o3   \n",
       "\n",
       "                                         c_permalink  \\\n",
       "0  https://old.reddit.com/r/wallstreetbets/commen...   \n",
       "1  https://old.reddit.com/r/wallstreetbets/commen...   \n",
       "2  https://old.reddit.com/r/wallstreetbets/commen...   \n",
       "3  https://old.reddit.com/r/wallstreetbets/commen...   \n",
       "4  https://old.reddit.com/r/wallstreetbets/commen...   \n",
       "\n",
       "                                              c_body  c_sentiment  c_score  \\\n",
       "0  I am a bot from /r/wallstreetbets. Your submis...       0.1615        1   \n",
       "1  I am a bot from /r/wallstreetbets. Your submis...       0.1615        1   \n",
       "2  I am a bot from /r/wallstreetbets. Your submis...       0.1615        1   \n",
       "3  Your submission was removed from /r/wallstreet...       0.3182        1   \n",
       "4                                          [deleted]          NaN        1   \n",
       "\n",
       "  parentid  \n",
       "0   pfi0x7  \n",
       "1   pfhz92  \n",
       "2   pfhxzc  \n",
       "3   pfhxzc  \n",
       "4   pfhw6s  "
      ]
     },
     "execution_count": 10,
     "metadata": {},
     "output_type": "execute_result"
    }
   ],
   "source": [
    "df_m.head()"
   ]
  },
  {
   "cell_type": "code",
   "execution_count": 11,
   "id": "contained-supervisor",
   "metadata": {},
   "outputs": [],
   "source": [
    "v = df_m.parentid.value_counts()\n",
    "df_m=df_m[df_m.parentid.isin(v.index[v.gt(15000)])]"
   ]
  },
  {
   "cell_type": "code",
   "execution_count": 12,
   "id": "immune-office",
   "metadata": {},
   "outputs": [],
   "source": [
    "df_m.reset_index(drop=True, inplace=True)"
   ]
  },
  {
   "cell_type": "code",
   "execution_count": 13,
   "id": "pacific-worth",
   "metadata": {},
   "outputs": [
    {
     "data": {
      "text/plain": [
       "(127524, 10)"
      ]
     },
     "execution_count": 13,
     "metadata": {},
     "output_type": "execute_result"
    }
   ],
   "source": [
    "df_m.shape"
   ]
  },
  {
   "cell_type": "code",
   "execution_count": 14,
   "id": "lonely-front",
   "metadata": {},
   "outputs": [
    {
     "data": {
      "text/html": [
       "<div>\n",
       "<style scoped>\n",
       "    .dataframe tbody tr th:only-of-type {\n",
       "        vertical-align: middle;\n",
       "    }\n",
       "\n",
       "    .dataframe tbody tr th {\n",
       "        vertical-align: top;\n",
       "    }\n",
       "\n",
       "    .dataframe thead th {\n",
       "        text-align: right;\n",
       "    }\n",
       "</style>\n",
       "<table border=\"1\" class=\"dataframe\">\n",
       "  <thead>\n",
       "    <tr style=\"text-align: right;\">\n",
       "      <th></th>\n",
       "      <th>p_id</th>\n",
       "      <th>p_permalink</th>\n",
       "      <th>p_title</th>\n",
       "      <th>p_score</th>\n",
       "      <th>c_id</th>\n",
       "      <th>c_permalink</th>\n",
       "      <th>c_body</th>\n",
       "      <th>c_sentiment</th>\n",
       "      <th>c_score</th>\n",
       "      <th>parentid</th>\n",
       "    </tr>\n",
       "  </thead>\n",
       "  <tbody>\n",
       "    <tr>\n",
       "      <th>0</th>\n",
       "      <td>pcuv2j</td>\n",
       "      <td>https://old.reddit.com/r/wallstreetbets/commen...</td>\n",
       "      <td>Weekend Discussion Thread for the Weekend of A...</td>\n",
       "      <td>404</td>\n",
       "      <td>hb423kx</td>\n",
       "      <td>https://old.reddit.com/r/wallstreetbets/commen...</td>\n",
       "      <td>Sauce?</td>\n",
       "      <td>NaN</td>\n",
       "      <td>1</td>\n",
       "      <td>pcuv2j</td>\n",
       "    </tr>\n",
       "    <tr>\n",
       "      <th>1</th>\n",
       "      <td>pcuv2j</td>\n",
       "      <td>https://old.reddit.com/r/wallstreetbets/commen...</td>\n",
       "      <td>Weekend Discussion Thread for the Weekend of A...</td>\n",
       "      <td>404</td>\n",
       "      <td>hb3cnne</td>\n",
       "      <td>https://old.reddit.com/r/wallstreetbets/commen...</td>\n",
       "      <td>[removed]</td>\n",
       "      <td>NaN</td>\n",
       "      <td>1</td>\n",
       "      <td>pcuv2j</td>\n",
       "    </tr>\n",
       "    <tr>\n",
       "      <th>2</th>\n",
       "      <td>pcuv2j</td>\n",
       "      <td>https://old.reddit.com/r/wallstreetbets/commen...</td>\n",
       "      <td>Weekend Discussion Thread for the Weekend of A...</td>\n",
       "      <td>404</td>\n",
       "      <td>hb2eohe</td>\n",
       "      <td>https://old.reddit.com/r/wallstreetbets/commen...</td>\n",
       "      <td>Yep enjoying the hurrication 🌀</td>\n",
       "      <td>0.6808</td>\n",
       "      <td>2</td>\n",
       "      <td>pcuv2j</td>\n",
       "    </tr>\n",
       "    <tr>\n",
       "      <th>3</th>\n",
       "      <td>pcuv2j</td>\n",
       "      <td>https://old.reddit.com/r/wallstreetbets/commen...</td>\n",
       "      <td>Weekend Discussion Thread for the Weekend of A...</td>\n",
       "      <td>404</td>\n",
       "      <td>hb12bhw</td>\n",
       "      <td>https://old.reddit.com/r/wallstreetbets/commen...</td>\n",
       "      <td>[removed]</td>\n",
       "      <td>NaN</td>\n",
       "      <td>1</td>\n",
       "      <td>pcuv2j</td>\n",
       "    </tr>\n",
       "    <tr>\n",
       "      <th>4</th>\n",
       "      <td>pcuv2j</td>\n",
       "      <td>https://old.reddit.com/r/wallstreetbets/commen...</td>\n",
       "      <td>Weekend Discussion Thread for the Weekend of A...</td>\n",
       "      <td>404</td>\n",
       "      <td>hb0tbmy</td>\n",
       "      <td>https://old.reddit.com/r/wallstreetbets/commen...</td>\n",
       "      <td>[deleted]</td>\n",
       "      <td>NaN</td>\n",
       "      <td>1</td>\n",
       "      <td>pcuv2j</td>\n",
       "    </tr>\n",
       "  </tbody>\n",
       "</table>\n",
       "</div>"
      ],
      "text/plain": [
       "     p_id                                        p_permalink  \\\n",
       "0  pcuv2j  https://old.reddit.com/r/wallstreetbets/commen...   \n",
       "1  pcuv2j  https://old.reddit.com/r/wallstreetbets/commen...   \n",
       "2  pcuv2j  https://old.reddit.com/r/wallstreetbets/commen...   \n",
       "3  pcuv2j  https://old.reddit.com/r/wallstreetbets/commen...   \n",
       "4  pcuv2j  https://old.reddit.com/r/wallstreetbets/commen...   \n",
       "\n",
       "                                             p_title  p_score     c_id  \\\n",
       "0  Weekend Discussion Thread for the Weekend of A...      404  hb423kx   \n",
       "1  Weekend Discussion Thread for the Weekend of A...      404  hb3cnne   \n",
       "2  Weekend Discussion Thread for the Weekend of A...      404  hb2eohe   \n",
       "3  Weekend Discussion Thread for the Weekend of A...      404  hb12bhw   \n",
       "4  Weekend Discussion Thread for the Weekend of A...      404  hb0tbmy   \n",
       "\n",
       "                                         c_permalink  \\\n",
       "0  https://old.reddit.com/r/wallstreetbets/commen...   \n",
       "1  https://old.reddit.com/r/wallstreetbets/commen...   \n",
       "2  https://old.reddit.com/r/wallstreetbets/commen...   \n",
       "3  https://old.reddit.com/r/wallstreetbets/commen...   \n",
       "4  https://old.reddit.com/r/wallstreetbets/commen...   \n",
       "\n",
       "                           c_body  c_sentiment  c_score parentid  \n",
       "0                          Sauce?          NaN        1   pcuv2j  \n",
       "1                       [removed]          NaN        1   pcuv2j  \n",
       "2  Yep enjoying the hurrication 🌀       0.6808        2   pcuv2j  \n",
       "3                       [removed]          NaN        1   pcuv2j  \n",
       "4                       [deleted]          NaN        1   pcuv2j  "
      ]
     },
     "execution_count": 14,
     "metadata": {},
     "output_type": "execute_result"
    }
   ],
   "source": [
    "df_m.head()"
   ]
  },
  {
   "cell_type": "code",
   "execution_count": 15,
   "id": "armed-algorithm",
   "metadata": {},
   "outputs": [],
   "source": [
    "from py2neo import Graph, Node, Relationship\n",
    "g = Graph(\"bolt://localhost:11006\", auth=('neo4j', 'admin'))\n"
   ]
  },
  {
   "cell_type": "code",
   "execution_count": 21,
   "id": "hawaiian-jerusalem",
   "metadata": {},
   "outputs": [],
   "source": [
    "# for i in range(1000):\n",
    "#     tx = g.begin()\n",
    "#     a = Node(\"Post\", id=df_m.p_id[i], title=df_m.p_title[i], score=str(df_m.p_score[i]))\n",
    "#     tx.create(a)\n",
    "#     b = Node(\"Comment\", id=df_m.c_id[i], body=df_m.c_body[i], score=str(df_m.c_score[i]), parentid=df_m.parentid[i])\n",
    "#     ab = Relationship(a, \"has\", b)\n",
    "#     tx.merge(ab) # change this to merge\n",
    "#     g.commit(tx)"
   ]
  },
  {
   "cell_type": "code",
   "execution_count": 25,
   "id": "automatic-acceptance",
   "metadata": {},
   "outputs": [],
   "source": [
    "for i in range(1000):\n",
    "    #tx = g.begin()\n",
    "    a = Node(\"Post\", id=df_m.p_id[i], title=df_m.p_title[i], score=str(df_m.p_score[i]))\n",
    "    #tx.create(a)\n",
    "    b = Node(\"Comment\", id=df_m.c_id[i], body=df_m.c_body[i], score=str(df_m.c_score[i]), parentid=df_m.parentid[i])\n",
    "    #ab = Relationship(a, \"has\", b)\n",
    "    HAS = Relationship.type(\"HAS\")\n",
    "    g.merge(HAS(a, b), \"POST\", \"id\")\n"
   ]
  },
  {
   "cell_type": "code",
   "execution_count": 29,
   "id": "complimentary-horse",
   "metadata": {},
   "outputs": [
    {
     "data": {
      "text/plain": [
       "1000"
      ]
     },
     "execution_count": 29,
     "metadata": {},
     "output_type": "execute_result"
    }
   ],
   "source": [
    "g.nodes.match(\"Comment\").count()"
   ]
  },
  {
   "cell_type": "code",
   "execution_count": 17,
   "id": "nuclear-oxford",
   "metadata": {},
   "outputs": [],
   "source": [
    "g.delete_all()"
   ]
  },
  {
   "cell_type": "code",
   "execution_count": null,
   "id": "alien-membrane",
   "metadata": {},
   "outputs": [],
   "source": []
  }
 ],
 "metadata": {
  "kernelspec": {
   "display_name": "Python 3",
   "language": "python",
   "name": "python3"
  },
  "language_info": {
   "codemirror_mode": {
    "name": "ipython",
    "version": 3
   },
   "file_extension": ".py",
   "mimetype": "text/x-python",
   "name": "python",
   "nbconvert_exporter": "python",
   "pygments_lexer": "ipython3",
   "version": "3.8.5"
  }
 },
 "nbformat": 4,
 "nbformat_minor": 5
}
