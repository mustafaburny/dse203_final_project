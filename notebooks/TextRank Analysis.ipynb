{
 "cells": [
  {
   "cell_type": "code",
   "execution_count": 1,
   "id": "63d9aad4-6f6e-4111-8b9a-1c0fdf9153d8",
   "metadata": {},
   "outputs": [],
   "source": [
    "import spacy\n",
    "import pytextrank\n",
    "import json\n",
    "import gzip\n",
    "from tqdm.notebook import tqdm_notebook\n",
    "import pandas as pd"
   ]
  },
  {
   "cell_type": "code",
   "execution_count": 2,
   "id": "c3d18d7b-ba1d-44b3-b344-d94f9be256b9",
   "metadata": {},
   "outputs": [
    {
     "data": {
      "text/plain": [
       "<pytextrank.base.BaseTextRankFactory at 0x24f6687f370>"
      ]
     },
     "execution_count": 2,
     "metadata": {},
     "output_type": "execute_result"
    }
   ],
   "source": [
    "nlp = spacy.load('en_core_web_sm')\n",
    "nlp.add_pipe('textrank')"
   ]
  },
  {
   "cell_type": "code",
   "execution_count": 3,
   "id": "7f990ab7-62ca-4995-9408-f9ec7c639207",
   "metadata": {},
   "outputs": [],
   "source": [
    "def spacy_process(text):\n",
    "    doc = nlp(text)\n",
    "    \n",
    "    # Lowercase\n",
    "    filtered_list = []\n",
    "    for token in doc:\n",
    "        filtered_list.append(token.lower_)\n",
    "    \n",
    "    # Remove punctuation\n",
    "    punctuations = \"?:!.,;()\"\n",
    "    for word in filtered_list:\n",
    "        if word in punctuations:\n",
    "            filtered_list.remove(word)\n",
    "    \n",
    "    # Remove whitespace characters\n",
    "    white_space = ['\\n', '\\t', '\\n\\n', '\\n\\n\\n']\n",
    "    for word in filtered_list:\n",
    "        if word in white_space:\n",
    "            filtered_list.remove(word)\n",
    "    \n",
    "    doc = nlp(' '.join(filtered_list))\n",
    "    \n",
    "    return doc._.phrases, ' '.join(filtered_list)"
   ]
  },
  {
   "cell_type": "code",
   "execution_count": 4,
   "id": "598da392-dc4c-4d4b-950c-f6d9afe567e7",
   "metadata": {},
   "outputs": [],
   "source": [
    "text_rank_data = list()"
   ]
  },
  {
   "cell_type": "code",
   "execution_count": 5,
   "id": "91248f54-d7ba-496a-a69c-4b6ea765d096",
   "metadata": {},
   "outputs": [
    {
     "data": {
      "application/vnd.jupyter.widget-view+json": {
       "model_id": "a28339a54e1d4f53ad15655f832a95cc",
       "version_major": 2,
       "version_minor": 0
      },
      "text/plain": [
       "  0%|          | 0/56 [00:00<?, ?it/s]"
      ]
     },
     "metadata": {},
     "output_type": "display_data"
    }
   ],
   "source": [
    "with gzip.open('all_data/reddit_submissions.json.gz', 'rb') as f:\n",
    "    reddit_submissions = json.load(f)\n",
    "\n",
    "relevant_submissions = filter(\n",
    "    lambda i: (\n",
    "        i['source'] == 'Kaggle' and \\\n",
    "        i['selftext'] is not None and \\\n",
    "        not ( i['selftext'] == '[removed]' or i['selftext'] == '[deleted]' )\n",
    "    ),\n",
    "    reddit_submissions\n",
    ")\n",
    "\n",
    "for reddit_submission in tqdm_notebook(list(relevant_submissions)):\n",
    "    text_rank_phrases, filtered_doc = spacy_process(reddit_submission['selftext'])\n",
    "    \n",
    "    for phrase in text_rank_phrases[0:10]:\n",
    "        text_rank_data.append({\n",
    "            'id': reddit_submission['id'],\n",
    "            'document_type': 'submission',\n",
    "            'phrase': phrase.text,\n",
    "            'rank': phrase.rank,\n",
    "            'count': phrase.count,\n",
    "        })"
   ]
  },
  {
   "cell_type": "code",
   "execution_count": 6,
   "id": "f66b22c0-4c03-4687-87d8-c901af634a6e",
   "metadata": {},
   "outputs": [
    {
     "data": {
      "application/vnd.jupyter.widget-view+json": {
       "model_id": "8a3b9aacad2a4c76ab59a263f40ac971",
       "version_major": 2,
       "version_minor": 0
      },
      "text/plain": [
       "  0%|          | 0/56 [00:00<?, ?it/s]"
      ]
     },
     "metadata": {},
     "output_type": "display_data"
    }
   ],
   "source": [
    "with gzip.open('all_data/reddit_comments.json.gz', 'rb') as f:\n",
    "    reddit_comments = json.load(f)\n",
    "\n",
    "relevant_comments = [i for i in reddit_comments if i['source'] == 'Kaggle' and i['body'] is not None]\n",
    "stock_symbols = set(i['stock_symbol'] for i in relevant_comments)\n",
    "\n",
    "for stock_symbol in tqdm_notebook(stock_symbols):\n",
    "    stock_top_comments = sorted([i for i in relevant_comments if i['stock_symbol'] == 'AAPL'], key=lambda i: i['score'], reverse=True)\n",
    "    \n",
    "    for comment in stock_top_comments:\n",
    "        text_rank_phrases, filtered_doc = spacy_process(comment['body'])\n",
    "        \n",
    "        for phrase in text_rank_phrases[0:10]:\n",
    "            text_rank_data.append({\n",
    "                'id': reddit_submission['id'],\n",
    "                'document_type': 'comment',\n",
    "                'phrase': phrase.text,\n",
    "                'rank': phrase.rank,\n",
    "                'count': phrase.count,\n",
    "            })"
   ]
  },
  {
   "cell_type": "code",
   "execution_count": 7,
   "id": "dadfce6b-69b1-4254-b021-c545a850f521",
   "metadata": {},
   "outputs": [
    {
     "data": {
      "text/plain": [
       "{'id': 'p22oxd',\n",
       " 'document_type': 'submission',\n",
       " 'phrase': 'line fib trends',\n",
       " 'rank': 0.08219014293954903,\n",
       " 'count': 1}"
      ]
     },
     "execution_count": 7,
     "metadata": {},
     "output_type": "execute_result"
    }
   ],
   "source": [
    "text_rank_data[0]"
   ]
  },
  {
   "cell_type": "code",
   "execution_count": 8,
   "id": "b871d583-4e54-4643-a504-d349bfbdb810",
   "metadata": {},
   "outputs": [
    {
     "data": {
      "text/plain": [
       "163688"
      ]
     },
     "execution_count": 8,
     "metadata": {},
     "output_type": "execute_result"
    }
   ],
   "source": [
    "len(text_rank_data)"
   ]
  },
  {
   "cell_type": "code",
   "execution_count": 9,
   "id": "aafe4532-284c-4b03-ad0f-b3a07272864d",
   "metadata": {},
   "outputs": [],
   "source": [
    "with open('all_data/text_rank_data.json', 'w') as f:\n",
    "    json.dump(text_rank_data, f, indent=4)"
   ]
  }
 ],
 "metadata": {
  "kernelspec": {
   "display_name": "Python 3 (ipykernel)",
   "language": "python",
   "name": "python3"
  },
  "language_info": {
   "codemirror_mode": {
    "name": "ipython",
    "version": 3
   },
   "file_extension": ".py",
   "mimetype": "text/x-python",
   "name": "python",
   "nbconvert_exporter": "python",
   "pygments_lexer": "ipython3",
   "version": "3.10.0"
  }
 },
 "nbformat": 4,
 "nbformat_minor": 5
}
