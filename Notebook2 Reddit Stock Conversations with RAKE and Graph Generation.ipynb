{
 "cells": [
  {
   "cell_type": "code",
   "execution_count": null,
   "id": "adult-cleaners",
   "metadata": {},
   "outputs": [],
   "source": [
    "#!pip install py2neo\n",
    "#!pip install nlp_rake\n",
    "#!pip install pytextrank\n",
    "#!python3 -m pip install -U pip\n",
    "#!python3 -m pip install -r requirements.txt\n",
    "#!python3 -m spacy download en_core_web_sm"
   ]
  },
  {
   "cell_type": "code",
   "execution_count": 6,
   "id": "interior-workplace",
   "metadata": {},
   "outputs": [],
   "source": [
    "import pandas as pd\n",
    "from py2neo import Graph,Node,Relationship\n",
    "from py2neo.bulk import create_nodes\n",
    "import re\n",
    "from py2neo.bulk import create_relationships\n",
    "import nltk\n",
    "import re\n",
    "import collections \n",
    "import datetime"
   ]
  },
  {
   "cell_type": "code",
   "execution_count": 22,
   "id": "emotional-devil",
   "metadata": {},
   "outputs": [],
   "source": [
    "# Read Reddit post on wallstreetbets subreddit\n",
    "df_p = pd.read_csv('data/wsb-aug-2021-posts.csv', usecols=None,names=['type', 'p_id', 'subid',\n",
    "                    'name', 'nsfw','p_created','p_permalink','domain','url','selftext','p_title','p_score'],skiprows=1)"
   ]
  },
  {
   "cell_type": "code",
   "execution_count": 23,
   "id": "honey-contribution",
   "metadata": {},
   "outputs": [
    {
     "data": {
      "text/plain": [
       "(25751, 5)"
      ]
     },
     "execution_count": 23,
     "metadata": {},
     "output_type": "execute_result"
    }
   ],
   "source": [
    "# Retain relevant columns\n",
    "df_p = df_p[['p_id','p_created','p_permalink','p_title','p_score']]\n",
    "df_p['p_created'] = df_p['p_created'].apply(lambda x: datetime.datetime.fromtimestamp(x).strftime('%d'))\n",
    "df_p.shape"
   ]
  },
  {
   "cell_type": "code",
   "execution_count": 25,
   "id": "divine-challenge",
   "metadata": {},
   "outputs": [],
   "source": [
    "# Read Comments to reddit posts file\n",
    "df_c = pd.read_csv('data/wsb-aug-2021-comments.csv', usecols=None, names=['type', 'c_id', 'subid',\n",
    "                    'name', 'nsfw','c_created','c_permalink','c_body','c_sentiment','c_score'],skiprows=1)"
   ]
  },
  {
   "cell_type": "code",
   "execution_count": 26,
   "id": "actual-vanilla",
   "metadata": {},
   "outputs": [
    {
     "data": {
      "text/plain": [
       "(1001160, 6)"
      ]
     },
     "execution_count": 26,
     "metadata": {},
     "output_type": "execute_result"
    }
   ],
   "source": [
    "# Retain relevant columns\n",
    "df_c=df_c[['c_id','c_created','c_permalink','c_body','c_score']]\n",
    "df_c['parentid']=df_c.c_permalink.str.slice(49,55) # Extract original post id from permalink\n",
    "df_c['c_created'] = df_c['c_created'].apply(lambda x: datetime.datetime.fromtimestamp(x).strftime('%d'))\n",
    "df_c.shape"
   ]
  },
  {
   "cell_type": "code",
   "execution_count": 27,
   "id": "realistic-coordination",
   "metadata": {},
   "outputs": [
    {
     "data": {
      "text/html": [
       "<div>\n",
       "<style scoped>\n",
       "    .dataframe tbody tr th:only-of-type {\n",
       "        vertical-align: middle;\n",
       "    }\n",
       "\n",
       "    .dataframe tbody tr th {\n",
       "        vertical-align: top;\n",
       "    }\n",
       "\n",
       "    .dataframe thead th {\n",
       "        text-align: right;\n",
       "    }\n",
       "</style>\n",
       "<table border=\"1\" class=\"dataframe\">\n",
       "  <thead>\n",
       "    <tr style=\"text-align: right;\">\n",
       "      <th></th>\n",
       "      <th>p_id</th>\n",
       "      <th>p_created</th>\n",
       "      <th>p_permalink</th>\n",
       "      <th>p_title</th>\n",
       "      <th>p_score</th>\n",
       "    </tr>\n",
       "  </thead>\n",
       "  <tbody>\n",
       "    <tr>\n",
       "      <th>0</th>\n",
       "      <td>pfi0x7</td>\n",
       "      <td>31</td>\n",
       "      <td>https://old.reddit.com/r/wallstreetbets/commen...</td>\n",
       "      <td>Is BABA the next?</td>\n",
       "      <td>1</td>\n",
       "    </tr>\n",
       "    <tr>\n",
       "      <th>1</th>\n",
       "      <td>pfhz92</td>\n",
       "      <td>31</td>\n",
       "      <td>https://old.reddit.com/r/wallstreetbets/commen...</td>\n",
       "      <td>$TELL- According to Wall Street Journal its a ...</td>\n",
       "      <td>1</td>\n",
       "    </tr>\n",
       "    <tr>\n",
       "      <th>2</th>\n",
       "      <td>pfhxzc</td>\n",
       "      <td>31</td>\n",
       "      <td>https://old.reddit.com/r/wallstreetbets/commen...</td>\n",
       "      <td>IS BABA next?</td>\n",
       "      <td>1</td>\n",
       "    </tr>\n",
       "    <tr>\n",
       "      <th>3</th>\n",
       "      <td>pfhw6s</td>\n",
       "      <td>31</td>\n",
       "      <td>https://old.reddit.com/r/wallstreetbets/commen...</td>\n",
       "      <td>1.4K to 7.K overnight on FIVN puts. Thanks ZM!</td>\n",
       "      <td>79</td>\n",
       "    </tr>\n",
       "    <tr>\n",
       "      <th>4</th>\n",
       "      <td>pfhtyf</td>\n",
       "      <td>31</td>\n",
       "      <td>https://old.reddit.com/r/wallstreetbets/commen...</td>\n",
       "      <td>1.4K to 7.1K overnight on FIVN puts. Thanks ZM!</td>\n",
       "      <td>2</td>\n",
       "    </tr>\n",
       "  </tbody>\n",
       "</table>\n",
       "</div>"
      ],
      "text/plain": [
       "     p_id p_created                                        p_permalink  \\\n",
       "0  pfi0x7        31  https://old.reddit.com/r/wallstreetbets/commen...   \n",
       "1  pfhz92        31  https://old.reddit.com/r/wallstreetbets/commen...   \n",
       "2  pfhxzc        31  https://old.reddit.com/r/wallstreetbets/commen...   \n",
       "3  pfhw6s        31  https://old.reddit.com/r/wallstreetbets/commen...   \n",
       "4  pfhtyf        31  https://old.reddit.com/r/wallstreetbets/commen...   \n",
       "\n",
       "                                             p_title  p_score  \n",
       "0                                  Is BABA the next?        1  \n",
       "1  $TELL- According to Wall Street Journal its a ...        1  \n",
       "2                                      IS BABA next?        1  \n",
       "3     1.4K to 7.K overnight on FIVN puts. Thanks ZM!       79  \n",
       "4    1.4K to 7.1K overnight on FIVN puts. Thanks ZM!        2  "
      ]
     },
     "execution_count": 27,
     "metadata": {},
     "output_type": "execute_result"
    }
   ],
   "source": [
    "df_p.head()"
   ]
  },
  {
   "cell_type": "code",
   "execution_count": 28,
   "id": "sweet-visitor",
   "metadata": {},
   "outputs": [
    {
     "data": {
      "text/html": [
       "<div>\n",
       "<style scoped>\n",
       "    .dataframe tbody tr th:only-of-type {\n",
       "        vertical-align: middle;\n",
       "    }\n",
       "\n",
       "    .dataframe tbody tr th {\n",
       "        vertical-align: top;\n",
       "    }\n",
       "\n",
       "    .dataframe thead th {\n",
       "        text-align: right;\n",
       "    }\n",
       "</style>\n",
       "<table border=\"1\" class=\"dataframe\">\n",
       "  <thead>\n",
       "    <tr style=\"text-align: right;\">\n",
       "      <th></th>\n",
       "      <th>c_id</th>\n",
       "      <th>c_created</th>\n",
       "      <th>c_permalink</th>\n",
       "      <th>c_body</th>\n",
       "      <th>c_score</th>\n",
       "      <th>parentid</th>\n",
       "    </tr>\n",
       "  </thead>\n",
       "  <tbody>\n",
       "    <tr>\n",
       "      <th>0</th>\n",
       "      <td>hb4hdm3</td>\n",
       "      <td>31</td>\n",
       "      <td>https://old.reddit.com/r/wallstreetbets/commen...</td>\n",
       "      <td>What's updog</td>\n",
       "      <td>3</td>\n",
       "      <td>pfdkjw</td>\n",
       "    </tr>\n",
       "    <tr>\n",
       "      <th>1</th>\n",
       "      <td>hb4hdm8</td>\n",
       "      <td>31</td>\n",
       "      <td>https://old.reddit.com/r/wallstreetbets/commen...</td>\n",
       "      <td>Don’t tell em</td>\n",
       "      <td>1</td>\n",
       "      <td>pfdkjw</td>\n",
       "    </tr>\n",
       "    <tr>\n",
       "      <th>2</th>\n",
       "      <td>hb4hdjc</td>\n",
       "      <td>31</td>\n",
       "      <td>https://old.reddit.com/r/wallstreetbets/commen...</td>\n",
       "      <td>I realize this, ive been losing thousands shoo...</td>\n",
       "      <td>2</td>\n",
       "      <td>pfdkjw</td>\n",
       "    </tr>\n",
       "    <tr>\n",
       "      <th>3</th>\n",
       "      <td>hb4hdgo</td>\n",
       "      <td>31</td>\n",
       "      <td>https://old.reddit.com/r/wallstreetbets/commen...</td>\n",
       "      <td>then it tanks after earnings</td>\n",
       "      <td>4</td>\n",
       "      <td>pfgr1h</td>\n",
       "    </tr>\n",
       "    <tr>\n",
       "      <th>4</th>\n",
       "      <td>hb4hdeh</td>\n",
       "      <td>31</td>\n",
       "      <td>https://old.reddit.com/r/wallstreetbets/commen...</td>\n",
       "      <td>Are you saying I should or shouldn’t yolo my l...</td>\n",
       "      <td>1</td>\n",
       "      <td>pf3xee</td>\n",
       "    </tr>\n",
       "  </tbody>\n",
       "</table>\n",
       "</div>"
      ],
      "text/plain": [
       "      c_id c_created                                        c_permalink  \\\n",
       "0  hb4hdm3        31  https://old.reddit.com/r/wallstreetbets/commen...   \n",
       "1  hb4hdm8        31  https://old.reddit.com/r/wallstreetbets/commen...   \n",
       "2  hb4hdjc        31  https://old.reddit.com/r/wallstreetbets/commen...   \n",
       "3  hb4hdgo        31  https://old.reddit.com/r/wallstreetbets/commen...   \n",
       "4  hb4hdeh        31  https://old.reddit.com/r/wallstreetbets/commen...   \n",
       "\n",
       "                                              c_body  c_score parentid  \n",
       "0                                       What's updog        3   pfdkjw  \n",
       "1                                      Don’t tell em        1   pfdkjw  \n",
       "2  I realize this, ive been losing thousands shoo...        2   pfdkjw  \n",
       "3                       then it tanks after earnings        4   pfgr1h  \n",
       "4  Are you saying I should or shouldn’t yolo my l...        1   pf3xee  "
      ]
     },
     "execution_count": 28,
     "metadata": {},
     "output_type": "execute_result"
    }
   ],
   "source": [
    "df_c.head()"
   ]
  },
  {
   "cell_type": "markdown",
   "id": "loaded-dividend",
   "metadata": {},
   "source": [
    "### Data Cleanup and merging"
   ]
  },
  {
   "cell_type": "code",
   "execution_count": 29,
   "id": "instructional-knowing",
   "metadata": {},
   "outputs": [
    {
     "data": {
      "text/plain": [
       "((25751, 5), (1001160, 6))"
      ]
     },
     "execution_count": 29,
     "metadata": {},
     "output_type": "execute_result"
    }
   ],
   "source": [
    "df_p.shape, df_c.shape"
   ]
  },
  {
   "cell_type": "code",
   "execution_count": 30,
   "id": "hundred-article",
   "metadata": {},
   "outputs": [],
   "source": [
    "#Dropping null values\n",
    "df_c.dropna(inplace=True)"
   ]
  },
  {
   "cell_type": "code",
   "execution_count": 31,
   "id": "protected-london",
   "metadata": {},
   "outputs": [
    {
     "data": {
      "text/plain": [
       "((25751, 5), (1001158, 6))"
      ]
     },
     "execution_count": 31,
     "metadata": {},
     "output_type": "execute_result"
    }
   ],
   "source": [
    "df_p.shape, df_c.shape"
   ]
  },
  {
   "cell_type": "code",
   "execution_count": 32,
   "id": "israeli-machine",
   "metadata": {},
   "outputs": [
    {
     "data": {
      "text/plain": [
       "((25751, 5), (857417, 6))"
      ]
     },
     "execution_count": 32,
     "metadata": {},
     "output_type": "execute_result"
    }
   ],
   "source": [
    "# Dropping rows with body and title as [removed]\n",
    "df_p=df_p[~df_p.p_title.str.match(pat='\\[?removed\\]')]\n",
    "df_c=df_c[~df_c.c_body.str.match(pat='\\[?removed\\]')]\n",
    "df_p.shape,df_c.shape"
   ]
  },
  {
   "cell_type": "code",
   "execution_count": 33,
   "id": "brave-membrane",
   "metadata": {},
   "outputs": [
    {
     "data": {
      "text/plain": [
       "((25751, 5), (813950, 6))"
      ]
     },
     "execution_count": 33,
     "metadata": {},
     "output_type": "execute_result"
    }
   ],
   "source": [
    "# Dropping rows with body and title as [deleted]\n",
    "df_p=df_p[~df_p.p_title.str.match(pat='\\[?deleted\\]')]\n",
    "df_c=df_c[~df_c.c_body.str.match(pat='\\[?deleted\\]')]\n",
    "df_p.shape,df_c.shape"
   ]
  },
  {
   "cell_type": "code",
   "execution_count": 34,
   "id": "small-concept",
   "metadata": {},
   "outputs": [
    {
     "data": {
      "text/plain": [
       "((25751, 5), (798002, 6))"
      ]
     },
     "execution_count": 34,
     "metadata": {},
     "output_type": "execute_result"
    }
   ],
   "source": [
    "# Dropping rows with body and title as [deleted]\n",
    "df_p=df_p[~df_p.p_title.str.contains(pat='Your submission was removed')]\n",
    "df_c=df_c[~df_c.c_body.str.contains(pat='Your submission was removed')]\n",
    "df_p.shape,df_c.shape"
   ]
  },
  {
   "cell_type": "code",
   "execution_count": 36,
   "id": "rising-detector",
   "metadata": {},
   "outputs": [
    {
     "data": {
      "text/plain": [
       "((25751, 5), (796535, 6))"
      ]
     },
     "execution_count": 36,
     "metadata": {},
     "output_type": "execute_result"
    }
   ],
   "source": [
    "# Dropping rows with body and title as [deleted]\n",
    "df_p=df_p[~df_p.p_title.str.contains('I am a bot from')]\n",
    "df_c=df_c[~df_c.c_body.str.match('I am a bot from')]\n",
    "df_p.shape,df_c.shape"
   ]
  },
  {
   "cell_type": "code",
   "execution_count": 37,
   "id": "basic-prediction",
   "metadata": {},
   "outputs": [],
   "source": [
    "df_p.reset_index(inplace=True,drop=True)\n",
    "df_c.reset_index(inplace=True,drop=True)"
   ]
  },
  {
   "cell_type": "code",
   "execution_count": 38,
   "id": "cross-collect",
   "metadata": {},
   "outputs": [],
   "source": [
    "#Merge the dataframes\n",
    "df_m=df_p.merge(df_c, left_on='p_id', right_on='parentid')"
   ]
  },
  {
   "cell_type": "code",
   "execution_count": 39,
   "id": "handmade-hygiene",
   "metadata": {},
   "outputs": [
    {
     "data": {
      "text/plain": [
       "(782307, 11)"
      ]
     },
     "execution_count": 39,
     "metadata": {},
     "output_type": "execute_result"
    }
   ],
   "source": [
    "df_m.shape"
   ]
  },
  {
   "cell_type": "code",
   "execution_count": 40,
   "id": "medical-belfast",
   "metadata": {},
   "outputs": [
    {
     "data": {
      "text/html": [
       "<div>\n",
       "<style scoped>\n",
       "    .dataframe tbody tr th:only-of-type {\n",
       "        vertical-align: middle;\n",
       "    }\n",
       "\n",
       "    .dataframe tbody tr th {\n",
       "        vertical-align: top;\n",
       "    }\n",
       "\n",
       "    .dataframe thead th {\n",
       "        text-align: right;\n",
       "    }\n",
       "</style>\n",
       "<table border=\"1\" class=\"dataframe\">\n",
       "  <thead>\n",
       "    <tr style=\"text-align: right;\">\n",
       "      <th></th>\n",
       "      <th>p_id</th>\n",
       "      <th>p_created</th>\n",
       "      <th>p_permalink</th>\n",
       "      <th>p_title</th>\n",
       "      <th>p_score</th>\n",
       "      <th>c_id</th>\n",
       "      <th>c_created</th>\n",
       "      <th>c_permalink</th>\n",
       "      <th>c_body</th>\n",
       "      <th>c_score</th>\n",
       "      <th>parentid</th>\n",
       "    </tr>\n",
       "  </thead>\n",
       "  <tbody>\n",
       "    <tr>\n",
       "      <th>0</th>\n",
       "      <td>pfhw6s</td>\n",
       "      <td>31</td>\n",
       "      <td>https://old.reddit.com/r/wallstreetbets/commen...</td>\n",
       "      <td>1.4K to 7.K overnight on FIVN puts. Thanks ZM!</td>\n",
       "      <td>79</td>\n",
       "      <td>hb4grlq</td>\n",
       "      <td>31</td>\n",
       "      <td>https://old.reddit.com/r/wallstreetbets/commen...</td>\n",
       "      <td>How do people do this?</td>\n",
       "      <td>4</td>\n",
       "      <td>pfhw6s</td>\n",
       "    </tr>\n",
       "    <tr>\n",
       "      <th>1</th>\n",
       "      <td>pfhw6s</td>\n",
       "      <td>31</td>\n",
       "      <td>https://old.reddit.com/r/wallstreetbets/commen...</td>\n",
       "      <td>1.4K to 7.K overnight on FIVN puts. Thanks ZM!</td>\n",
       "      <td>79</td>\n",
       "      <td>hb4ga59</td>\n",
       "      <td>31</td>\n",
       "      <td>https://old.reddit.com/r/wallstreetbets/commen...</td>\n",
       "      <td>\\n**User Report**| | | |\\n:--|:--|:--|:--\\n**T...</td>\n",
       "      <td>1</td>\n",
       "      <td>pfhw6s</td>\n",
       "    </tr>\n",
       "    <tr>\n",
       "      <th>2</th>\n",
       "      <td>pfhtyf</td>\n",
       "      <td>31</td>\n",
       "      <td>https://old.reddit.com/r/wallstreetbets/commen...</td>\n",
       "      <td>1.4K to 7.1K overnight on FIVN puts. Thanks ZM!</td>\n",
       "      <td>2</td>\n",
       "      <td>hb4ft1v</td>\n",
       "      <td>31</td>\n",
       "      <td>https://old.reddit.com/r/wallstreetbets/commen...</td>\n",
       "      <td>\\n**User Report**| | | |\\n:--|:--|:--|:--\\n**T...</td>\n",
       "      <td>1</td>\n",
       "      <td>pfhtyf</td>\n",
       "    </tr>\n",
       "    <tr>\n",
       "      <th>3</th>\n",
       "      <td>pfhq3j</td>\n",
       "      <td>31</td>\n",
       "      <td>https://old.reddit.com/r/wallstreetbets/commen...</td>\n",
       "      <td>Does anyone know what the first stock symbol i...</td>\n",
       "      <td>4</td>\n",
       "      <td>hb4gzf2</td>\n",
       "      <td>31</td>\n",
       "      <td>https://old.reddit.com/r/wallstreetbets/commen...</td>\n",
       "      <td>That company was delisted, the value is prob a...</td>\n",
       "      <td>3</td>\n",
       "      <td>pfhq3j</td>\n",
       "    </tr>\n",
       "    <tr>\n",
       "      <th>4</th>\n",
       "      <td>pfhq3j</td>\n",
       "      <td>31</td>\n",
       "      <td>https://old.reddit.com/r/wallstreetbets/commen...</td>\n",
       "      <td>Does anyone know what the first stock symbol i...</td>\n",
       "      <td>4</td>\n",
       "      <td>hb4g8h8</td>\n",
       "      <td>31</td>\n",
       "      <td>https://old.reddit.com/r/wallstreetbets/commen...</td>\n",
       "      <td>definitely means you’re gay bro.</td>\n",
       "      <td>6</td>\n",
       "      <td>pfhq3j</td>\n",
       "    </tr>\n",
       "  </tbody>\n",
       "</table>\n",
       "</div>"
      ],
      "text/plain": [
       "     p_id p_created                                        p_permalink  \\\n",
       "0  pfhw6s        31  https://old.reddit.com/r/wallstreetbets/commen...   \n",
       "1  pfhw6s        31  https://old.reddit.com/r/wallstreetbets/commen...   \n",
       "2  pfhtyf        31  https://old.reddit.com/r/wallstreetbets/commen...   \n",
       "3  pfhq3j        31  https://old.reddit.com/r/wallstreetbets/commen...   \n",
       "4  pfhq3j        31  https://old.reddit.com/r/wallstreetbets/commen...   \n",
       "\n",
       "                                             p_title  p_score     c_id  \\\n",
       "0     1.4K to 7.K overnight on FIVN puts. Thanks ZM!       79  hb4grlq   \n",
       "1     1.4K to 7.K overnight on FIVN puts. Thanks ZM!       79  hb4ga59   \n",
       "2    1.4K to 7.1K overnight on FIVN puts. Thanks ZM!        2  hb4ft1v   \n",
       "3  Does anyone know what the first stock symbol i...        4  hb4gzf2   \n",
       "4  Does anyone know what the first stock symbol i...        4  hb4g8h8   \n",
       "\n",
       "  c_created                                        c_permalink  \\\n",
       "0        31  https://old.reddit.com/r/wallstreetbets/commen...   \n",
       "1        31  https://old.reddit.com/r/wallstreetbets/commen...   \n",
       "2        31  https://old.reddit.com/r/wallstreetbets/commen...   \n",
       "3        31  https://old.reddit.com/r/wallstreetbets/commen...   \n",
       "4        31  https://old.reddit.com/r/wallstreetbets/commen...   \n",
       "\n",
       "                                              c_body  c_score parentid  \n",
       "0                             How do people do this?        4   pfhw6s  \n",
       "1  \\n**User Report**| | | |\\n:--|:--|:--|:--\\n**T...        1   pfhw6s  \n",
       "2  \\n**User Report**| | | |\\n:--|:--|:--|:--\\n**T...        1   pfhtyf  \n",
       "3  That company was delisted, the value is prob a...        3   pfhq3j  \n",
       "4                   definitely means you’re gay bro.        6   pfhq3j  "
      ]
     },
     "execution_count": 40,
     "metadata": {},
     "output_type": "execute_result"
    }
   ],
   "source": [
    "df_m.reset_index(inplace=True,drop=True)\n",
    "df_m.head()"
   ]
  },
  {
   "cell_type": "markdown",
   "id": "streaming-malpractice",
   "metadata": {},
   "source": [
    "### Most popular Post in Dataset"
   ]
  },
  {
   "cell_type": "code",
   "execution_count": 41,
   "id": "psychological-recycling",
   "metadata": {},
   "outputs": [
    {
     "name": "stdout",
     "output_type": "stream",
     "text": [
      "Most popular posts is ['My portfolio after discovering wsb'] \n",
      "with the score of 45414\n"
     ]
    }
   ],
   "source": [
    "print(f'''Most popular posts is {df_p[df_p.p_score == df_p.p_score.max()].p_title.values} \n",
    "with the score of {df_p.p_score.max()}''')"
   ]
  },
  {
   "cell_type": "markdown",
   "id": "stopped-murder",
   "metadata": {},
   "source": [
    "### Most popular Comment in Dataset"
   ]
  },
  {
   "cell_type": "code",
   "execution_count": 42,
   "id": "superb-apparel",
   "metadata": {},
   "outputs": [
    {
     "name": "stdout",
     "output_type": "stream",
     "text": [
      "Most popular posts is ['Ok so I\\'d just remove the letter \"k\" from the post because if you do that then you\\'ll only be down $15 instead of $15k, and that\\'s a really manageable loss.'] \n",
      "      with the score of 21129\n"
     ]
    }
   ],
   "source": [
    "print(f'''Most popular posts is {df_c[df_c.c_score == df_c.c_score.max()].c_body.values} \n",
    "      with the score of {df_c.c_score.max()}''')"
   ]
  },
  {
   "cell_type": "markdown",
   "id": "phantom-violence",
   "metadata": {},
   "source": [
    "### Most commented post in Dataset"
   ]
  },
  {
   "cell_type": "code",
   "execution_count": 43,
   "id": "coordinate-store",
   "metadata": {},
   "outputs": [
    {
     "name": "stdout",
     "output_type": "stream",
     "text": [
      "Most commented post is: Weekend Discussion Thread for the Weekend of August 13, 2021\n"
     ]
    }
   ],
   "source": [
    "a=df_m['parentid'].mode()\n",
    "title=df_m.p_title[df_m.p_id == 'p3sv76']\n",
    "print(f'Most commented post is: {title[title.index[0]]}')"
   ]
  },
  {
   "cell_type": "markdown",
   "id": "transparent-platform",
   "metadata": {},
   "source": [
    "## Keyword Extraction"
   ]
  },
  {
   "cell_type": "code",
   "execution_count": 44,
   "id": "corrected-fifteen",
   "metadata": {},
   "outputs": [],
   "source": [
    "# We had a problem of scale. Running keyword extraction, validation\n",
    "# was not possible for 1M+ records so we decided to curtail our dataset\n",
    "\n",
    "v = df_m.p_id.value_counts()\n",
    "df_m=df_m[df_m.p_id.isin(v.index[v.gt(12000)])]\n",
    "df_m.reset_index(drop=True, inplace=True)"
   ]
  },
  {
   "cell_type": "code",
   "execution_count": 45,
   "id": "dress-cocktail",
   "metadata": {},
   "outputs": [
    {
     "name": "stdout",
     "output_type": "stream",
     "text": [
      "Number of Posts: 8\n",
      "Number of Comments: 122471\n"
     ]
    }
   ],
   "source": [
    "print('Number of Posts:', len(df_m.p_id.unique()))\n",
    "print('Number of Comments:', len(df_m.c_id.unique()))"
   ]
  },
  {
   "cell_type": "markdown",
   "id": "greenhouse-progress",
   "metadata": {},
   "source": [
    "### Using RAKE (We decided to use rack over spacy for better output and performance)"
   ]
  },
  {
   "cell_type": "code",
   "execution_count": 46,
   "id": "chubby-brass",
   "metadata": {},
   "outputs": [
    {
     "name": "stderr",
     "output_type": "stream",
     "text": [
      "[nltk_data] Downloading package stopwords to\n",
      "[nltk_data]     /Users/asachan/nltk_data...\n",
      "[nltk_data]   Package stopwords is already up-to-date!\n"
     ]
    },
    {
     "data": {
      "text/plain": [
       "True"
      ]
     },
     "execution_count": 46,
     "metadata": {},
     "output_type": "execute_result"
    }
   ],
   "source": [
    "#Download stopwords\n",
    "nltk.download('stopwords')"
   ]
  },
  {
   "cell_type": "code",
   "execution_count": 47,
   "id": "italic-jefferson",
   "metadata": {},
   "outputs": [],
   "source": [
    "from nlp_rake import Rake\n",
    "r = Rake(\n",
    "    min_chars=2,\n",
    "    max_words=5,\n",
    "    min_freq=1\n",
    ")"
   ]
  },
  {
   "cell_type": "code",
   "execution_count": 48,
   "id": "aggressive-figure",
   "metadata": {},
   "outputs": [
    {
     "name": "stdout",
     "output_type": "stream",
     "text": [
      "Number of unique posts:  8\n",
      "Number of unique titles:  122471\n"
     ]
    }
   ],
   "source": [
    "posts = df_m.p_title.unique()\n",
    "titles = df_m.c_body.values\n",
    "print('Number of unique posts: ',len(posts))\n",
    "print('Number of unique titles: ',len(titles))"
   ]
  },
  {
   "cell_type": "code",
   "execution_count": 49,
   "id": "impressive-modern",
   "metadata": {},
   "outputs": [
    {
     "name": "stdout",
     "output_type": "stream",
     "text": [
      "Number of keywords extracted: 0\n",
      "CPU times: user 390 ms, sys: 127 ms, total: 518 ms\n",
      "Wall time: 553 ms\n"
     ]
    }
   ],
   "source": [
    "%%time\n",
    "# Get all stock symbol from title of the post.\n",
    "title_ent=[]\n",
    "for i in range(len(posts)):   \n",
    "    keywords = r.apply(posts[i])\n",
    "    if len(keywords) > 0:\n",
    "        result = re.search(\"\\$(\\w+)\", keywords[0][0])\n",
    "        if result:\n",
    "            title_ent.append(result.group(1))\n",
    "print('Number of keywords extracted:', len(title_ent))"
   ]
  },
  {
   "cell_type": "code",
   "execution_count": 50,
   "id": "opening-stamp",
   "metadata": {},
   "outputs": [
    {
     "name": "stdout",
     "output_type": "stream",
     "text": [
      "Number of keywords extracted: 1456\n",
      "CPU times: user 10min 53s, sys: 4.43 s, total: 10min 58s\n",
      "Wall time: 11min 3s\n"
     ]
    }
   ],
   "source": [
    "%%time\n",
    "# Get all stock symbol from the body of the comments.\n",
    "body_ent=[]\n",
    "for i in range(len(titles)):    \n",
    "    keywords = r.apply(titles[i])\n",
    "    if len(keywords) > 0:\n",
    "        for i in range(len(keywords)):\n",
    "            result = re.search(\"\\$(\\w+)\", keywords[i][0])\n",
    "            if result and result.group(1).isalpha():\n",
    "                body_ent.append(result.group(1))\n",
    "print('Number of keywords extracted:', len(body_ent))"
   ]
  },
  {
   "cell_type": "code",
   "execution_count": 154,
   "id": "herbal-smell",
   "metadata": {},
   "outputs": [
    {
     "name": "stdout",
     "output_type": "stream",
     "text": [
      "Number of companies mentioned in comments 363\n",
      "Sample of companies stock symbol extracted ['nvida', 'play', 'luv', 'bili', 'nflx', 'fvrr', 'maxr', 'ejh', 'geni', 'mdlz', 'fsm', 'amc', 'khc', 'ater', 'b', 'baba', 'cat', 'ge', 'jmia', 'hit', 'jack', 'su', 'vzio', 'deez', 'amzn', 'xl', 'ed', 'azz', 'uwmc', 'webr', 'spy', 'tsla', 'qs', 'zbra', 'afrm', 'pbya', 'pton', 'stla', 'manu', 'clne', 'root', 'gaymf', 'gld', 'mmnd', 'asml', 'tali', 'mu', 'et', 'atvi', 'ej']\n"
     ]
    }
   ],
   "source": [
    "title_ent=set(title_ent)\n",
    "body_ent=set(body_ent)\n",
    "m_com=title_ent.union(body_ent)\n",
    "m_com = list(body_ent)\n",
    "\n",
    "print('Number of companies mentioned in comments',len(body_ent))\n",
    "print('Sample of companies stock symbol extracted', m_com[100:150])"
   ]
  },
  {
   "cell_type": "markdown",
   "id": "hispanic-participant",
   "metadata": {},
   "source": [
    "### Using pytextrank and spacy (Performance and accuracy is not as good as RACK)"
   ]
  },
  {
   "cell_type": "code",
   "execution_count": null,
   "id": "generous-shopper",
   "metadata": {},
   "outputs": [],
   "source": [
    "#https://towardsdatascience.com/keyword-extraction-a-benchmark-of-7-algorithms-in-python-8a905326d93f - Keyword extraction comparison\n",
    "# import pytextrank\n",
    "# import spacy"
   ]
  },
  {
   "cell_type": "code",
   "execution_count": null,
   "id": "billion-rendering",
   "metadata": {},
   "outputs": [],
   "source": [
    "# nlp = spacy.load(\"en_core_web_sm\")\n",
    "# nlp.add_pipe(\"textrank\")"
   ]
  },
  {
   "cell_type": "code",
   "execution_count": null,
   "id": "contained-cyprus",
   "metadata": {},
   "outputs": [],
   "source": [
    "# %%time\n",
    "# ## Extract keywords from title of the post\n",
    "# p_ent=[]\n",
    "# for i in range(len(df_p)):\n",
    "#     doc=nlp(df_p.p_title[i])\n",
    "#     for ent in doc.ents:\n",
    "#         p_ent.append(ent.text) # named entity and noun chunk yields same result"
   ]
  },
  {
   "cell_type": "code",
   "execution_count": null,
   "id": "invisible-mitchell",
   "metadata": {},
   "outputs": [],
   "source": [
    "# %%time\n",
    "# ## Extract keywords from body of the comments\n",
    "# c_ent=[]\n",
    "# for i in range(len(df_c)):\n",
    "#     doc=nlp(df_c.c_body[i])\n",
    "#     for ent in doc.ents:\n",
    "#         c_ent.append(ent.text) # named entity and noun chunk yields same result"
   ]
  },
  {
   "cell_type": "markdown",
   "id": "quick-importance",
   "metadata": {},
   "source": [
    "### Merging output of LDA with the dataframe"
   ]
  },
  {
   "cell_type": "code",
   "execution_count": 69,
   "id": "demographic-philip",
   "metadata": {},
   "outputs": [
    {
     "name": "stderr",
     "output_type": "stream",
     "text": [
      "/Users/asachan/anaconda3/lib/python3.8/site-packages/IPython/core/interactiveshell.py:3155: DtypeWarning: Columns (1,2,3,4,5,6,9,11) have mixed types.Specify dtype option on import or set low_memory=False.\n",
      "  has_raised = await self.run_ast_nodes(code_ast.body, cell_name,\n"
     ]
    },
    {
     "data": {
      "text/plain": [
       "((246881, 12), (122471, 11), (322607, 2))"
      ]
     },
     "execution_count": 69,
     "metadata": {},
     "output_type": "execute_result"
    }
   ],
   "source": [
    "topics=pd.read_csv('Topics.csv')\n",
    "topics['c_id']=topics['id']\n",
    "topics = topics[['c_id','topic_label']]\n",
    "temp1 = df_m\n",
    "temp2= temp1.merge(topics,left_on='c_id', right_on='c_id')\n",
    "temp2.shape,df_m.shape, topics.shape"
   ]
  },
  {
   "cell_type": "code",
   "execution_count": 71,
   "id": "painted-nudist",
   "metadata": {},
   "outputs": [],
   "source": [
    "temp2.dropna(inplace=True)"
   ]
  },
  {
   "cell_type": "code",
   "execution_count": 72,
   "id": "greenhouse-implementation",
   "metadata": {},
   "outputs": [
    {
     "data": {
      "text/plain": [
       "(122467, 12)"
      ]
     },
     "execution_count": 72,
     "metadata": {},
     "output_type": "execute_result"
    }
   ],
   "source": [
    "temp2.shape"
   ]
  },
  {
   "cell_type": "code",
   "execution_count": 73,
   "id": "included-shark",
   "metadata": {},
   "outputs": [],
   "source": [
    "df_m=temp2\n",
    "df_m.reset_index(drop=True,inplace=True)"
   ]
  },
  {
   "cell_type": "markdown",
   "id": "substantial-miracle",
   "metadata": {},
   "source": [
    "### Validating and getting stock price from finance.yahoo.com"
   ]
  },
  {
   "cell_type": "code",
   "execution_count": 74,
   "id": "periodic-tennessee",
   "metadata": {},
   "outputs": [
    {
     "name": "stdout",
     "output_type": "stream",
     "text": [
      "- HOODRATS: No data found, symbol may be delisted\n",
      "- CHOWN: No data found, symbol may be delisted\n",
      "- MARGIN: No data found, symbol may be delisted\n",
      "- FGAN: No data found, symbol may be delisted\n",
      "- JUMP: No data found, symbol may be delisted\n",
      "- SMOL: No data found for this date range, symbol may be delisted\n",
      "- BOLDNESS: No data found, symbol may be delisted\n",
      "- APPL: No data found for this date range, symbol may be delisted\n",
      "- CLOVPOSTING: No data found, symbol may be delisted\n",
      "- ATE: No data found for this date range, symbol may be delisted\n",
      "- MOUTH: No data found, symbol may be delisted\n",
      "- JIQQ: No data found, symbol may be delisted\n",
      "- XX: No data found for this date range, symbol may be delisted\n",
      "- AFGAN: No data found, symbol may be delisted\n",
      "- POOP: No data found, symbol may be delisted\n",
      "- NVIDA: No data found, symbol may be delisted\n",
      "- HIT: No data found for this date range, symbol may be delisted\n",
      "- DEEZ: No data found, symbol may be delisted\n",
      "- TALI: No data found, symbol may be delisted\n",
      "- EJ: No data found for this date range, symbol may be delisted\n",
      "- COMET: No data found, symbol may be delisted\n",
      "- BUX: No data found for this date range, symbol may be delisted\n",
      "- WENDYS: No data found, symbol may be delisted\n",
      "- KOA: No data found for this date range, symbol may be delisted\n",
      "- TLBN: No data found, symbol may be delisted\n",
      "- BEER: No data found for this date range, symbol may be delisted\n",
      "- CUMPLTR: No data found, symbol may be delisted\n",
      "- NECK: No data found, symbol may be delisted\n",
      "- DICK: No data found, symbol may be delisted\n",
      "- HOODBOYS: No data found, symbol may be delisted\n",
      "- BALLS: No data found, symbol may be delisted\n",
      "- DN: No data found for this date range, symbol may be delisted\n",
      "- CUM: No data found for this date range, symbol may be delisted\n",
      "- RUT: No data found for this date range, symbol may be delisted\n",
      "- PROBE: No data found, symbol may be delisted\n",
      "- LIGMA: No data found, symbol may be delisted\n",
      "- HOT: No data found for this date range, symbol may be delisted\n",
      "- FPAD: No data found, symbol may be delisted\n",
      "- TBAN: No data found, symbol may be delisted\n",
      "- ZYNGA: No data found, symbol may be delisted\n",
      "- ASS: No data found for this date range, symbol may be delisted\n",
      "- SPX: No data found for this date range, symbol may be delisted\n",
      "- GOMD: No data found for this date range, symbol may be delisted\n",
      "- SKYNET: No data found, symbol may be delisted\n",
      "- PENNETRATED: No data found, symbol may be delisted\n",
      "- MLSD: No data found, symbol may be delisted\n",
      "- LUKAKU: No data found, symbol may be delisted\n",
      "- CYBIN: No data found, symbol may be delisted\n",
      "- XIV: No data found, symbol may be delisted\n",
      "- SPRM: No data found, symbol may be delisted\n",
      "- WASS: No data found, symbol may be delisted\n",
      "- CUMS: No data found, symbol may be delisted\n",
      "- AMMO: No data found, symbol may be delisted\n",
      "- BOMB: No data found, symbol may be delisted\n",
      "- TITS: No data found, symbol may be delisted\n",
      "- CMPZ: No data found, symbol may be delisted\n",
      "- TALL: No data found for this date range, symbol may be delisted\n",
      "- VIX: None\n",
      "- STRESSFREELIVING: No data found, symbol may be delisted\n",
      "- ARSENAL: No data found, symbol may be delisted\n",
      "- BECKY: No data found, symbol may be delisted\n",
      "- KITE: None\n",
      "- GOURD: No data found, symbol may be delisted\n",
      "- ROPE: No data found, symbol may be delisted\n",
      "- POOPDIK: No data found, symbol may be delisted\n",
      "- MOUNTAINS: No data found, symbol may be delisted\n",
      "- FART: No data found, symbol may be delisted\n",
      "- CJNG: No data found, symbol may be delisted\n",
      "- HOODWINKED: No data found, symbol may be delisted\n",
      "CPU times: user 17.5 s, sys: 860 ms, total: 18.3 s\n",
      "Wall time: 1min 22s\n"
     ]
    }
   ],
   "source": [
    "%%time\n",
    "import yfinance as yf\n",
    "comp_prices = pd.DataFrame()\n",
    "for comp in m_com:\n",
    "    tick = yf.Ticker(comp)\n",
    "    if tick:\n",
    "        dat = tick.history(start='2021-08-01', end='2021-08-31')\n",
    "        dat['Delta'] = dat['Close']-dat['Open']\n",
    "        dat['Ticker'] = comp\n",
    "        comp_prices = comp_prices.append(dat)\n",
    "comp_prices = comp_prices.reset_index(drop=False)\n",
    "df_prices=comp_prices[['Ticker','Date','Open','Close','Delta']]"
   ]
  },
  {
   "cell_type": "code",
   "execution_count": 75,
   "id": "absent-fabric",
   "metadata": {},
   "outputs": [
    {
     "data": {
      "text/html": [
       "<div>\n",
       "<style scoped>\n",
       "    .dataframe tbody tr th:only-of-type {\n",
       "        vertical-align: middle;\n",
       "    }\n",
       "\n",
       "    .dataframe tbody tr th {\n",
       "        vertical-align: top;\n",
       "    }\n",
       "\n",
       "    .dataframe thead th {\n",
       "        text-align: right;\n",
       "    }\n",
       "</style>\n",
       "<table border=\"1\" class=\"dataframe\">\n",
       "  <thead>\n",
       "    <tr style=\"text-align: right;\">\n",
       "      <th></th>\n",
       "      <th>Ticker</th>\n",
       "      <th>Date</th>\n",
       "      <th>Open</th>\n",
       "      <th>Close</th>\n",
       "      <th>Delta</th>\n",
       "    </tr>\n",
       "  </thead>\n",
       "  <tbody>\n",
       "    <tr>\n",
       "      <th>0</th>\n",
       "      <td>sdc</td>\n",
       "      <td>2021-08-02</td>\n",
       "      <td>7.05</td>\n",
       "      <td>7.23</td>\n",
       "      <td>0.18</td>\n",
       "    </tr>\n",
       "    <tr>\n",
       "      <th>1</th>\n",
       "      <td>sdc</td>\n",
       "      <td>2021-08-03</td>\n",
       "      <td>7.21</td>\n",
       "      <td>6.98</td>\n",
       "      <td>-0.23</td>\n",
       "    </tr>\n",
       "    <tr>\n",
       "      <th>2</th>\n",
       "      <td>sdc</td>\n",
       "      <td>2021-08-04</td>\n",
       "      <td>6.87</td>\n",
       "      <td>6.77</td>\n",
       "      <td>-0.10</td>\n",
       "    </tr>\n",
       "    <tr>\n",
       "      <th>3</th>\n",
       "      <td>sdc</td>\n",
       "      <td>2021-08-05</td>\n",
       "      <td>6.81</td>\n",
       "      <td>6.95</td>\n",
       "      <td>0.14</td>\n",
       "    </tr>\n",
       "    <tr>\n",
       "      <th>4</th>\n",
       "      <td>sdc</td>\n",
       "      <td>2021-08-06</td>\n",
       "      <td>6.91</td>\n",
       "      <td>6.83</td>\n",
       "      <td>-0.08</td>\n",
       "    </tr>\n",
       "  </tbody>\n",
       "</table>\n",
       "</div>"
      ],
      "text/plain": [
       "  Ticker       Date  Open  Close  Delta\n",
       "0    sdc 2021-08-02  7.05   7.23   0.18\n",
       "1    sdc 2021-08-03  7.21   6.98  -0.23\n",
       "2    sdc 2021-08-04  6.87   6.77  -0.10\n",
       "3    sdc 2021-08-05  6.81   6.95   0.14\n",
       "4    sdc 2021-08-06  6.91   6.83  -0.08"
      ]
     },
     "execution_count": 75,
     "metadata": {},
     "output_type": "execute_result"
    }
   ],
   "source": [
    "df_prices.head()"
   ]
  },
  {
   "cell_type": "code",
   "execution_count": 76,
   "id": "moving-inclusion",
   "metadata": {},
   "outputs": [
    {
     "name": "stdout",
     "output_type": "stream",
     "text": [
      "Number of companies after validation:  294\n"
     ]
    }
   ],
   "source": [
    "print('Number of companies after validation: ', len(df_prices.Ticker.unique()))\n",
    "comps=df_prices.Ticker.unique()"
   ]
  },
  {
   "cell_type": "code",
   "execution_count": 158,
   "id": "exotic-belief",
   "metadata": {},
   "outputs": [
    {
     "data": {
      "text/plain": [
       "array(['sdc', 'leg', 'adm', 'crm', 'grwg', 'd', 'tt', 'coty', 'cpop',\n",
       "       'open', 'gdrx', 'abnb', 'amd', 'cvna', 'rgbp', 'pcg', 'fubo',\n",
       "       'jblu', 'dq', 'nio', 'mj', 'u', 'rrgb', 'alb', 'wmt', 'crsr',\n",
       "       'low', 'zim', 'psfe', 'dfen', 'roku', 'tup', 'panw', 'gme', 'dnut',\n",
       "       'clov', 'cvs', 'paya', 'wix', 'dash', 'zm', 'spce', 'sndl', 'bark',\n",
       "       'aso', 'unh', 'bud', 'ms', 'coin', 'base', 'mrna', 'lmt', 'ecvt',\n",
       "       'spot', 'nkla', 'tal', 'lc', 'nvda', 'vxx', 'tr', 'corn', 'sony',\n",
       "       'csco', 's', 'astr', 'dkng', 'uvxy', 'save', 'mnst', 'x', 'eat',\n",
       "       'dis', 'pypl', 'snps', 'sq', 'igt', 'crnt', 'carr', 'coke', 'rblx',\n",
       "       'me', 'clf', 'hood', 'azn', 'grom', 'play', 'luv', 'bili', 'nflx',\n",
       "       'fvrr', 'maxr', 'ejh', 'geni', 'mdlz', 'fsm', 'amc', 'khc', 'ater',\n",
       "       'b', 'baba', 'cat', 'ge', 'jmia', 'jack', 'su', 'vzio', 'amzn',\n",
       "       'xl', 'ed', 'azz', 'uwmc', 'webr', 'spy', 'tsla', 'qs', 'zbra',\n",
       "       'afrm', 'pbya', 'pton', 'stla', 'manu', 'clne', 'root', 'gaymf',\n",
       "       'gld', 'mmnd', 'asml', 'mu', 'et', 'atvi', 'gm', 'hyln', 'ftch',\n",
       "       'pltr', 'viac', 'jd', 'car', 'tdoc', 'alto', 'you', 'hog', 'cvsi',\n",
       "       'arw', 'm', 'ibkr', 'axsm', 'y', 'vym', 'hut', 'fas', 'spxu',\n",
       "       'jepi', 'simp', 'gt', 'cmp', 'pins', 'wish', 'ha', 'crsp', 'goog',\n",
       "       'ship', 'sklz', 'mo', 'xlf', 'bngo', 'mrvl', 'rgr', 'aal', 'twlo',\n",
       "       'lcid', 'cron', 'ba', 'mrk', 'dow', 'dude', 'job', 'rtx', 'fxlv',\n",
       "       'cook', 'flws', 'posh', 'nvax', 'ftnt', 'snap', 'se', 'msft',\n",
       "       'cyxt', 'tch', 'tlt', 'tgt', 'ndaq', 'rklb', 'hexo', 'sgmd',\n",
       "       'edit', 'crwd', 'sens', 'wfc', 'muds', 'bntx', 'sbux', 'shop',\n",
       "       'etsy', 'sli', 'ally', 'chwy', 'land', 'hd', 'ebet', 'yinn',\n",
       "       'dooo', 'bb', 'abt', 'arkk', 'asts', 'dal', 'dole', 'sesn', 'dats',\n",
       "       'goev', 'four', 'wkhs', 'gis', 'ride', 'fnma', 'body', 'dnmr',\n",
       "       'bbig', 'riot', 'net', 'dia', 'mara', 'jnj', 'v', 'rkt', 'didi',\n",
       "       'upst', 'sava', 'woof', 'avpt', 'sofi', 'wen', 'ptra', 'tm',\n",
       "       'tlry', 'tell', 'wing', 'aapl', 'ida', 'zy', 'slqt', 'tcehy',\n",
       "       'rdnt', 'f', 'ntnx', 'xpo', 'celh', 'wwe', 't', 'apps', 'bac',\n",
       "       'nakd', 'ayx', 'nok', 'ely', 'indi', 'gold', 'pdd', 'amat', 'view',\n",
       "       'antm', 'zg', 'doyu', 'ap', 'googl', 'el', 'ccl', 'aci', 'bidu',\n",
       "       'ebay', 'pfe', 'j', 'negg', 'evgo', 'fb', 'vrns', 'tmf', 'mvst',\n",
       "       'gotu', 'pg', 'path', 'penn', 'znga', 'mcfe'], dtype=object)"
      ]
     },
     "execution_count": 158,
     "metadata": {},
     "output_type": "execute_result"
    }
   ],
   "source": [
    "comps"
   ]
  },
  {
   "cell_type": "markdown",
   "id": "precise-mapping",
   "metadata": {},
   "source": [
    "## Graph Section"
   ]
  },
  {
   "cell_type": "markdown",
   "id": "empty-monitoring",
   "metadata": {},
   "source": [
    "#### Project and dabase was manually created"
   ]
  },
  {
   "cell_type": "code",
   "execution_count": 77,
   "id": "relative-louisville",
   "metadata": {},
   "outputs": [],
   "source": [
    "#g = Graph(\"bolt://localhost:11006\", auth=('neo4j', 'admin'))\n",
    "g = Graph(\"bolt://localhost:11005\", auth=('new', 'admin'))"
   ]
  },
  {
   "cell_type": "code",
   "execution_count": 78,
   "id": "worse-zealand",
   "metadata": {},
   "outputs": [],
   "source": [
    "# # Create Post nodes\n",
    "# data=[]\n",
    "# posts=df_p\n",
    "# for i in range(len(posts)):\n",
    "#     x=posts.id[i]\n",
    "#     y=posts.title[i]\n",
    "#     z=str(posts.score[i])\n",
    "#     dict1 = {'id':x, 'title':y, 'score':z}\n",
    "#     data.append(dict1)\n",
    "# create_nodes(g.auto(), data, labels={\"Post\"})\n",
    "\n",
    "# #Create comments nodes\n",
    "# data=[]\n",
    "# comments=df_c\n",
    "# for i in range(len(comments)):\n",
    "#     x=comments.id[i]\n",
    "#     y=comments.body[i]\n",
    "#     z=str(comments.score[i])\n",
    "#     zz=comments.parentid[i]\n",
    "#     dict1 = {'id':x, 'title':y, 'score':z,'parentid':zz}\n",
    "#     data.append(dict1)\n",
    "\n",
    "# from itertools import islice\n",
    "# stream = iter(data)\n",
    "# batch_size = 10000\n",
    "# while True:\n",
    "#     batch = islice(stream, batch_size)\n",
    "#     if batch:\n",
    "#         create_nodes(g.auto(), batch, labels={\"Comment\"})\n",
    "#     else:\n",
    "#         break\n"
   ]
  },
  {
   "cell_type": "code",
   "execution_count": 79,
   "id": "aerial-collins",
   "metadata": {},
   "outputs": [
    {
     "data": {
      "text/plain": [
       "(122467, 12)"
      ]
     },
     "execution_count": 79,
     "metadata": {},
     "output_type": "execute_result"
    }
   ],
   "source": [
    "df_m.shape"
   ]
  },
  {
   "cell_type": "code",
   "execution_count": 80,
   "id": "typical-survey",
   "metadata": {},
   "outputs": [
    {
     "data": {
      "text/plain": [
       "(122467, 12)"
      ]
     },
     "execution_count": 80,
     "metadata": {},
     "output_type": "execute_result"
    }
   ],
   "source": [
    "# more cleanup to avoid special character issues.\n",
    "\n",
    "df_m=df_m[~df_m.c_body.str.contains('User Report')]\n",
    "df_m.reset_index(drop=True,inplace=True)\n",
    "df_m.shape"
   ]
  },
  {
   "cell_type": "code",
   "execution_count": 93,
   "id": "artistic-allocation",
   "metadata": {},
   "outputs": [
    {
     "data": {
      "text/html": [
       "<div>\n",
       "<style scoped>\n",
       "    .dataframe tbody tr th:only-of-type {\n",
       "        vertical-align: middle;\n",
       "    }\n",
       "\n",
       "    .dataframe tbody tr th {\n",
       "        vertical-align: top;\n",
       "    }\n",
       "\n",
       "    .dataframe thead th {\n",
       "        text-align: right;\n",
       "    }\n",
       "</style>\n",
       "<table border=\"1\" class=\"dataframe\">\n",
       "  <thead>\n",
       "    <tr style=\"text-align: right;\">\n",
       "      <th></th>\n",
       "      <th>p_id</th>\n",
       "      <th>p_created</th>\n",
       "      <th>p_permalink</th>\n",
       "      <th>p_title</th>\n",
       "      <th>p_score</th>\n",
       "      <th>c_id</th>\n",
       "      <th>c_created</th>\n",
       "      <th>c_permalink</th>\n",
       "      <th>c_body</th>\n",
       "      <th>c_score</th>\n",
       "      <th>parentid</th>\n",
       "      <th>topic_label</th>\n",
       "    </tr>\n",
       "  </thead>\n",
       "  <tbody>\n",
       "    <tr>\n",
       "      <th>0</th>\n",
       "      <td>pcuv2j</td>\n",
       "      <td>27</td>\n",
       "      <td>https://old.reddit.com/r/wallstreetbets/commen...</td>\n",
       "      <td>Weekend Discussion Thread for the Weekend of A...</td>\n",
       "      <td>404</td>\n",
       "      <td>hb423kx</td>\n",
       "      <td>31</td>\n",
       "      <td>https://old.reddit.com/r/wallstreetbets/commen...</td>\n",
       "      <td>Sauce?</td>\n",
       "      <td>1</td>\n",
       "      <td>pcuv2j</td>\n",
       "      <td>Administrative Removal of Content</td>\n",
       "    </tr>\n",
       "    <tr>\n",
       "      <th>1</th>\n",
       "      <td>pcuv2j</td>\n",
       "      <td>27</td>\n",
       "      <td>https://old.reddit.com/r/wallstreetbets/commen...</td>\n",
       "      <td>Weekend Discussion Thread for the Weekend of A...</td>\n",
       "      <td>404</td>\n",
       "      <td>hb2eohe</td>\n",
       "      <td>31</td>\n",
       "      <td>https://old.reddit.com/r/wallstreetbets/commen...</td>\n",
       "      <td>Yep enjoying the hurrication 🌀</td>\n",
       "      <td>2</td>\n",
       "      <td>pcuv2j</td>\n",
       "      <td>Gamestop &amp; AMC</td>\n",
       "    </tr>\n",
       "    <tr>\n",
       "      <th>2</th>\n",
       "      <td>pcuv2j</td>\n",
       "      <td>27</td>\n",
       "      <td>https://old.reddit.com/r/wallstreetbets/commen...</td>\n",
       "      <td>Weekend Discussion Thread for the Weekend of A...</td>\n",
       "      <td>404</td>\n",
       "      <td>hb08nna</td>\n",
       "      <td>30</td>\n",
       "      <td>https://old.reddit.com/r/wallstreetbets/commen...</td>\n",
       "      <td>&amp;amp;#x200B;\\n\\nSettle down, Nancy.</td>\n",
       "      <td>1</td>\n",
       "      <td>pcuv2j</td>\n",
       "      <td>Todays Occurrences</td>\n",
       "    </tr>\n",
       "    <tr>\n",
       "      <th>3</th>\n",
       "      <td>pcuv2j</td>\n",
       "      <td>27</td>\n",
       "      <td>https://old.reddit.com/r/wallstreetbets/commen...</td>\n",
       "      <td>Weekend Discussion Thread for the Weekend of A...</td>\n",
       "      <td>404</td>\n",
       "      <td>hb08dl8</td>\n",
       "      <td>30</td>\n",
       "      <td>https://old.reddit.com/r/wallstreetbets/commen...</td>\n",
       "      <td>So is Vandelay Industries</td>\n",
       "      <td>1</td>\n",
       "      <td>pcuv2j</td>\n",
       "      <td>Administrative Removal of Content</td>\n",
       "    </tr>\n",
       "    <tr>\n",
       "      <th>4</th>\n",
       "      <td>pcuv2j</td>\n",
       "      <td>27</td>\n",
       "      <td>https://old.reddit.com/r/wallstreetbets/commen...</td>\n",
       "      <td>Weekend Discussion Thread for the Weekend of A...</td>\n",
       "      <td>404</td>\n",
       "      <td>hazb0e6</td>\n",
       "      <td>30</td>\n",
       "      <td>https://old.reddit.com/r/wallstreetbets/commen...</td>\n",
       "      <td>I just want you to know that having not bought...</td>\n",
       "      <td>1</td>\n",
       "      <td>pcuv2j</td>\n",
       "      <td>Timing</td>\n",
       "    </tr>\n",
       "  </tbody>\n",
       "</table>\n",
       "</div>"
      ],
      "text/plain": [
       "     p_id p_created                                        p_permalink  \\\n",
       "0  pcuv2j        27  https://old.reddit.com/r/wallstreetbets/commen...   \n",
       "1  pcuv2j        27  https://old.reddit.com/r/wallstreetbets/commen...   \n",
       "2  pcuv2j        27  https://old.reddit.com/r/wallstreetbets/commen...   \n",
       "3  pcuv2j        27  https://old.reddit.com/r/wallstreetbets/commen...   \n",
       "4  pcuv2j        27  https://old.reddit.com/r/wallstreetbets/commen...   \n",
       "\n",
       "                                             p_title  p_score     c_id  \\\n",
       "0  Weekend Discussion Thread for the Weekend of A...      404  hb423kx   \n",
       "1  Weekend Discussion Thread for the Weekend of A...      404  hb2eohe   \n",
       "2  Weekend Discussion Thread for the Weekend of A...      404  hb08nna   \n",
       "3  Weekend Discussion Thread for the Weekend of A...      404  hb08dl8   \n",
       "4  Weekend Discussion Thread for the Weekend of A...      404  hazb0e6   \n",
       "\n",
       "  c_created                                        c_permalink  \\\n",
       "0        31  https://old.reddit.com/r/wallstreetbets/commen...   \n",
       "1        31  https://old.reddit.com/r/wallstreetbets/commen...   \n",
       "2        30  https://old.reddit.com/r/wallstreetbets/commen...   \n",
       "3        30  https://old.reddit.com/r/wallstreetbets/commen...   \n",
       "4        30  https://old.reddit.com/r/wallstreetbets/commen...   \n",
       "\n",
       "                                              c_body  c_score parentid  \\\n",
       "0                                             Sauce?        1   pcuv2j   \n",
       "1                     Yep enjoying the hurrication 🌀        2   pcuv2j   \n",
       "2                &amp;#x200B;\\n\\nSettle down, Nancy.        1   pcuv2j   \n",
       "3                          So is Vandelay Industries        1   pcuv2j   \n",
       "4  I just want you to know that having not bought...        1   pcuv2j   \n",
       "\n",
       "                         topic_label  \n",
       "0  Administrative Removal of Content  \n",
       "1                     Gamestop & AMC  \n",
       "2                 Todays Occurrences  \n",
       "3  Administrative Removal of Content  \n",
       "4                             Timing  "
      ]
     },
     "execution_count": 93,
     "metadata": {},
     "output_type": "execute_result"
    }
   ],
   "source": [
    "df_m.head()"
   ]
  },
  {
   "cell_type": "code",
   "execution_count": 127,
   "id": "ethical-subject",
   "metadata": {},
   "outputs": [
    {
     "name": "stdout",
     "output_type": "stream",
     "text": [
      "CPU times: user 26min 59s, sys: 50.7 s, total: 27min 50s\n",
      "Wall time: 2h 1min 56s\n"
     ]
    }
   ],
   "source": [
    "%%time\n",
    "# This code creates nodes and relationship between nodes\n",
    "dict1={x:None for x in comps}\n",
    "for i in range(len(df_m)):\n",
    "    p_id = df_m.p_id[i]\n",
    "    pnode = g.nodes.match(\"POST\", p_id=p_id).first()\n",
    "    a #node variable\n",
    "    if not pnode:\n",
    "        a = Node(\"POST\", p_id=df_m.p_id[i], \n",
    "                 title=df_m.p_title[i], \n",
    "                 score=str(df_m.p_score[i]), \n",
    "                 created=str(df_m.p_created[i]))\n",
    "        a.__primarylabel__ = \"POST\"\n",
    "        a.__primarykey__ = \"p_id\"\n",
    "    else:\n",
    "        a=pnode\n",
    "    \n",
    "    b = Node(\"COMMENT\", c_id=df_m.c_id[i], \n",
    "             body=df_m.c_body[i], \n",
    "             score=str(df_m.c_score[i]), \n",
    "             parentid=df_m.parentid[i], \n",
    "             created=str(df_m.c_created[i]),\n",
    "             topic=df_m.topic_label[i])\n",
    "    b.__primarylabel__ = \"COMMENT\"\n",
    "    b.__primarykey__ = \"c_id\"\n",
    "    HAS = Relationship.type(\"HAS\")\n",
    "    g.merge(HAS(a, b)) # Relations between post and comment\n",
    "    \n",
    "    \n",
    "# Post has no company mentioned hence removing that block of code:\n",
    "\n",
    "# Matching company mentioned in comment's body with extracted and validated company list\n",
    "    \n",
    "    keywords = r.apply(df_m.c_body[i])\n",
    "    m_com=[]\n",
    "     \n",
    "    if len(keywords) > 0:\n",
    "        for i in range(len(keywords)):\n",
    "            result = re.search(\"\\$(\\w+)\", keywords[i][0])\n",
    "            if result and result.group(1).isalpha():\n",
    "                m_com.append(result.group(1))\n",
    "\n",
    "        for i in m_com:\n",
    "            tt=[]\n",
    "            for x in i.split():\n",
    "                if x in comps:  \n",
    "                    compnode = g.nodes.match(\"COMPANY\", name=x).first()\n",
    "                    c=None # company node variable\n",
    "                    if not compnode:\n",
    "                        c = Node(\"COMPANY\", name=x)\n",
    "                        c.__primarylabel__ = \"COMPANY\"\n",
    "                        c.__primarykey__ = \"name\"\n",
    "                    else:\n",
    "                        c=compnode\n",
    "                    \n",
    "                    MENTIONS = Relationship.type(\"MENTIONS\")\n",
    "                    g.merge(MENTIONS(b, c)) # Relations between comment and companies mentioned\n",
    "                    \n",
    "                    sp=df_prices[df_prices.Ticker==x]\n",
    "                    sp.reset_index(drop=True,inplace=True)\n",
    "                    if not dict1[x]:\n",
    "                        \n",
    "                        dict1[x]=True\n",
    "                        for j in range(len(sp)):\n",
    "                            d = Node(\"STOCKPRICE\", created=str(sp.Date[j]), \n",
    "                                     name=x+str(sp.Date[j]),\n",
    "                                     sopen=str(sp.Open[j]), \n",
    "                                     sclose=str(sp.Close[j]), \n",
    "                                     diff=str(sp.Delta[j]))\n",
    "                            d.__primarylabel__ = \"STOCKPRICE\"\n",
    "                            d.__primarykey__ = \"name\"\n",
    "                            ACTIVITY = Relationship.type(\"ACTIVITY\")\n",
    "                            g.merge(ACTIVITY(c, d)) # Relations between company and price movement"
   ]
  },
  {
   "cell_type": "code",
   "execution_count": null,
   "id": "velvet-agreement",
   "metadata": {},
   "outputs": [],
   "source": []
  },
  {
   "cell_type": "code",
   "execution_count": 125,
   "id": "injured-preparation",
   "metadata": {},
   "outputs": [],
   "source": [
    "# g.delete_all()"
   ]
  },
  {
   "cell_type": "code",
   "execution_count": 129,
   "id": "retired-excess",
   "metadata": {},
   "outputs": [
    {
     "data": {
      "text/plain": [
       "122467"
      ]
     },
     "execution_count": 129,
     "metadata": {},
     "output_type": "execute_result"
    }
   ],
   "source": [
    "g.nodes.match(\"COMMENT\").count()"
   ]
  },
  {
   "cell_type": "markdown",
   "id": "referenced-practice",
   "metadata": {},
   "source": [
    "## Graph Queries"
   ]
  },
  {
   "cell_type": "markdown",
   "id": "hollywood-longer",
   "metadata": {},
   "source": [
    "### Most popular Post"
   ]
  },
  {
   "cell_type": "code",
   "execution_count": 130,
   "id": "instrumental-mumbai",
   "metadata": {},
   "outputs": [
    {
     "data": {
      "text/html": [
       "<table><tr><th>p.p_id</th><th>p.title</th><th>p.score</th></tr><tr><td style=\"text-align:left\">pak91h</td><td style=\"text-align:left\">Daily Discussion Thread for August 24, 2021</td><td style=\"text-align:left\">502</td></tr></table>"
      ],
      "text/plain": [
       " p.p_id | p.title                                     | p.score \n",
       "--------|---------------------------------------------|---------\n",
       " pak91h | Daily Discussion Thread for August 24, 2021 | 502     "
      ]
     },
     "execution_count": 130,
     "metadata": {},
     "output_type": "execute_result"
    }
   ],
   "source": [
    "g.run(\"match (p:POST)  return p.p_id, p.title,p.score order by p.score desc limit 1\")"
   ]
  },
  {
   "cell_type": "markdown",
   "id": "driving-donor",
   "metadata": {},
   "source": [
    "### Most popular Comment"
   ]
  },
  {
   "cell_type": "code",
   "execution_count": 131,
   "id": "expensive-advantage",
   "metadata": {},
   "outputs": [
    {
     "data": {
      "text/html": [
       "<table><tr><th>p.c_id</th><th>p.body</th><th>p.score</th></tr><tr><td style=\"text-align:left\">halme9b</td><td style=\"text-align:left\">Hit half mil net worth today, thank you JPOW and WSB.</td><td style=\"text-align:left\">98</td></tr></table>"
      ],
      "text/plain": [
       " p.c_id  | p.body                                                | p.score \n",
       "---------|-------------------------------------------------------|---------\n",
       " halme9b | Hit half mil net worth today, thank you JPOW and WSB. | 98      "
      ]
     },
     "execution_count": 131,
     "metadata": {},
     "output_type": "execute_result"
    }
   ],
   "source": [
    "g.run(\"match (p:COMMENT) return p.c_id,p.body, p.score order by p.score desc limit 1\")"
   ]
  },
  {
   "cell_type": "markdown",
   "id": "convinced-enemy",
   "metadata": {},
   "source": [
    "### Most Commented Post"
   ]
  },
  {
   "cell_type": "code",
   "execution_count": 132,
   "id": "atomic-hypothesis",
   "metadata": {},
   "outputs": [
    {
     "data": {
      "text/html": [
       "<table><tr><th>p.p_id</th><th>p.title</th><th>num</th></tr><tr><td style=\"text-align:left\">p3sv76</td><td style=\"text-align:left\">Weekend Discussion Thread for the Weekend of August 13, 2021</td><td style=\"text-align:right\">19259</td></tr></table>"
      ],
      "text/plain": [
       " p.p_id | p.title                                                      |   num \n",
       "--------|--------------------------------------------------------------|-------\n",
       " p3sv76 | Weekend Discussion Thread for the Weekend of August 13, 2021 | 19259 "
      ]
     },
     "execution_count": 132,
     "metadata": {},
     "output_type": "execute_result"
    }
   ],
   "source": [
    "g.run(\"match (p:POST) -[e:HAS] -> (c:COMMENT) return p.p_id,p.title, count(e) as num order by num desc limit 1\")"
   ]
  },
  {
   "cell_type": "markdown",
   "id": "foster-bottom",
   "metadata": {},
   "source": [
    "### Most mentioned company"
   ]
  },
  {
   "cell_type": "code",
   "execution_count": 133,
   "id": "sapphire-shame",
   "metadata": {},
   "outputs": [
    {
     "data": {
      "text/html": [
       "<table><tr><th>Name</th><th>num</th></tr><tr><td style=\"text-align:left\">hood</td><td style=\"text-align:right\">199</td></tr></table>"
      ],
      "text/plain": [
       " Name | num \n",
       "------|-----\n",
       " hood | 199 "
      ]
     },
     "execution_count": 133,
     "metadata": {},
     "output_type": "execute_result"
    }
   ],
   "source": [
    "g.run(\"match (c:COMMENT) -[e:MENTIONS] -> (com:COMPANY) return com.name as Name, count(e) as num order by num desc limit 1\")"
   ]
  },
  {
   "cell_type": "markdown",
   "id": "caroline-aluminum",
   "metadata": {},
   "source": [
    "### Lifetime of posts"
   ]
  },
  {
   "cell_type": "code",
   "execution_count": 134,
   "id": "strange-reflection",
   "metadata": {},
   "outputs": [
    {
     "data": {
      "text/html": [
       "<table><tr><th>p.title</th><th>toInteger(c.created)-toInteger(p.created)</th><th>num</th></tr><tr><td style=\"text-align:left\">Daily Discussion Thread for August 19, 2021</td><td style=\"text-align:right\">0</td><td style=\"text-align:right\">13272</td></tr><tr><td style=\"text-align:left\">Daily Discussion Thread for August 24, 2021</td><td style=\"text-align:right\">0</td><td style=\"text-align:right\">12550</td></tr><tr><td style=\"text-align:left\">Daily Discussion Thread for August 04, 2021</td><td style=\"text-align:right\">0</td><td style=\"text-align:right\">12277</td></tr></table>"
      ],
      "text/plain": [
       " p.title                                     | toInteger(c.created)-toInteger(p.created) |   num \n",
       "---------------------------------------------|-------------------------------------------|-------\n",
       " Daily Discussion Thread for August 19, 2021 |                                         0 | 13272 \n",
       " Daily Discussion Thread for August 24, 2021 |                                         0 | 12550 \n",
       " Daily Discussion Thread for August 04, 2021 |                                         0 | 12277 "
      ]
     },
     "execution_count": 134,
     "metadata": {},
     "output_type": "execute_result"
    }
   ],
   "source": [
    "\n",
    "g.run(\"match (p:POST) -[e:HAS] ->(c:COMMENT) return p.title,toInteger(c.created)-toInteger(p.created), count(c) as num order by num desc\")\n"
   ]
  },
  {
   "cell_type": "markdown",
   "id": "artificial-iceland",
   "metadata": {},
   "source": [
    "### Stock price - social activity corelation"
   ]
  },
  {
   "cell_type": "code",
   "execution_count": 152,
   "id": "framed-boxing",
   "metadata": {},
   "outputs": [
    {
     "data": {
      "text/html": [
       "<table><tr><th>po.title</th><th>numComments</th><th>com.name</th><th>po.created</th><th>substring(s.created,8,2)</th><th>val</th></tr><tr><td style=\"text-align:left\">Weekend Discussion Thread for the Weekend of August 27, 2021</td><td style=\"text-align:right\">5</td><td style=\"text-align:left\">bbig</td><td style=\"text-align:left\">27</td><td style=\"text-align:left\">27</td><td style=\"text-align:right\">50.14164967962419</td></tr><tr><td style=\"text-align:left\">Weekend Discussion Thread for the Weekend of August 27, 2021</td><td style=\"text-align:right\">1</td><td style=\"text-align:left\">ater</td><td style=\"text-align:left\">27</td><td style=\"text-align:left\">27</td><td style=\"text-align:right\">47.14423931778589</td></tr><tr><td style=\"text-align:left\">Daily Discussion Thread for August 04, 2021</td><td style=\"text-align:right\">164</td><td style=\"text-align:left\">hood</td><td style=\"text-align:left\">04</td><td style=\"text-align:left\">04</td><td style=\"text-align:right\">29.27456088771682</td></tr></table>"
      ],
      "text/plain": [
       " po.title                                                     | numComments | com.name | po.created | substring(s.created,8,2) |               val \n",
       "--------------------------------------------------------------|-------------|----------|------------|--------------------------|-------------------\n",
       " Weekend Discussion Thread for the Weekend of August 27, 2021 |           5 | bbig     | 27         | 27                       | 50.14164967962419 \n",
       " Weekend Discussion Thread for the Weekend of August 27, 2021 |           1 | ater     | 27         | 27                       | 47.14423931778589 \n",
       " Daily Discussion Thread for August 04, 2021                  |         164 | hood     | 04         | 04                       | 29.27456088771682 "
      ]
     },
     "execution_count": 152,
     "metadata": {},
     "output_type": "execute_result"
    }
   ],
   "source": [
    "g.run(\"match (po:POST) -[e:HAS] ->(c:COMMENT),\\\n",
    "(com:COMPANY) -[e1:ACTIVITY]-(s:STOCKPRICE),\\\n",
    "(c) - [e2:MENTIONS] -> (com)\\\n",
    "where toFloat(s.sopen) > 0  and po.created = substring(s.created,8,2)\\\n",
    "return po.title,count(com) as numComments, \\\n",
    "      com.name,po.created, \\\n",
    "      substring(s.created,8,2), \\\n",
    "      (toFloat(s.diff) / toFloat(s.sopen)) * 100 as val \\\n",
    "      order by val desc \")"
   ]
  },
  {
   "cell_type": "code",
   "execution_count": 150,
   "id": "quarterly-relaxation",
   "metadata": {},
   "outputs": [
    {
     "data": {
      "text/html": [
       "<table><tr><th>po.title</th><th>numComments</th><th>com.name</th><th>po.created</th><th>substring(s.created,8,2)</th><th>val</th></tr><tr><td style=\"text-align:left\">Weekend Discussion Thread for the Weekend of August 13, 2021</td><td style=\"text-align:right\">1</td><td style=\"text-align:left\">grwg</td><td style=\"text-align:left\">13</td><td style=\"text-align:left\">13</td><td style=\"text-align:right\">-12.308549415414372</td></tr><tr><td style=\"text-align:left\">Daily Discussion Thread for August 24, 2021</td><td style=\"text-align:right\">1</td><td style=\"text-align:left\">dats</td><td style=\"text-align:left\">24</td><td style=\"text-align:left\">24</td><td style=\"text-align:right\">-12.011576585155803</td></tr><tr><td style=\"text-align:left\">Daily Discussion Thread for August 04, 2021</td><td style=\"text-align:right\">1</td><td style=\"text-align:left\">ejh</td><td style=\"text-align:left\">04</td><td style=\"text-align:left\">04</td><td style=\"text-align:right\">-10.319094991031694</td></tr></table>"
      ],
      "text/plain": [
       " po.title                                                     | numComments | com.name | po.created | substring(s.created,8,2) |                 val \n",
       "--------------------------------------------------------------|-------------|----------|------------|--------------------------|---------------------\n",
       " Weekend Discussion Thread for the Weekend of August 13, 2021 |           1 | grwg     | 13         | 13                       | -12.308549415414372 \n",
       " Daily Discussion Thread for August 24, 2021                  |           1 | dats     | 24         | 24                       | -12.011576585155803 \n",
       " Daily Discussion Thread for August 04, 2021                  |           1 | ejh      | 04         | 04                       | -10.319094991031694 "
      ]
     },
     "execution_count": 150,
     "metadata": {},
     "output_type": "execute_result"
    }
   ],
   "source": [
    "g.run(\"match (po:POST) -[e:HAS] ->(c:COMMENT),\\\n",
    "(com:COMPANY) -[e1:ACTIVITY]-(s:STOCKPRICE),\\\n",
    "(c) - [e2:MENTIONS] -> (com)\\\n",
    "where toFloat(s.sopen) > 0  and po.created = substring(s.created,8,2)\\\n",
    "return po.title,count(com) as numComments, \\\n",
    "      com.name,po.created, \\\n",
    "      substring(s.created,8,2), \\\n",
    "      (toFloat(s.diff) / toFloat(s.sopen)) * 100 as val \\\n",
    "      order by val asc \")"
   ]
  },
  {
   "cell_type": "code",
   "execution_count": null,
   "id": "single-cursor",
   "metadata": {},
   "outputs": [],
   "source": []
  }
 ],
 "metadata": {
  "kernelspec": {
   "display_name": "Python 3",
   "language": "python",
   "name": "python3"
  },
  "language_info": {
   "codemirror_mode": {
    "name": "ipython",
    "version": 3
   },
   "file_extension": ".py",
   "mimetype": "text/x-python",
   "name": "python",
   "nbconvert_exporter": "python",
   "pygments_lexer": "ipython3",
   "version": "3.8.5"
  }
 },
 "nbformat": 4,
 "nbformat_minor": 5
}
